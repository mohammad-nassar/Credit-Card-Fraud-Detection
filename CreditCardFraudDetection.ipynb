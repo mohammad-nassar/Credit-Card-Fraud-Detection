{
  "nbformat": 4,
  "nbformat_minor": 0,
  "metadata": {
    "kernelspec": {
      "display_name": "Python 3",
      "language": "python",
      "name": "python3"
    },
    "language_info": {
      "codemirror_mode": {
        "name": "ipython",
        "version": 3
      },
      "file_extension": ".py",
      "mimetype": "text/x-python",
      "name": "python",
      "nbconvert_exporter": "python",
      "pygments_lexer": "ipython3",
      "version": "3.7.4"
    },
    "colab": {
      "name": "CreditCardFraudDetection.ipynb",
      "provenance": []
    }
  },
  "cells": [
    {
      "cell_type": "markdown",
      "metadata": {
        "id": "s6BVNOhHFwQQ",
        "colab_type": "text"
      },
      "source": [
        "# Linear Algebra (Credit card fraud detection)\n",
        "\n",
        "Please download the data from https://www.kaggle.com/dalpozz/creditcardfraud/data\n",
        "\n",
        "Info about data: it is a CSV file, contains 31 features, the last feature is used to classify the transaction whether it is a fraud or not\n",
        "\n",
        "Task 1: please do proper analysis of the whole data, plot all relevant plots, note down all observations.\n",
        "\n",
        "Task 2: Let's define a matric\n",
        "\n",
        "similarity(i,j) = dot product (vi, vj) / length(vi) * length(vj)\n",
        "Take out any sample from the data set which contains no less than 100 transactions, for every transaction in the sample find out top 10 transactions in the dataset which have the highest similarity(i,j)."
      ]
    },
    {
      "cell_type": "code",
      "metadata": {
        "id": "7qf5Pl3tFwQS",
        "colab_type": "code",
        "colab": {}
      },
      "source": [
        ""
      ],
      "execution_count": 0,
      "outputs": []
    },
    {
      "cell_type": "code",
      "metadata": {
        "id": "qj4vJhgIIE_l",
        "colab_type": "code",
        "colab": {
          "base_uri": "https://localhost:8080/",
          "height": 122
        },
        "outputId": "bfb0382d-b15f-4c0c-dedb-c08691bc9f4a"
      },
      "source": [
        "from google.colab import drive\n",
        "drive.mount('/content/gdrive', force_remount=True)"
      ],
      "execution_count": 1,
      "outputs": [
        {
          "output_type": "stream",
          "text": [
            "Go to this URL in a browser: https://accounts.google.com/o/oauth2/auth?client_id=947318989803-6bn6qk8qdgf4n4g3pfee6491hc0brc4i.apps.googleusercontent.com&redirect_uri=urn%3aietf%3awg%3aoauth%3a2.0%3aoob&response_type=code&scope=email%20https%3a%2f%2fwww.googleapis.com%2fauth%2fdocs.test%20https%3a%2f%2fwww.googleapis.com%2fauth%2fdrive%20https%3a%2f%2fwww.googleapis.com%2fauth%2fdrive.photos.readonly%20https%3a%2f%2fwww.googleapis.com%2fauth%2fpeopleapi.readonly\n",
            "\n",
            "Enter your authorization code:\n",
            "··········\n",
            "Mounted at /content/gdrive\n"
          ],
          "name": "stdout"
        }
      ]
    },
    {
      "cell_type": "code",
      "metadata": {
        "id": "3zTlRkH1IaG_",
        "colab_type": "code",
        "colab": {}
      },
      "source": [
        "import os \n"
      ],
      "execution_count": 0,
      "outputs": []
    },
    {
      "cell_type": "code",
      "metadata": {
        "id": "ixAvYIe8IiL0",
        "colab_type": "code",
        "colab": {
          "base_uri": "https://localhost:8080/",
          "height": 136
        },
        "outputId": "2fe37172-9eca-458c-9388-e05ed0679b44"
      },
      "source": [
        "cwd = os.getcwd()\n",
        "print (cwd)\n",
        "!ls -lah"
      ],
      "execution_count": 4,
      "outputs": [
        {
          "output_type": "stream",
          "text": [
            "/content\n",
            "total 20K\n",
            "drwxr-xr-x 1 root root 4.0K May 25 16:19 .\n",
            "drwxr-xr-x 1 root root 4.0K May 25 16:08 ..\n",
            "drwxr-xr-x 1 root root 4.0K May 20 16:14 .config\n",
            "drwx------ 4 root root 4.0K May 25 16:19 gdrive\n",
            "drwxr-xr-x 1 root root 4.0K May 13 16:29 sample_data\n"
          ],
          "name": "stdout"
        }
      ]
    },
    {
      "cell_type": "code",
      "metadata": {
        "id": "G3A0ap2lIyC8",
        "colab_type": "code",
        "colab": {}
      },
      "source": [
        "os.chdir(\"/content/gdrive/My Drive/CreditCard\")"
      ],
      "execution_count": 0,
      "outputs": []
    },
    {
      "cell_type": "code",
      "metadata": {
        "id": "1TP0XZeDoomw",
        "colab_type": "code",
        "colab": {
          "base_uri": "https://localhost:8080/",
          "height": 34
        },
        "outputId": "5c6db204-ca7e-4702-9a4f-87fb8f1fe30a"
      },
      "source": [
        "!wc -l creditcard.csv\n"
      ],
      "execution_count": 12,
      "outputs": [
        {
          "output_type": "stream",
          "text": [
            "284808 creditcard.csv\n"
          ],
          "name": "stdout"
        }
      ]
    },
    {
      "cell_type": "code",
      "metadata": {
        "id": "J-Wz7MNKKbus",
        "colab_type": "code",
        "outputId": "af3eb216-8f14-420a-bb45-6bf3154e86a1",
        "colab": {
          "base_uri": "https://localhost:8080/",
          "height": 68
        }
      },
      "source": [
        "cwd = os.getcwd()\n",
        "print (cwd)\n",
        "!ls -lah"
      ],
      "execution_count": 13,
      "outputs": [
        {
          "output_type": "stream",
          "text": [
            "/content/gdrive/My Drive/CreditCard\n",
            "total 144M\n",
            "-rw------- 1 root root 144M Feb 29 08:20 creditcard.csv\n"
          ],
          "name": "stdout"
        }
      ]
    },
    {
      "cell_type": "code",
      "metadata": {
        "id": "yQFvJf4mKj2-",
        "colab_type": "code",
        "colab": {}
      },
      "source": [
        "import pandas as pd\n",
        "import seaborn as sns\n",
        "import matplotlib.pyplot as plt\n",
        "import numpy as np\n",
        "\n",
        "url = \"/content/gdrive/My Drive/CreditCard/creditcard.csv\"\n",
        "\n",
        "creditcard = pd.read_csv(url)\n",
        "\n",
        "creditcard.head()\n",
        "type(creditcard)"
      ],
      "execution_count": 0,
      "outputs": []
    },
    {
      "cell_type": "markdown",
      "metadata": {
        "id": "WXpnxtWRFwQW",
        "colab_type": "text"
      },
      "source": [
        "**Information about data set**\n",
        "\n",
        "The datasets contains transactions made by credit cards in September 2013 by european cardholders. This dataset presents transactions that occurred in two days, where we have 492 frauds out of 284,807 transactions. The dataset is highly unbalanced, the positive class (frauds) account for 0.172% of all transactions.\n",
        "\n",
        "It contains only numerical input variables which are the result of a PCA transformation. Unfortunately, due to confidentiality issues, we cannot provide the original features and more background information about the data. Features V1, V2, ... V28 are the principal components obtained with PCA, the only features which have not been transformed with PCA are 'Time' and 'Amount'. Feature 'Time' contains the seconds elapsed between each transaction and the first transaction in the dataset. The feature 'Amount' is the transaction Amount, this feature can be used for example-dependant cost-senstive learning. **Feature 'Class' is the response variable and it takes value 1 in case of fraud and 0 otherwise.**\n",
        "\n",
        "Given the class imbalance ratio, we recommend measuring the accuracy using the Area Under the Precision-Recall Curve (AUPRC). Confusion matrix accuracy is not meaningful for unbalanced classification.\n",
        "\n",
        "The dataset has been collected and analysed during a research collaboration of Worldline and the Machine Learning Group (http://mlg.ulb.ac.be) of ULB (Université Libre de Bruxelles) on big data mining and fraud detection. "
      ]
    },
    {
      "cell_type": "code",
      "metadata": {
        "id": "XS8Kp_VNFwQX",
        "colab_type": "code",
        "outputId": "abc7e45a-b4f9-48a9-c904-bafcc877ed63",
        "colab": {
          "base_uri": "https://localhost:8080/",
          "height": 34
        }
      },
      "source": [
        "print(creditcard.shape)"
      ],
      "execution_count": 15,
      "outputs": [
        {
          "output_type": "stream",
          "text": [
            "(284807, 31)\n"
          ],
          "name": "stdout"
        }
      ]
    },
    {
      "cell_type": "code",
      "metadata": {
        "id": "WsSJVyyYFwQa",
        "colab_type": "code",
        "outputId": "eb566914-2850-4626-8975-26b952f1f734",
        "colab": {
          "base_uri": "https://localhost:8080/",
          "height": 102
        }
      },
      "source": [
        "print(creditcard.columns)"
      ],
      "execution_count": 16,
      "outputs": [
        {
          "output_type": "stream",
          "text": [
            "Index(['Time', 'V1', 'V2', 'V3', 'V4', 'V5', 'V6', 'V7', 'V8', 'V9', 'V10',\n",
            "       'V11', 'V12', 'V13', 'V14', 'V15', 'V16', 'V17', 'V18', 'V19', 'V20',\n",
            "       'V21', 'V22', 'V23', 'V24', 'V25', 'V26', 'V27', 'V28', 'Amount',\n",
            "       'Class'],\n",
            "      dtype='object')\n"
          ],
          "name": "stdout"
        }
      ]
    },
    {
      "cell_type": "code",
      "metadata": {
        "id": "MQ3w5P7UFwQc",
        "colab_type": "code",
        "outputId": "f5170622-6f48-4d7c-a3a1-ca48be273fab",
        "colab": {}
      },
      "source": [
        "creditcard[\"Class\"].value_counts()"
      ],
      "execution_count": 0,
      "outputs": [
        {
          "output_type": "execute_result",
          "data": {
            "text/plain": [
              "0    284315\n",
              "1       492\n",
              "Name: Class, dtype: int64"
            ]
          },
          "metadata": {
            "tags": []
          },
          "execution_count": 4
        }
      ]
    },
    {
      "cell_type": "markdown",
      "metadata": {
        "id": "_aand_sJFwQf",
        "colab_type": "text"
      },
      "source": [
        "## 2-D Scatter Plot"
      ]
    },
    {
      "cell_type": "code",
      "metadata": {
        "id": "qHDOH4s0FwQg",
        "colab_type": "code",
        "outputId": "530594b3-d363-4f0a-bd05-9ab324e310ff",
        "colab": {}
      },
      "source": [
        "sns.set_style(\"whitegrid\")\n",
        "sns.FacetGrid(creditcard, hue=\"Class\", size = 6).map(plt.scatter, \"Time\", \"Amount\").add_legend()\n",
        "plt.show()"
      ],
      "execution_count": 0,
      "outputs": [
        {
          "output_type": "display_data",
          "data": {
            "image/png": "[encoded data removed]",
            "text/plain": [
              "<Figure size 473.625x432 with 1 Axes>"
            ]
          },
          "metadata": {
            "tags": []
          }
        }
      ]
    },
    {
      "cell_type": "code",
      "metadata": {
        "id": "ghuBwFVaFwQk",
        "colab_type": "code",
        "outputId": "a5323c72-e129-480a-8ce2-a07e3515749d",
        "colab": {}
      },
      "source": [
        "sns.set_style(\"whitegrid\")\n",
        "sns.FacetGrid(creditcard, hue=\"Class\", size = 6).map(plt.scatter, \"Amount\", \"Time\").add_legend()\n",
        "plt.show()"
      ],
      "execution_count": 0,
      "outputs": [
        {
          "output_type": "display_data",
          "data": {
            "image/png": "[encoded data removed]",
            "text/plain": [
              "<Figure size 473.625x432 with 1 Axes>"
            ]
          },
          "metadata": {
            "tags": []
          }
        }
      ]
    },
    {
      "cell_type": "markdown",
      "metadata": {
        "id": "nzLeOmpIFwQo",
        "colab_type": "text"
      },
      "source": [
        "Observations:\n",
        "\n",
        "1. From the above two plots it is clearly visible that there are frauds only on the transactions which have transaction amount approximately less than 2500. Transactions which have transaction amount approximately above 2500 have no fraud.\n",
        "2. As per with the time, the frauds in the transactions are evenly distributed throughout time."
      ]
    },
    {
      "cell_type": "markdown",
      "metadata": {
        "id": "_hwZhNHyFwQp",
        "colab_type": "text"
      },
      "source": [
        "## 3D Scatter plot"
      ]
    },
    {
      "cell_type": "code",
      "metadata": {
        "id": "jDpo966KFwQq",
        "colab_type": "code",
        "colab": {}
      },
      "source": [
        "FilteredData = creditcard[['Time','Amount', 'Class']]"
      ],
      "execution_count": 0,
      "outputs": []
    },
    {
      "cell_type": "code",
      "metadata": {
        "id": "9SuaeDx8FwQv",
        "colab_type": "code",
        "outputId": "30974ab1-7b3a-4ff3-8885-4922576da33c",
        "colab": {}
      },
      "source": [
        "FilteredData"
      ],
      "execution_count": 0,
      "outputs": [
        {
          "output_type": "execute_result",
          "data": {
            "text/html": [
              "<div>\n",
              "<style scoped>\n",
              "    .dataframe tbody tr th:only-of-type {\n",
              "        vertical-align: middle;\n",
              "    }\n",
              "\n",
              "    .dataframe tbody tr th {\n",
              "        vertical-align: top;\n",
              "    }\n",
              "\n",
              "    .dataframe thead th {\n",
              "        text-align: right;\n",
              "    }\n",
              "</style>\n",
              "<table border=\"1\" class=\"dataframe\">\n",
              "  <thead>\n",
              "    <tr style=\"text-align: right;\">\n",
              "      <th></th>\n",
              "      <th>Time</th>\n",
              "      <th>Amount</th>\n",
              "      <th>Class</th>\n",
              "    </tr>\n",
              "  </thead>\n",
              "  <tbody>\n",
              "    <tr>\n",
              "      <td>0</td>\n",
              "      <td>0.0</td>\n",
              "      <td>149.62</td>\n",
              "      <td>0</td>\n",
              "    </tr>\n",
              "    <tr>\n",
              "      <td>1</td>\n",
              "      <td>0.0</td>\n",
              "      <td>2.69</td>\n",
              "      <td>0</td>\n",
              "    </tr>\n",
              "    <tr>\n",
              "      <td>2</td>\n",
              "      <td>1.0</td>\n",
              "      <td>378.66</td>\n",
              "      <td>0</td>\n",
              "    </tr>\n",
              "    <tr>\n",
              "      <td>3</td>\n",
              "      <td>1.0</td>\n",
              "      <td>123.50</td>\n",
              "      <td>0</td>\n",
              "    </tr>\n",
              "    <tr>\n",
              "      <td>4</td>\n",
              "      <td>2.0</td>\n",
              "      <td>69.99</td>\n",
              "      <td>0</td>\n",
              "    </tr>\n",
              "    <tr>\n",
              "      <td>...</td>\n",
              "      <td>...</td>\n",
              "      <td>...</td>\n",
              "      <td>...</td>\n",
              "    </tr>\n",
              "    <tr>\n",
              "      <td>284802</td>\n",
              "      <td>172786.0</td>\n",
              "      <td>0.77</td>\n",
              "      <td>0</td>\n",
              "    </tr>\n",
              "    <tr>\n",
              "      <td>284803</td>\n",
              "      <td>172787.0</td>\n",
              "      <td>24.79</td>\n",
              "      <td>0</td>\n",
              "    </tr>\n",
              "    <tr>\n",
              "      <td>284804</td>\n",
              "      <td>172788.0</td>\n",
              "      <td>67.88</td>\n",
              "      <td>0</td>\n",
              "    </tr>\n",
              "    <tr>\n",
              "      <td>284805</td>\n",
              "      <td>172788.0</td>\n",
              "      <td>10.00</td>\n",
              "      <td>0</td>\n",
              "    </tr>\n",
              "    <tr>\n",
              "      <td>284806</td>\n",
              "      <td>172792.0</td>\n",
              "      <td>217.00</td>\n",
              "      <td>0</td>\n",
              "    </tr>\n",
              "  </tbody>\n",
              "</table>\n",
              "<p>284807 rows × 3 columns</p>\n",
              "</div>"
            ],
            "text/plain": [
              "            Time  Amount  Class\n",
              "0            0.0  149.62      0\n",
              "1            0.0    2.69      0\n",
              "2            1.0  378.66      0\n",
              "3            1.0  123.50      0\n",
              "4            2.0   69.99      0\n",
              "...          ...     ...    ...\n",
              "284802  172786.0    0.77      0\n",
              "284803  172787.0   24.79      0\n",
              "284804  172788.0   67.88      0\n",
              "284805  172788.0   10.00      0\n",
              "284806  172792.0  217.00      0\n",
              "\n",
              "[284807 rows x 3 columns]"
            ]
          },
          "metadata": {
            "tags": []
          },
          "execution_count": 10
        }
      ]
    },
    {
      "cell_type": "code",
      "metadata": {
        "id": "PsFXw7VAFwQ0",
        "colab_type": "code",
        "outputId": "4d5fe7e4-f008-4d56-a47a-aaab7cb0d5aa",
        "colab": {}
      },
      "source": [
        "print(FilteredData.shape)"
      ],
      "execution_count": 0,
      "outputs": [
        {
          "output_type": "stream",
          "text": [
            "(284807, 3)\n"
          ],
          "name": "stdout"
        }
      ]
    },
    {
      "cell_type": "code",
      "metadata": {
        "id": "8s12ZLuNFwQ4",
        "colab_type": "code",
        "outputId": "c5cd1e2f-7bdd-4b1a-a022-acc688453461",
        "colab": {}
      },
      "source": [
        "FilteredData[\"Class\"].value_counts()"
      ],
      "execution_count": 0,
      "outputs": [
        {
          "output_type": "execute_result",
          "data": {
            "text/plain": [
              "0    284315\n",
              "1       492\n",
              "Name: Class, dtype: int64"
            ]
          },
          "metadata": {
            "tags": []
          },
          "execution_count": 12
        }
      ]
    },
    {
      "cell_type": "code",
      "metadata": {
        "id": "ELaw7yCAFwQ8",
        "colab_type": "code",
        "colab": {}
      },
      "source": [
        "plt.close();\n",
        "sns.set_style(\"whitegrid\");\n",
        "sns.pairplot(FilteredData, hue=\"Class\", size=5);\n",
        "plt.show()"
      ],
      "execution_count": 0,
      "outputs": []
    },
    {
      "cell_type": "code",
      "metadata": {
        "id": "OgzCfdA0FwRA",
        "colab_type": "code",
        "outputId": "2edca38a-2d7c-4a4d-efef-b25357cb83b9",
        "colab": {}
      },
      "source": [
        "countLess = 0\n",
        "countMore= 0\n",
        "for i in range(284806):\n",
        "    if(FilteredData.iloc[i][\"Amount\"] < 2500):\n",
        "        countLess = countLess + 1\n",
        "    else:\n",
        "        countMore = countMore + 1\n",
        "print(countLess)\n",
        "print(countMore)"
      ],
      "execution_count": 0,
      "outputs": [
        {
          "output_type": "stream",
          "text": [
            "284357\n",
            "449\n"
          ],
          "name": "stdout"
        }
      ]
    },
    {
      "cell_type": "code",
      "metadata": {
        "id": "nxafOeceFwRD",
        "colab_type": "code",
        "outputId": "05a78892-b2f0-4452-b8b9-dbfe949f924b",
        "colab": {}
      },
      "source": [
        "percentage = (countLess/284807)*100\n",
        "percentage"
      ],
      "execution_count": 0,
      "outputs": [
        {
          "output_type": "execute_result",
          "data": {
            "text/plain": [
              "99.84199826549207"
            ]
          },
          "metadata": {
            "tags": []
          },
          "execution_count": 13
        }
      ]
    },
    {
      "cell_type": "markdown",
      "metadata": {
        "id": "GLdm8PTMFwRH",
        "colab_type": "text"
      },
      "source": [
        "Observations:\n",
        "\n",
        "Now it has been calculated that there are 284357 transactions which has a transaction amount less than 2500. Means 99.84% of transactions have transaction amount less than 2500"
      ]
    },
    {
      "cell_type": "code",
      "metadata": {
        "id": "cgsG_zKPFwRI",
        "colab_type": "code",
        "outputId": "3b34f420-ac6a-46fd-e3a4-4ed9cb4a8131",
        "colab": {}
      },
      "source": [
        "class0 = 0\n",
        "class1 = 0\n",
        "for i in range(284806):\n",
        "    if(FilteredData.iloc[i][\"Amount\"] < 2500):\n",
        "        if(FilteredData.iloc[i][\"Class\"] == 0):\n",
        "            class0 = class0 + 1\n",
        "        else:\n",
        "            class1 = class1 + 1\n",
        "        \n",
        "print(class0)\n",
        "print(class1)"
      ],
      "execution_count": 0,
      "outputs": [
        {
          "output_type": "stream",
          "text": [
            "283865\n",
            "492\n"
          ],
          "name": "stdout"
        }
      ]
    },
    {
      "cell_type": "code",
      "metadata": {
        "id": "Vf1rvTSsFwRK",
        "colab_type": "code",
        "outputId": "ec62b44e-7816-4d81-eaed-89356d6c9421",
        "colab": {}
      },
      "source": [
        "FilteredData[\"Class\"].value_counts()"
      ],
      "execution_count": 0,
      "outputs": [
        {
          "output_type": "execute_result",
          "data": {
            "text/plain": [
              "0    284315\n",
              "1       492\n",
              "Name: Class, dtype: int64"
            ]
          },
          "metadata": {
            "tags": []
          },
          "execution_count": 15
        }
      ]
    },
    {
      "cell_type": "markdown",
      "metadata": {
        "id": "a1QDr2wuFwRN",
        "colab_type": "text"
      },
      "source": [
        "Observations:\n",
        "\n",
        "Now the total number of fraud transactions in whole data are 492. It has been calculated that total number of fraud transactions in data where transaction amount is less than 2500 is also 492. Therefore, all 100% fraud transactions have transaction amount less than 2500 and there is no fraud transaction where transaction amount is more than 2500.  "
      ]
    },
    {
      "cell_type": "markdown",
      "metadata": {
        "id": "nplNkUP3FwRN",
        "colab_type": "text"
      },
      "source": [
        "## Histogram, PDF and CDF"
      ]
    },
    {
      "cell_type": "code",
      "metadata": {
        "id": "0uujruAhFwRO",
        "colab_type": "code",
        "outputId": "d08762e9-ff7b-47ca-a319-4dafabada71b",
        "colab": {}
      },
      "source": [
        "creditCard_genuine = FilteredData.loc[FilteredData[\"Class\"] == 0]\n",
        "creditCard_fraud = FilteredData.loc[FilteredData[\"Class\"] == 1]\n",
        "\n",
        "plt.plot(creditCard_genuine[\"Time\"], np.zeros_like(creditCard_genuine[\"Time\"]), \"o\")\n",
        "plt.plot(creditCard_fraud[\"Time\"], np.zeros_like(creditCard_fraud[\"Time\"]), \"o\")\n",
        "\n",
        "plt.show()\n",
        "\n",
        "#X-axis: Time"
      ],
      "execution_count": 0,
      "outputs": [
        {
          "output_type": "display_data",
          "data": {
            "image/png": "[encoded data removed]",
            "text/plain": [
              "<matplotlib.figure.Figure at 0x107137d1c50>"
            ]
          },
          "metadata": {
            "tags": []
          }
        }
      ]
    },
    {
      "cell_type": "markdown",
      "metadata": {
        "id": "RMNDA0miFwRQ",
        "colab_type": "text"
      },
      "source": [
        "Observations:\n",
        "\n",
        "Fraud and genuine transactions are spread evenly thought time and there is no clear distinction."
      ]
    },
    {
      "cell_type": "code",
      "metadata": {
        "id": "k6JAyUkFFwRQ",
        "colab_type": "code",
        "outputId": "74232e14-7ac0-4cdd-bf5a-c1d9ecc1309b",
        "colab": {}
      },
      "source": [
        "plt.plot(creditCard_genuine[\"Amount\"], np.zeros_like(creditCard_genuine[\"Amount\"]), \"o\")\n",
        "plt.plot(creditCard_fraud[\"Amount\"], np.zeros_like(creditCard_fraud[\"Amount\"]), \"o\")\n",
        "\n",
        "plt.show()\n",
        "#X-axis: Amount"
      ],
      "execution_count": 0,
      "outputs": [
        {
          "output_type": "display_data",
          "data": {
            "image/png": "[encoded data removed]",
            "text/plain": [
              "<matplotlib.figure.Figure at 0x10713819400>"
            ]
          },
          "metadata": {
            "tags": []
          }
        }
      ]
    },
    {
      "cell_type": "markdown",
      "metadata": {
        "id": "8XW8HXHkFwRS",
        "colab_type": "text"
      },
      "source": [
        "Observations:\n",
        "\n",
        "It can clearly be observed from this 1D scatter plot that the fraud transactions are there only on the transaction amount less than 2500."
      ]
    },
    {
      "cell_type": "code",
      "metadata": {
        "id": "NLWH1ef5FwRT",
        "colab_type": "code",
        "outputId": "92674b33-666c-4d73-85c2-8f9dc4b2f263",
        "colab": {}
      },
      "source": [
        "sns.FacetGrid(FilteredData, hue=\"Class\", size=10).map(sns.distplot, \"Time\").add_legend()\n",
        "plt.show()"
      ],
      "execution_count": 0,
      "outputs": [
        {
          "output_type": "display_data",
          "data": {
            "image/png": "[encoded data removed]",
            "text/plain": [
              "<matplotlib.figure.Figure at 0x1070f64ebe0>"
            ]
          },
          "metadata": {
            "tags": []
          }
        }
      ]
    },
    {
      "cell_type": "markdown",
      "metadata": {
        "id": "aIjv6mAAFwRV",
        "colab_type": "text"
      },
      "source": [
        "Observations:\n",
        "\n",
        "There is a heavy overlap of genuine and fraud transactions throughout the time and there is no clear distinction."
      ]
    },
    {
      "cell_type": "code",
      "metadata": {
        "id": "Uciu9b26FwRV",
        "colab_type": "code",
        "outputId": "e1e148ce-d37a-4823-f4ba-eaca48cea93e",
        "colab": {}
      },
      "source": [
        "sns.FacetGrid(FilteredData, hue=\"Class\", size=10).map(sns.distplot, \"Amount\").add_legend()\n",
        "plt.show()"
      ],
      "execution_count": 0,
      "outputs": [
        {
          "output_type": "display_data",
          "data": {
            "image/png": "[encoded data removed]",
            "text/plain": [
              "<matplotlib.figure.Figure at 0x1070caf9198>"
            ]
          },
          "metadata": {
            "tags": []
          }
        }
      ]
    },
    {
      "cell_type": "markdown",
      "metadata": {
        "id": "L9DHu_-iFwRX",
        "colab_type": "text"
      },
      "source": [
        "Observations:\n",
        "\n",
        "Most of the transaction have amount less than 2500 approximately and all of the fraud transactions have transaction amount less than 2500. There is no fraud transaction of transaction amount greater than 2500.\n",
        "\n",
        "**Hence, this is the best histogram we have**"
      ]
    },
    {
      "cell_type": "code",
      "metadata": {
        "id": "blkXkIlTFwRY",
        "colab_type": "code",
        "outputId": "1c9e526a-e951-423f-dc2f-5b9e893fbbab",
        "colab": {}
      },
      "source": [
        "counts, bin_edges = np.histogram(FilteredData['Amount'], bins=10, density = True)\n",
        "pdf = counts/(sum(counts))\n",
        "\n",
        "print(\"pdf = \",pdf)\n",
        "print(\"\\n\")\n",
        "print(\"Counts =\",counts)\n",
        "print(\"\\n\")\n",
        "print(\"Bin edges = \",bin_edges)\n",
        "\n",
        "cdf = np.cumsum(pdf)\n",
        "plt.plot(bin_edges[1:],pdf)\n",
        "plt.plot(bin_edges[1:], cdf)\n",
        "\n",
        "\n",
        "\n",
        "plt.show();"
      ],
      "execution_count": 0,
      "outputs": [
        {
          "output_type": "stream",
          "text": [
            "pdf =  [9.98553406e-01 1.26401388e-03 1.26401388e-04 3.51114966e-05\n",
            " 7.02229931e-06 3.51114966e-06 0.00000000e+00 7.02229931e-06\n",
            " 0.00000000e+00 3.51114966e-06]\n",
            "\n",
            "\n",
            "Counts = [3.88675874e-04 4.92003427e-07 4.92003427e-08 1.36667619e-08\n",
            " 2.73335237e-09 1.36667619e-09 0.00000000e+00 2.73335237e-09\n",
            " 0.00000000e+00 1.36667619e-09]\n",
            "\n",
            "\n",
            "Bin edges =  [    0.     2569.116  5138.232  7707.348 10276.464 12845.58  15414.696\n",
            " 17983.812 20552.928 23122.044 25691.16 ]\n"
          ],
          "name": "stdout"
        },
        {
          "output_type": "display_data",
          "data": {
            "image/png": "[encoded data removed]",
            "text/plain": [
              "<Figure size 432x288 with 1 Axes>"
            ]
          },
          "metadata": {
            "tags": []
          }
        }
      ]
    },
    {
      "cell_type": "markdown",
      "metadata": {
        "id": "ajpthqj4FwRa",
        "colab_type": "text"
      },
      "source": [
        "Observations:\n",
        "\n",
        "Probability of the points having transaction amount approximately less than 2500 is 1, it means almost all of the transactions have transaction amount less than 2500 and cdf curve verifies this fact."
      ]
    },
    {
      "cell_type": "markdown",
      "metadata": {
        "id": "B8vgWAZCFwRb",
        "colab_type": "text"
      },
      "source": [
        "# Mean, Variance and Std-dev"
      ]
    },
    {
      "cell_type": "code",
      "metadata": {
        "id": "JaWsOALVFwRb",
        "colab_type": "code",
        "outputId": "4236a67b-c4ca-469b-cf5b-d1fc0d0f4ed3",
        "colab": {}
      },
      "source": [
        "print(\"Means:\")\n",
        "print(\"Mean of transaction amount of genuine transactions: \",np.mean(creditCard_genuine[\"Amount\"]))\n",
        "print(\"Mean of transaction amount of fraud transactions: \",np.mean(creditCard_fraud[\"Amount\"]))"
      ],
      "execution_count": 0,
      "outputs": [
        {
          "output_type": "stream",
          "text": [
            "Means:\n",
            "Mean of transaction amount of genuine transactions:  88.29102242225574\n",
            "Mean of transaction amount of fraud transactions:  122.21132113821133\n"
          ],
          "name": "stdout"
        }
      ]
    },
    {
      "cell_type": "code",
      "metadata": {
        "id": "edbgeKbuFwRe",
        "colab_type": "code",
        "outputId": "d4198c1f-374f-46fe-e48c-0cdf78750b45",
        "colab": {}
      },
      "source": [
        "print(\"Standard Deviation:\")\n",
        "print(\"Std-Deviation of transaction amount of genuine transactions: \", np.std(creditCard_genuine[\"Amount\"]))\n",
        "print(\"Std-Deviation of transaction amount of fraud transactions: \", np.std(creditCard_fraud[\"Amount\"]))"
      ],
      "execution_count": 0,
      "outputs": [
        {
          "output_type": "stream",
          "text": [
            "Standard Deviation:\n",
            "Std-Deviation of transaction amount of genuine transactions:  250.1046523874637\n",
            "Std-Deviation of transaction amount of fraud transactions:  256.42229861324483\n"
          ],
          "name": "stdout"
        }
      ]
    },
    {
      "cell_type": "code",
      "metadata": {
        "id": "WOKMT4FFFwRg",
        "colab_type": "code",
        "outputId": "f9e00fe8-173f-4b2c-b50c-4aa08ab6fb3d",
        "colab": {}
      },
      "source": [
        "print(\"Median:\")\n",
        "print(\"Median of transaction amount of genuine transactions: \", np.median(creditCard_genuine[\"Amount\"]))\n",
        "print(\"Median of transaction amount of fraud transactions: \", np.median(creditCard_fraud[\"Amount\"]))"
      ],
      "execution_count": 0,
      "outputs": [
        {
          "output_type": "stream",
          "text": [
            "Median:\n",
            "Median of transaction amount of genuine transactions:  22.0\n",
            "Median of transaction amount of fraud transactions:  9.25\n"
          ],
          "name": "stdout"
        }
      ]
    },
    {
      "cell_type": "code",
      "metadata": {
        "id": "P_Bt-cK6FwRk",
        "colab_type": "code",
        "outputId": "2b92e249-c72a-47b3-b8f9-edea00f27c24",
        "colab": {}
      },
      "source": [
        "print(\"\\nQuantiles:\")\n",
        "print(np.percentile(creditCard_genuine[\"Amount\"],np.arange(0, 100, 25)))\n",
        "print(np.percentile(creditCard_fraud[\"Amount\"],np.arange(0, 100, 25)))"
      ],
      "execution_count": 0,
      "outputs": [
        {
          "output_type": "stream",
          "text": [
            "\n",
            "Quantiles:\n",
            "[ 0.    5.65 22.   77.05]\n",
            "[  0.     1.     9.25 105.89]\n"
          ],
          "name": "stdout"
        }
      ]
    },
    {
      "cell_type": "markdown",
      "metadata": {
        "id": "fNzOX1gDFwRo",
        "colab_type": "text"
      },
      "source": [
        "# Box plot and Whiskers"
      ]
    },
    {
      "cell_type": "code",
      "metadata": {
        "id": "ACtKZJ7eFwRo",
        "colab_type": "code",
        "outputId": "9df23fd8-b31b-44a5-d9a4-407462fe0d6b",
        "colab": {}
      },
      "source": [
        "sns.boxplot(x = \"Class\", y = \"Time\", data = creditcard)\n",
        "plt.show()"
      ],
      "execution_count": 0,
      "outputs": [
        {
          "output_type": "display_data",
          "data": {
            "image/png": "[encoded data removed]",
            "text/plain": [
              "<matplotlib.figure.Figure at 0x107138c4080>"
            ]
          },
          "metadata": {
            "tags": []
          }
        }
      ]
    },
    {
      "cell_type": "markdown",
      "metadata": {
        "id": "LrurYDXdFwRr",
        "colab_type": "text"
      },
      "source": [
        "Observations:\n",
        "\n",
        "By looking at the above box plot we can say that both fraud & genuine transactions occur throughout time and there is no distinction between them."
      ]
    },
    {
      "cell_type": "code",
      "metadata": {
        "id": "AjuiL-hTFwRr",
        "colab_type": "code",
        "outputId": "4d8d54b2-eae7-41f5-db89-78205f2f4394",
        "colab": {}
      },
      "source": [
        "sns.boxplot(x = \"Class\", y = \"Amount\", data = creditcard)\n",
        "plt.ylim(0, 5000)\n",
        "plt.show()"
      ],
      "execution_count": 0,
      "outputs": [
        {
          "output_type": "display_data",
          "data": {
            "image/png": "[encoded data removed]",
            "text/plain": [
              "<matplotlib.figure.Figure at 0x10714015390>"
            ]
          },
          "metadata": {
            "tags": []
          }
        }
      ]
    },
    {
      "cell_type": "markdown",
      "metadata": {
        "id": "5nAc8QOeFwRu",
        "colab_type": "text"
      },
      "source": [
        "Observations:\n",
        "\n",
        "From above box plot we can easily infer that there are no fraud transactions occur above the transaction amount of 3000. All of the fraud transactions have transaction amount less than 3000. However, there are many transactions which have a transaction amount greater than 3000 and all of them are genuine."
      ]
    },
    {
      "cell_type": "markdown",
      "metadata": {
        "collapsed": true,
        "id": "gyGJSp78FwRu",
        "colab_type": "text"
      },
      "source": [
        "# Similarity"
      ]
    },
    {
      "cell_type": "code",
      "metadata": {
        "id": "dcW77_fDFwRv",
        "colab_type": "code",
        "colab": {}
      },
      "source": [
        "from scipy import spatial"
      ],
      "execution_count": 0,
      "outputs": []
    },
    {
      "cell_type": "code",
      "metadata": {
        "id": "aUITV7KCFwRy",
        "colab_type": "code",
        "colab": {}
      },
      "source": [
        "sampleData = creditcard.head(20000)   #Sample the data from original data so as to save the computation time."
      ],
      "execution_count": 0,
      "outputs": []
    },
    {
      "cell_type": "code",
      "metadata": {
        "id": "L0mkEdUlFwR1",
        "colab_type": "code",
        "colab": {}
      },
      "source": [
        "samples = creditcard.loc[30401:30500]    #Taking sample of size 100 from index 30401 to 30500."
      ],
      "execution_count": 0,
      "outputs": []
    },
    {
      "cell_type": "code",
      "metadata": {
        "id": "3ttgjPDrFwR3",
        "colab_type": "code",
        "outputId": "4b844854-d3d2-49b7-f7ae-69d873680e82",
        "colab": {}
      },
      "source": [
        "%%javascript\n",
        "IPython.OutputArea.prototype._should_scroll = function(lines) {\n",
        "    return false;\n",
        "}"
      ],
      "execution_count": 0,
      "outputs": [
        {
          "output_type": "display_data",
          "data": {
            "application/javascript": [
              "IPython.OutputArea.prototype._should_scroll = function(lines) {\n",
              "    return false;\n",
              "}"
            ],
            "text/plain": [
              "<IPython.core.display.Javascript object>"
            ]
          },
          "metadata": {
            "tags": []
          }
        }
      ]
    },
    {
      "cell_type": "code",
      "metadata": {
        "id": "HolAjB9RFwR5",
        "colab_type": "code",
        "colab": {}
      },
      "source": [
        "frame = []"
      ],
      "execution_count": 0,
      "outputs": []
    },
    {
      "cell_type": "code",
      "metadata": {
        "id": "MDM0gXjQFwR7",
        "colab_type": "code",
        "outputId": "408b0376-ca76-4cab-bd99-d14d81738cc7",
        "colab": {}
      },
      "source": [
        "for i in range(30401, 30501):\n",
        "    t1 = samples.loc[i]\n",
        "    c = samples.loc[i][\"Class\"]\n",
        "    for j in range(20000):\n",
        "        t2 = sampleData.loc[j]\n",
        "        classLabel = creditcard.loc[j][\"Class\"]\n",
        "        similarity = 1 - spatial.distance.cosine(t1, t2)\n",
        "        frame.append([classLabel, similarity, j])\n",
        "        \n",
        "    df = pd.DataFrame(frame, columns=['Class', 'Similarity', 'Transaction ID'])\n",
        "    df_sorted = df.sort_values(\"Similarity\", ascending=False)\n",
        "    print(\"Top 10 transactions having highest similarity with transaction ID = \"+str(i)+\" and class = \"+str(c)+\":\")\n",
        "    print(df_sorted.iloc[:10])\n",
        "    print(\"\\n\")\n",
        "    frame = []"
      ],
      "execution_count": 0,
      "outputs": [
        {
          "output_type": "stream",
          "text": [
            "Top 10 transactions having highest similarity with transaction ID = 30401 and class = 0.0:\n",
            "       Class  Similarity  Transaction ID\n",
            "21501    0.0         1.0           16709\n",
            "23546    0.0         1.0           18754\n",
            "20632    0.0         1.0           15840\n",
            "21046    0.0         1.0           16254\n",
            "23378    0.0         1.0           18586\n",
            "21420    0.0         1.0           16628\n",
            "23230    0.0         1.0           18438\n",
            "22838    0.0         1.0           18046\n",
            "20738    0.0         1.0           15946\n",
            "19596    0.0         1.0           14804\n",
            "\n",
            "\n",
            "Top 10 transactions having highest similarity with transaction ID = 30402 and class = 0.0:\n",
            "       Class  Similarity  Transaction ID\n",
            "19040    0.0         1.0           19040\n",
            "16720    0.0         1.0           16720\n",
            "18994    0.0         1.0           18994\n",
            "19142    0.0         1.0           19142\n",
            "15480    0.0         1.0           15480\n",
            "17628    0.0         1.0           17628\n",
            "17591    0.0         1.0           17591\n",
            "17876    0.0         1.0           17876\n",
            "17702    0.0         1.0           17702\n",
            "18873    0.0         1.0           18873\n",
            "\n",
            "\n",
            "Top 10 transactions having highest similarity with transaction ID = 30403 and class = 0.0:\n",
            "       Class  Similarity  Transaction ID\n",
            "19891    0.0         1.0           19891\n",
            "16169    0.0         1.0           16169\n",
            "14732    0.0         1.0           14732\n",
            "18378    0.0         1.0           18378\n",
            "18484    0.0         1.0           18484\n",
            "18640    0.0         1.0           18640\n",
            "18884    0.0         1.0           18884\n",
            "18195    0.0         1.0           18195\n",
            "17543    0.0         1.0           17543\n",
            "18584    0.0         1.0           18584\n",
            "\n",
            "\n",
            "Top 10 transactions having highest similarity with transaction ID = 30404 and class = 0.0:\n",
            "       Class  Similarity  Transaction ID\n",
            "16348    0.0         1.0           16348\n",
            "18390    0.0         1.0           18390\n",
            "16264    0.0         1.0           16264\n",
            "17166    0.0         1.0           17166\n",
            "15248    0.0         1.0           15248\n",
            "15263    0.0         1.0           15263\n",
            "14506    0.0         1.0           14506\n",
            "15636    0.0         1.0           15636\n",
            "19278    0.0         1.0           19278\n",
            "17522    0.0         1.0           17522\n",
            "\n",
            "\n",
            "Top 10 transactions having highest similarity with transaction ID = 30405 and class = 0.0:\n",
            "       Class  Similarity  Transaction ID\n",
            "17296    0.0         1.0           17296\n",
            "15162    0.0         1.0           15162\n",
            "14209    0.0         1.0           14209\n",
            "17175    0.0         1.0           17175\n",
            "18301    0.0         1.0           18301\n",
            "19185    0.0         1.0           19185\n",
            "19831    0.0         1.0           19831\n",
            "18762    0.0         1.0           18762\n",
            "18839    0.0         1.0           18839\n",
            "17704    0.0         1.0           17704\n",
            "\n",
            "\n",
            "Top 10 transactions having highest similarity with transaction ID = 30406 and class = 0.0:\n",
            "       Class  Similarity  Transaction ID\n",
            "14972    0.0         1.0           14972\n",
            "15826    0.0         1.0           15826\n",
            "19655    0.0         1.0           19655\n",
            "15083    0.0         1.0           15083\n",
            "18291    0.0         1.0           18291\n",
            "15654    0.0         1.0           15654\n",
            "19774    0.0         1.0           19774\n",
            "16421    0.0         1.0           16421\n",
            "17621    0.0         1.0           17621\n",
            "17450    0.0         1.0           17450\n",
            "\n",
            "\n",
            "Top 10 transactions having highest similarity with transaction ID = 30407 and class = 0.0:\n",
            "       Class  Similarity  Transaction ID\n",
            "18057    0.0         1.0           18057\n",
            "14583    0.0         1.0           14583\n",
            "19963    0.0         1.0           19963\n",
            "15085    0.0         1.0           15085\n",
            "14828    0.0         1.0           14828\n",
            "17876    0.0         1.0           17876\n",
            "14850    0.0         1.0           14850\n",
            "17005    0.0         1.0           17005\n",
            "15480    0.0         1.0           15480\n",
            "14626    0.0         1.0           14626\n",
            "\n",
            "\n",
            "Top 10 transactions having highest similarity with transaction ID = 30408 and class = 0.0:\n",
            "       Class  Similarity  Transaction ID\n",
            "18560    0.0         1.0           18560\n",
            "16101    0.0         1.0           16101\n",
            "16717    0.0         1.0           16717\n",
            "15231    0.0         1.0           15231\n",
            "18521    0.0         1.0           18521\n",
            "19469    0.0         1.0           19469\n",
            "19478    0.0         1.0           19478\n",
            "19072    0.0         1.0           19072\n",
            "19067    0.0         1.0           19067\n",
            "18656    0.0         1.0           18656\n",
            "\n",
            "\n",
            "Top 10 transactions having highest similarity with transaction ID = 30409 and class = 0.0:\n",
            "       Class  Similarity  Transaction ID\n",
            "17901    0.0         1.0           17901\n",
            "19047    0.0         1.0           19047\n",
            "16103    0.0         1.0           16103\n",
            "18032    0.0         1.0           18032\n",
            "15272    0.0         1.0           15272\n",
            "14894    0.0         1.0           14894\n",
            "16302    0.0         1.0           16302\n",
            "19628    0.0         1.0           19628\n",
            "15800    0.0         1.0           15800\n",
            "18129    0.0         1.0           18129\n",
            "\n",
            "\n",
            "Top 10 transactions having highest similarity with transaction ID = 30410 and class = 0.0:\n",
            "       Class  Similarity  Transaction ID\n",
            "19070    0.0         1.0           19070\n",
            "19956    0.0         1.0           19956\n",
            "14199    0.0         1.0           14199\n",
            "16376    0.0         1.0           16376\n",
            "12473    0.0         1.0           12473\n",
            "10719    0.0         1.0           10719\n",
            "13483    0.0         1.0           13483\n",
            "13757    0.0         1.0           13757\n",
            "10639    0.0         1.0           10639\n",
            "15691    0.0         1.0           15691\n",
            "\n",
            "\n",
            "Top 10 transactions having highest similarity with transaction ID = 30411 and class = 0.0:\n",
            "       Class  Similarity  Transaction ID\n",
            "16771    0.0         1.0           16771\n",
            "18398    0.0         1.0           18398\n",
            "17159    0.0         1.0           17159\n",
            "17956    0.0         1.0           17956\n",
            "17170    0.0         1.0           17170\n",
            "16628    0.0         1.0           16628\n",
            "17881    0.0         1.0           17881\n",
            "15946    0.0         1.0           15946\n",
            "16286    0.0         1.0           16286\n",
            "15982    0.0         1.0           15982\n",
            "\n",
            "\n",
            "Top 10 transactions having highest similarity with transaction ID = 30412 and class = 0.0:\n",
            "       Class  Similarity  Transaction ID\n",
            "14907    0.0         1.0           14907\n",
            "15054    0.0         1.0           15054\n",
            "18925    0.0         1.0           18925\n",
            "14647    0.0         1.0           14647\n",
            "14942    0.0         1.0           14942\n",
            "14350    0.0         1.0           14350\n",
            "17816    0.0         1.0           17816\n",
            "18260    0.0         1.0           18260\n",
            "15244    0.0         1.0           15244\n",
            "16040    0.0         1.0           16040\n",
            "\n",
            "\n",
            "Top 10 transactions having highest similarity with transaction ID = 30413 and class = 0.0:\n",
            "       Class  Similarity  Transaction ID\n",
            "16568    0.0         1.0           16568\n",
            "15575    0.0         1.0           15575\n",
            "17005    0.0         1.0           17005\n",
            "15528    0.0         1.0           15528\n",
            "19264    0.0         1.0           19264\n",
            "19459    0.0         1.0           19459\n",
            "18287    0.0         1.0           18287\n",
            "17890    0.0         1.0           17890\n",
            "18056    0.0         1.0           18056\n",
            "17811    0.0         1.0           17811\n",
            "\n",
            "\n",
            "Top 10 transactions having highest similarity with transaction ID = 30414 and class = 0.0:\n",
            "       Class  Similarity  Transaction ID\n",
            "16816    0.0         1.0           16816\n",
            "18611    0.0         1.0           18611\n",
            "18555    0.0         1.0           18555\n",
            "18886    0.0         1.0           18886\n",
            "18839    0.0         1.0           18839\n",
            "17060    0.0         1.0           17060\n",
            "19960    0.0         1.0           19960\n",
            "19296    0.0         1.0           19296\n",
            "15659    0.0         1.0           15659\n",
            "16612    0.0         1.0           16612\n",
            "\n",
            "\n",
            "Top 10 transactions having highest similarity with transaction ID = 30415 and class = 0.0:\n",
            "       Class  Similarity  Transaction ID\n",
            "14885    0.0         1.0           14885\n",
            "18634    0.0         1.0           18634\n",
            "15059    0.0         1.0           15059\n",
            "16975    0.0         1.0           16975\n",
            "18346    0.0         1.0           18346\n",
            "16124    0.0         1.0           16124\n",
            "19340    0.0         1.0           19340\n",
            "16846    0.0         1.0           16846\n",
            "17389    0.0         1.0           17389\n",
            "18123    0.0         1.0           18123\n",
            "\n",
            "\n",
            "Top 10 transactions having highest similarity with transaction ID = 30416 and class = 0.0:\n",
            "       Class  Similarity  Transaction ID\n",
            "19246    0.0         1.0           19246\n",
            "15639    0.0         1.0           15639\n",
            "16875    0.0         1.0           16875\n",
            "15322    0.0         1.0           15322\n",
            "18272    0.0         1.0           18272\n",
            "18696    0.0         1.0           18696\n",
            "18018    0.0         1.0           18018\n",
            "16193    0.0         1.0           16193\n",
            "15625    0.0         1.0           15625\n",
            "17719    0.0         1.0           17719\n",
            "\n",
            "\n"
          ],
          "name": "stdout"
        },
        {
          "output_type": "stream",
          "text": [
            "Top 10 transactions having highest similarity with transaction ID = 30417 and class = 0.0:\n",
            "       Class  Similarity  Transaction ID\n",
            "18282    0.0         1.0           18282\n",
            "16276    0.0         1.0           16276\n",
            "19010    0.0         1.0           19010\n",
            "19241    0.0         1.0           19241\n",
            "14453    0.0         1.0           14453\n",
            "16129    0.0         1.0           16129\n",
            "17456    0.0         1.0           17456\n",
            "19496    0.0         1.0           19496\n",
            "16235    0.0         1.0           16235\n",
            "16518    0.0         1.0           16518\n",
            "\n",
            "\n",
            "Top 10 transactions having highest similarity with transaction ID = 30418 and class = 0.0:\n",
            "       Class  Similarity  Transaction ID\n",
            "18914    0.0         1.0           18914\n",
            "19552    0.0         1.0           19552\n",
            "16206    0.0         1.0           16206\n",
            "14957    0.0         1.0           14957\n",
            "16093    0.0         1.0           16093\n",
            "16156    0.0         1.0           16156\n",
            "18677    0.0         1.0           18677\n",
            "18012    0.0         1.0           18012\n",
            "15521    0.0         1.0           15521\n",
            "18116    0.0         1.0           18116\n",
            "\n",
            "\n",
            "Top 10 transactions having highest similarity with transaction ID = 30419 and class = 0.0:\n",
            "       Class  Similarity  Transaction ID\n",
            "19673    0.0         1.0           19673\n",
            "16465    0.0         1.0           16465\n",
            "14932    0.0         1.0           14932\n",
            "19029    0.0         1.0           19029\n",
            "17234    0.0         1.0           17234\n",
            "19542    0.0         1.0           19542\n",
            "19243    0.0         1.0           19243\n",
            "15124    0.0         1.0           15124\n",
            "15753    0.0         1.0           15753\n",
            "17815    0.0         1.0           17815\n",
            "\n",
            "\n",
            "Top 10 transactions having highest similarity with transaction ID = 30420 and class = 0.0:\n",
            "       Class  Similarity  Transaction ID\n",
            "15960    0.0         1.0           15960\n",
            "16035    0.0         1.0           16035\n",
            "19858    0.0         1.0           19858\n",
            "15867    0.0         1.0           15867\n",
            "18138    0.0         1.0           18138\n",
            "17860    0.0         1.0           17860\n",
            "19948    0.0         1.0           19948\n",
            "17556    0.0         1.0           17556\n",
            "17245    0.0         1.0           17245\n",
            "15461    0.0         1.0           15461\n",
            "\n",
            "\n",
            "Top 10 transactions having highest similarity with transaction ID = 30421 and class = 0.0:\n",
            "       Class  Similarity  Transaction ID\n",
            "16485    0.0         1.0           16485\n",
            "19321    0.0         1.0           19321\n",
            "19122    0.0         1.0           19122\n",
            "18484    0.0         1.0           18484\n",
            "18584    0.0         1.0           18584\n",
            "17241    0.0         1.0           17241\n",
            "17667    0.0         1.0           17667\n",
            "18195    0.0         1.0           18195\n",
            "17372    0.0         1.0           17372\n",
            "17978    0.0         1.0           17978\n",
            "\n",
            "\n",
            "Top 10 transactions having highest similarity with transaction ID = 30422 and class = 0.0:\n",
            "       Class  Similarity  Transaction ID\n",
            "16737    0.0         1.0           16737\n",
            "18460    0.0         1.0           18460\n",
            "19415    0.0         1.0           19415\n",
            "16823    0.0         1.0           16823\n",
            "19078    0.0         1.0           19078\n",
            "17519    0.0         1.0           17519\n",
            "16184    0.0         1.0           16184\n",
            "18356    0.0         1.0           18356\n",
            "19818    0.0         1.0           19818\n",
            "19130    0.0         1.0           19130\n",
            "\n",
            "\n",
            "Top 10 transactions having highest similarity with transaction ID = 30423 and class = 0.0:\n",
            "       Class  Similarity  Transaction ID\n",
            "15508    0.0         1.0           15508\n",
            "16085    0.0         1.0           16085\n",
            "16738    0.0         1.0           16738\n",
            "17126    0.0         1.0           17126\n",
            "15314    0.0         1.0           15314\n",
            "19678    0.0         1.0           19678\n",
            "18812    0.0         1.0           18812\n",
            "15672    0.0         1.0           15672\n",
            "14395    0.0         1.0           14395\n",
            "15167    0.0         1.0           15167\n",
            "\n",
            "\n",
            "Top 10 transactions having highest similarity with transaction ID = 30424 and class = 0.0:\n",
            "       Class  Similarity  Transaction ID\n",
            "17131    0.0         1.0           17131\n",
            "15684    0.0         1.0           15684\n",
            "15716    0.0         1.0           15716\n",
            "16917    0.0         1.0           16917\n",
            "16283    0.0         1.0           16283\n",
            "14191    0.0         1.0           14191\n",
            "19746    0.0         1.0           19746\n",
            "16761    0.0         1.0           16761\n",
            "19853    0.0         1.0           19853\n",
            "18956    0.0         1.0           18956\n",
            "\n",
            "\n",
            "Top 10 transactions having highest similarity with transaction ID = 30425 and class = 0.0:\n",
            "       Class  Similarity  Transaction ID\n",
            "19886    0.0         1.0           19886\n",
            "14410    0.0         1.0           14410\n",
            "14599    0.0         1.0           14599\n",
            "18441    0.0         1.0           18441\n",
            "14577    0.0         1.0           14577\n",
            "14499    0.0         1.0           14499\n",
            "14470    0.0         1.0           14470\n",
            "18583    0.0         1.0           18583\n",
            "18037    0.0         1.0           18037\n",
            "14594    0.0         1.0           14594\n",
            "\n",
            "\n",
            "Top 10 transactions having highest similarity with transaction ID = 30426 and class = 0.0:\n",
            "       Class  Similarity  Transaction ID\n",
            "16646    0.0         1.0           16646\n",
            "17902    0.0         1.0           17902\n",
            "16874    0.0         1.0           16874\n",
            "14452    0.0         1.0           14452\n",
            "15918    0.0         1.0           15918\n",
            "19352    0.0         1.0           19352\n",
            "19113    0.0         1.0           19113\n",
            "18940    0.0         1.0           18940\n",
            "14885    0.0         1.0           14885\n",
            "17775    0.0         1.0           17775\n",
            "\n",
            "\n",
            "Top 10 transactions having highest similarity with transaction ID = 30427 and class = 0.0:\n",
            "       Class  Similarity  Transaction ID\n",
            "18724    0.0         1.0           18724\n",
            "19322    0.0         1.0           19322\n",
            "14993    0.0         1.0           14993\n",
            "19612    0.0         1.0           19612\n",
            "18193    0.0         1.0           18193\n",
            "18186    0.0         1.0           18186\n",
            "14911    0.0         1.0           14911\n",
            "15911    0.0         1.0           15911\n",
            "18518    0.0         1.0           18518\n",
            "19247    0.0         1.0           19247\n",
            "\n",
            "\n",
            "Top 10 transactions having highest similarity with transaction ID = 30428 and class = 0.0:\n",
            "       Class  Similarity  Transaction ID\n",
            "19195    0.0         1.0           19195\n",
            "19046    0.0         1.0           19046\n",
            "14478    0.0         1.0           14478\n",
            "15750    0.0         1.0           15750\n",
            "18065    0.0         1.0           18065\n",
            "19756    0.0         1.0           19756\n",
            "18203    0.0         1.0           18203\n",
            "19166    0.0         1.0           19166\n",
            "16667    0.0         1.0           16667\n",
            "16416    0.0         1.0           16416\n",
            "\n",
            "\n",
            "Top 10 transactions having highest similarity with transaction ID = 30429 and class = 0.0:\n",
            "       Class  Similarity  Transaction ID\n",
            "15684    0.0         1.0           15684\n",
            "19853    0.0         1.0           19853\n",
            "17131    0.0         1.0           17131\n",
            "16164    0.0         1.0           16164\n",
            "18776    0.0         1.0           18776\n",
            "19162    0.0         1.0           19162\n",
            "16917    0.0         1.0           16917\n",
            "19823    0.0         1.0           19823\n",
            "15716    0.0         1.0           15716\n",
            "16761    0.0         1.0           16761\n",
            "\n",
            "\n",
            "Top 10 transactions having highest similarity with transaction ID = 30430 and class = 0.0:\n",
            "       Class  Similarity  Transaction ID\n",
            "16278    0.0         1.0           16278\n",
            "18854    0.0         1.0           18854\n",
            "15324    0.0         1.0           15324\n",
            "15423    0.0         1.0           15423\n",
            "17773    0.0         1.0           17773\n",
            "16386    0.0         1.0           16386\n",
            "17269    0.0         1.0           17269\n",
            "19621    0.0         1.0           19621\n",
            "18572    0.0         1.0           18572\n",
            "17353    0.0         1.0           17353\n",
            "\n",
            "\n",
            "Top 10 transactions having highest similarity with transaction ID = 30431 and class = 0.0:\n",
            "       Class  Similarity  Transaction ID\n",
            "19791    0.0         1.0           19791\n",
            "19671    0.0         1.0           19671\n",
            "18130    0.0         1.0           18130\n",
            "15494    0.0         1.0           15494\n",
            "19592    0.0         1.0           19592\n",
            "18478    0.0         1.0           18478\n",
            "15518    0.0         1.0           15518\n",
            "17633    0.0         1.0           17633\n",
            "16288    0.0         1.0           16288\n",
            "17655    0.0         1.0           17655\n",
            "\n",
            "\n",
            "Top 10 transactions having highest similarity with transaction ID = 30432 and class = 0.0:\n",
            "       Class  Similarity  Transaction ID\n",
            "19617    0.0         1.0           19617\n",
            "19616    0.0         1.0           19616\n",
            "16314    0.0         1.0           16314\n",
            "19270    0.0         1.0           19270\n",
            "14706    0.0         1.0           14706\n",
            "16334    0.0         1.0           16334\n",
            "18889    0.0         1.0           18889\n",
            "18163    0.0         1.0           18163\n",
            "14526    0.0         1.0           14526\n",
            "15789    0.0         1.0           15789\n",
            "\n",
            "\n"
          ],
          "name": "stdout"
        },
        {
          "output_type": "stream",
          "text": [
            "Top 10 transactions having highest similarity with transaction ID = 30433 and class = 0.0:\n",
            "       Class  Similarity  Transaction ID\n",
            "19807    0.0         1.0           19807\n",
            "16918    0.0         1.0           16918\n",
            "16914    0.0         1.0           16914\n",
            "16462    0.0         1.0           16462\n",
            "16115    0.0         1.0           16115\n",
            "15791    0.0         1.0           15791\n",
            "16998    0.0         1.0           16998\n",
            "18753    0.0         1.0           18753\n",
            "17769    0.0         1.0           17769\n",
            "18618    0.0         1.0           18618\n",
            "\n",
            "\n",
            "Top 10 transactions having highest similarity with transaction ID = 30434 and class = 0.0:\n",
            "       Class  Similarity  Transaction ID\n",
            "18452    0.0         1.0           18452\n",
            "17930    0.0         1.0           17930\n",
            "19659    0.0         1.0           19659\n",
            "16395    0.0         1.0           16395\n",
            "18709    0.0         1.0           18709\n",
            "15126    0.0         1.0           15126\n",
            "16883    0.0         1.0           16883\n",
            "15483    0.0         1.0           15483\n",
            "18412    0.0         1.0           18412\n",
            "16859    0.0         1.0           16859\n",
            "\n",
            "\n",
            "Top 10 transactions having highest similarity with transaction ID = 30435 and class = 0.0:\n",
            "       Class  Similarity  Transaction ID\n",
            "18142    0.0         1.0           18142\n",
            "16772    0.0         1.0           16772\n",
            "18888    0.0         1.0           18888\n",
            "15345    0.0         1.0           15345\n",
            "14814    0.0         1.0           14814\n",
            "14619    0.0         1.0           14619\n",
            "15560    0.0         1.0           15560\n",
            "15088    0.0         1.0           15088\n",
            "17450    0.0         1.0           17450\n",
            "19315    0.0         1.0           19315\n",
            "\n",
            "\n",
            "Top 10 transactions having highest similarity with transaction ID = 30436 and class = 0.0:\n",
            "       Class  Similarity  Transaction ID\n",
            "16767    0.0         1.0           16767\n",
            "15667    0.0         1.0           15667\n",
            "19119    0.0         1.0           19119\n",
            "15282    0.0         1.0           15282\n",
            "19406    0.0         1.0           19406\n",
            "16323    0.0         1.0           16323\n",
            "15425    0.0         1.0           15425\n",
            "16783    0.0         1.0           16783\n",
            "17071    0.0         1.0           17071\n",
            "16308    0.0         1.0           16308\n",
            "\n",
            "\n",
            "Top 10 transactions having highest similarity with transaction ID = 30437 and class = 0.0:\n",
            "       Class  Similarity  Transaction ID\n",
            "19593    0.0         1.0           19593\n",
            "18532    0.0         1.0           18532\n",
            "15312    0.0         1.0           15312\n",
            "17553    0.0         1.0           17553\n",
            "14973    0.0         1.0           14973\n",
            "16905    0.0         1.0           16905\n",
            "14771    0.0         1.0           14771\n",
            "19742    0.0         1.0           19742\n",
            "16784    0.0         1.0           16784\n",
            "18584    0.0         1.0           18584\n",
            "\n",
            "\n",
            "Top 10 transactions having highest similarity with transaction ID = 30438 and class = 0.0:\n",
            "       Class  Similarity  Transaction ID\n",
            "19632    0.0         1.0           19632\n",
            "14192    0.0         1.0           14192\n",
            "16688    0.0         1.0           16688\n",
            "16885    0.0         1.0           16885\n",
            "15147    0.0         1.0           15147\n",
            "16236    0.0         1.0           16236\n",
            "18968    0.0         1.0           18968\n",
            "17258    0.0         1.0           17258\n",
            "16201    0.0         1.0           16201\n",
            "16795    0.0         1.0           16795\n",
            "\n",
            "\n",
            "Top 10 transactions having highest similarity with transaction ID = 30439 and class = 0.0:\n",
            "       Class  Similarity  Transaction ID\n",
            "18064    0.0         1.0           18064\n",
            "17835    0.0         1.0           17835\n",
            "13292    0.0         1.0           13292\n",
            "10054    0.0         1.0           10054\n",
            "8783     0.0         1.0            8783\n",
            "12586    0.0         1.0           12586\n",
            "8968     0.0         1.0            8968\n",
            "7881     0.0         1.0            7881\n",
            "13175    0.0         1.0           13175\n",
            "15577    0.0         1.0           15577\n",
            "\n",
            "\n",
            "Top 10 transactions having highest similarity with transaction ID = 30440 and class = 0.0:\n",
            "       Class  Similarity  Transaction ID\n",
            "14909    0.0         1.0           14909\n",
            "18815    0.0         1.0           18815\n",
            "18740    0.0         1.0           18740\n",
            "17783    0.0         1.0           17783\n",
            "19308    0.0         1.0           19308\n",
            "19242    0.0         1.0           19242\n",
            "16972    0.0         1.0           16972\n",
            "18704    0.0         1.0           18704\n",
            "18354    0.0         1.0           18354\n",
            "16312    0.0         1.0           16312\n",
            "\n",
            "\n",
            "Top 10 transactions having highest similarity with transaction ID = 30441 and class = 0.0:\n",
            "       Class  Similarity  Transaction ID\n",
            "16264    0.0         1.0           16264\n",
            "18353    0.0         1.0           18353\n",
            "16601    0.0         1.0           16601\n",
            "16302    0.0         1.0           16302\n",
            "19625    0.0         1.0           19625\n",
            "18078    0.0         1.0           18078\n",
            "15646    0.0         1.0           15646\n",
            "14945    0.0         1.0           14945\n",
            "19948    0.0         1.0           19948\n",
            "19931    0.0         1.0           19931\n",
            "\n",
            "\n",
            "Top 10 transactions having highest similarity with transaction ID = 30442 and class = 1.0:\n",
            "       Class  Similarity  Transaction ID\n",
            "18649    0.0         1.0           18649\n",
            "16851    0.0         1.0           16851\n",
            "18773    1.0         1.0           18773\n",
            "18388    0.0         1.0           18388\n",
            "19611    0.0         1.0           19611\n",
            "17286    0.0         1.0           17286\n",
            "16736    0.0         1.0           16736\n",
            "17227    0.0         1.0           17227\n",
            "18969    0.0         1.0           18969\n",
            "16983    0.0         1.0           16983\n",
            "\n",
            "\n",
            "Top 10 transactions having highest similarity with transaction ID = 30443 and class = 0.0:\n",
            "       Class  Similarity  Transaction ID\n",
            "19946    0.0         1.0           19946\n",
            "16351    0.0         1.0           16351\n",
            "14758    0.0         1.0           14758\n",
            "18795    0.0         1.0           18795\n",
            "18853    0.0         1.0           18853\n",
            "17219    0.0         1.0           17219\n",
            "17882    0.0         1.0           17882\n",
            "19975    0.0         1.0           19975\n",
            "18406    0.0         1.0           18406\n",
            "16112    0.0         1.0           16112\n",
            "\n",
            "\n",
            "Top 10 transactions having highest similarity with transaction ID = 30444 and class = 0.0:\n",
            "       Class  Similarity  Transaction ID\n",
            "14286    0.0         1.0           14286\n",
            "16117    0.0         1.0           16117\n",
            "14611    0.0         1.0           14611\n",
            "14548    0.0         1.0           14548\n",
            "15913    0.0         1.0           15913\n",
            "14502    0.0         1.0           14502\n",
            "18782    0.0         1.0           18782\n",
            "15580    0.0         1.0           15580\n",
            "18718    0.0         1.0           18718\n",
            "17685    0.0         1.0           17685\n",
            "\n",
            "\n",
            "Top 10 transactions having highest similarity with transaction ID = 30445 and class = 0.0:\n",
            "       Class  Similarity  Transaction ID\n",
            "18022    0.0         1.0           18022\n",
            "14442    0.0         1.0           14442\n",
            "14979    0.0         1.0           14979\n",
            "19329    0.0         1.0           19329\n",
            "19251    0.0         1.0           19251\n",
            "14436    0.0         1.0           14436\n",
            "19227    0.0         1.0           19227\n",
            "17477    0.0         1.0           17477\n",
            "14823    0.0         1.0           14823\n",
            "17693    0.0         1.0           17693\n",
            "\n",
            "\n",
            "Top 10 transactions having highest similarity with transaction ID = 30446 and class = 0.0:\n",
            "       Class  Similarity  Transaction ID\n",
            "16629    0.0         1.0           16629\n",
            "15660    0.0         1.0           15660\n",
            "16883    0.0         1.0           16883\n",
            "18963    0.0         1.0           18963\n",
            "14675    0.0         1.0           14675\n",
            "16375    0.0         1.0           16375\n",
            "16888    0.0         1.0           16888\n",
            "14741    0.0         1.0           14741\n",
            "14860    0.0         1.0           14860\n",
            "19837    0.0         1.0           19837\n",
            "\n",
            "\n",
            "Top 10 transactions having highest similarity with transaction ID = 30447 and class = 0.0:\n",
            "       Class  Similarity  Transaction ID\n",
            "19944    0.0         1.0           19944\n",
            "17224    0.0         1.0           17224\n",
            "19621    0.0         1.0           19621\n",
            "18572    0.0         1.0           18572\n",
            "15453    0.0         1.0           15453\n",
            "17497    0.0         1.0           17497\n",
            "17346    0.0         1.0           17346\n",
            "17716    0.0         1.0           17716\n",
            "15343    0.0         1.0           15343\n",
            "14198    0.0         1.0           14198\n",
            "\n",
            "\n",
            "Top 10 transactions having highest similarity with transaction ID = 30448 and class = 0.0:\n",
            "       Class  Similarity  Transaction ID\n",
            "18423    0.0         1.0           18423\n",
            "19727    0.0         1.0           19727\n",
            "19564    0.0         1.0           19564\n",
            "19824    0.0         1.0           19824\n",
            "14614    0.0         1.0           14614\n",
            "16070    0.0         1.0           16070\n",
            "14425    0.0         1.0           14425\n",
            "18397    0.0         1.0           18397\n",
            "19022    0.0         1.0           19022\n",
            "17104    0.0         1.0           17104\n",
            "\n",
            "\n"
          ],
          "name": "stdout"
        },
        {
          "output_type": "stream",
          "text": [
            "Top 10 transactions having highest similarity with transaction ID = 30449 and class = 0.0:\n",
            "       Class  Similarity  Transaction ID\n",
            "19548    0.0         1.0           19548\n",
            "15247    0.0         1.0           15247\n",
            "16746    0.0         1.0           16746\n",
            "16879    0.0         1.0           16879\n",
            "17181    0.0         1.0           17181\n",
            "15377    0.0         1.0           15377\n",
            "19196    0.0         1.0           19196\n",
            "18363    0.0         1.0           18363\n",
            "18478    0.0         1.0           18478\n",
            "18086    0.0         1.0           18086\n",
            "\n",
            "\n",
            "Top 10 transactions having highest similarity with transaction ID = 30450 and class = 0.0:\n",
            "       Class  Similarity  Transaction ID\n",
            "15922    0.0         1.0           15922\n",
            "17232    0.0         1.0           17232\n",
            "17178    0.0         1.0           17178\n",
            "17344    0.0         1.0           17344\n",
            "17252    0.0         1.0           17252\n",
            "17791    0.0         1.0           17791\n",
            "14329    0.0         1.0           14329\n",
            "14459    0.0         1.0           14459\n",
            "19986    0.0         1.0           19986\n",
            "14283    0.0         1.0           14283\n",
            "\n",
            "\n",
            "Top 10 transactions having highest similarity with transaction ID = 30451 and class = 0.0:\n",
            "       Class  Similarity  Transaction ID\n",
            "19267    0.0         1.0           19267\n",
            "16004    0.0         1.0           16004\n",
            "17842    0.0         1.0           17842\n",
            "18123    0.0         1.0           18123\n",
            "17430    0.0         1.0           17430\n",
            "15579    0.0         1.0           15579\n",
            "15180    0.0         1.0           15180\n",
            "19121    0.0         1.0           19121\n",
            "17954    0.0         1.0           17954\n",
            "19340    0.0         1.0           19340\n",
            "\n",
            "\n",
            "Top 10 transactions having highest similarity with transaction ID = 30452 and class = 0.0:\n",
            "       Class  Similarity  Transaction ID\n",
            "17523    0.0         1.0           17523\n",
            "15065    0.0         1.0           15065\n",
            "17278    0.0         1.0           17278\n",
            "18033    0.0         1.0           18033\n",
            "15576    0.0         1.0           15576\n",
            "17455    0.0         1.0           17455\n",
            "19936    0.0         1.0           19936\n",
            "18777    0.0         1.0           18777\n",
            "17744    0.0         1.0           17744\n",
            "14874    0.0         1.0           14874\n",
            "\n",
            "\n",
            "Top 10 transactions having highest similarity with transaction ID = 30453 and class = 0.0:\n",
            "       Class  Similarity  Transaction ID\n",
            "14754    0.0         1.0           14754\n",
            "17973    0.0         1.0           17973\n",
            "19034    0.0         1.0           19034\n",
            "16562    0.0         1.0           16562\n",
            "17382    0.0         1.0           17382\n",
            "15228    0.0         1.0           15228\n",
            "16157    0.0         1.0           16157\n",
            "18617    0.0         1.0           18617\n",
            "19481    0.0         1.0           19481\n",
            "16220    0.0         1.0           16220\n",
            "\n",
            "\n",
            "Top 10 transactions having highest similarity with transaction ID = 30454 and class = 0.0:\n",
            "       Class  Similarity  Transaction ID\n",
            "18278    0.0         1.0           18278\n",
            "16653    0.0         1.0           16653\n",
            "18922    0.0         1.0           18922\n",
            "16447    0.0         1.0           16447\n",
            "17266    0.0         1.0           17266\n",
            "17661    0.0         1.0           17661\n",
            "14356    0.0         1.0           14356\n",
            "15778    0.0         1.0           15778\n",
            "14855    0.0         1.0           14855\n",
            "16275    0.0         1.0           16275\n",
            "\n",
            "\n",
            "Top 10 transactions having highest similarity with transaction ID = 30455 and class = 0.0:\n",
            "       Class  Similarity  Transaction ID\n",
            "18605    0.0         1.0           18605\n",
            "15723    0.0         1.0           15723\n",
            "17845    0.0         1.0           17845\n",
            "15520    0.0         1.0           15520\n",
            "16488    0.0         1.0           16488\n",
            "15880    0.0         1.0           15880\n",
            "16753    0.0         1.0           16753\n",
            "14244    0.0         1.0           14244\n",
            "17148    0.0         1.0           17148\n",
            "17851    0.0         1.0           17851\n",
            "\n",
            "\n",
            "Top 10 transactions having highest similarity with transaction ID = 30456 and class = 0.0:\n",
            "       Class  Similarity  Transaction ID\n",
            "17185    0.0         1.0           17185\n",
            "16862    0.0         1.0           16862\n",
            "17107    0.0         1.0           17107\n",
            "14524    0.0         1.0           14524\n",
            "18392    0.0         1.0           18392\n",
            "16890    0.0         1.0           16890\n",
            "17090    0.0         1.0           17090\n",
            "15978    0.0         1.0           15978\n",
            "18694    0.0         1.0           18694\n",
            "17003    0.0         1.0           17003\n",
            "\n",
            "\n",
            "Top 10 transactions having highest similarity with transaction ID = 30457 and class = 0.0:\n",
            "       Class  Similarity  Transaction ID\n",
            "16264    0.0         1.0           16264\n",
            "15349    0.0         1.0           15349\n",
            "16869    0.0         1.0           16869\n",
            "18124    0.0         1.0           18124\n",
            "19625    0.0         1.0           19625\n",
            "15335    0.0         1.0           15335\n",
            "17015    0.0         1.0           17015\n",
            "19284    0.0         1.0           19284\n",
            "17860    0.0         1.0           17860\n",
            "16785    0.0         1.0           16785\n",
            "\n",
            "\n",
            "Top 10 transactions having highest similarity with transaction ID = 30458 and class = 0.0:\n",
            "       Class  Similarity  Transaction ID\n",
            "17917    0.0         1.0           17917\n",
            "15173    0.0         1.0           15173\n",
            "17810    0.0         1.0           17810\n",
            "17833    0.0         1.0           17833\n",
            "19249    0.0         1.0           19249\n",
            "19451    0.0         1.0           19451\n",
            "17298    0.0         1.0           17298\n",
            "16160    0.0         1.0           16160\n",
            "19800    0.0         1.0           19800\n",
            "17860    0.0         1.0           17860\n",
            "\n",
            "\n",
            "Top 10 transactions having highest similarity with transaction ID = 30459 and class = 0.0:\n",
            "       Class  Similarity  Transaction ID\n",
            "15591    0.0         1.0           15591\n",
            "18819    0.0         1.0           18819\n",
            "16889    0.0         1.0           16889\n",
            "19901    0.0         1.0           19901\n",
            "19082    0.0         1.0           19082\n",
            "15261    0.0         1.0           15261\n",
            "19547    0.0         1.0           19547\n",
            "16959    0.0         1.0           16959\n",
            "15388    0.0         1.0           15388\n",
            "18380    0.0         1.0           18380\n",
            "\n",
            "\n",
            "Top 10 transactions having highest similarity with transaction ID = 30460 and class = 0.0:\n",
            "       Class  Similarity  Transaction ID\n",
            "19291    0.0         1.0           19291\n",
            "19463    0.0         1.0           19463\n",
            "18029    0.0         1.0           18029\n",
            "19008    0.0         1.0           19008\n",
            "17898    0.0         1.0           17898\n",
            "15933    0.0         1.0           15933\n",
            "16953    0.0         1.0           16953\n",
            "15794    0.0         1.0           15794\n",
            "16010    0.0         1.0           16010\n",
            "15402    0.0         1.0           15402\n",
            "\n",
            "\n",
            "Top 10 transactions having highest similarity with transaction ID = 30461 and class = 0.0:\n",
            "       Class  Similarity  Transaction ID\n",
            "18156    0.0         1.0           18156\n",
            "17013    0.0         1.0           17013\n",
            "19676    0.0         1.0           19676\n",
            "18842    0.0         1.0           18842\n",
            "17400    0.0         1.0           17400\n",
            "17425    0.0         1.0           17425\n",
            "18593    0.0         1.0           18593\n",
            "15323    0.0         1.0           15323\n",
            "17564    0.0         1.0           17564\n",
            "18645    0.0         1.0           18645\n",
            "\n",
            "\n",
            "Top 10 transactions having highest similarity with transaction ID = 30462 and class = 0.0:\n",
            "       Class  Similarity  Transaction ID\n",
            "18346    0.0         1.0           18346\n",
            "18634    0.0         1.0           18634\n",
            "14885    0.0         1.0           14885\n",
            "16124    0.0         1.0           16124\n",
            "16400    0.0         1.0           16400\n",
            "15830    0.0         1.0           15830\n",
            "19388    0.0         1.0           19388\n",
            "18793    0.0         1.0           18793\n",
            "15755    0.0         1.0           15755\n",
            "17902    0.0         1.0           17902\n",
            "\n",
            "\n",
            "Top 10 transactions having highest similarity with transaction ID = 30463 and class = 0.0:\n",
            "       Class  Similarity  Transaction ID\n",
            "18282    0.0         1.0           18282\n",
            "17456    0.0         1.0           17456\n",
            "19241    0.0         1.0           19241\n",
            "18237    0.0         1.0           18237\n",
            "19299    0.0         1.0           19299\n",
            "16518    0.0         1.0           16518\n",
            "14453    0.0         1.0           14453\n",
            "19033    0.0         1.0           19033\n",
            "16276    0.0         1.0           16276\n",
            "19010    0.0         1.0           19010\n",
            "\n",
            "\n",
            "Top 10 transactions having highest similarity with transaction ID = 30464 and class = 0.0:\n",
            "       Class  Similarity  Transaction ID\n",
            "18793    0.0         1.0           18793\n",
            "18838    0.0         1.0           18838\n",
            "16004    0.0         1.0           16004\n",
            "19927    0.0         1.0           19927\n",
            "15628    0.0         1.0           15628\n",
            "18346    0.0         1.0           18346\n",
            "18039    0.0         1.0           18039\n",
            "14889    0.0         1.0           14889\n",
            "15171    0.0         1.0           15171\n",
            "15823    0.0         1.0           15823\n",
            "\n",
            "\n"
          ],
          "name": "stdout"
        },
        {
          "output_type": "stream",
          "text": [
            "Top 10 transactions having highest similarity with transaction ID = 30465 and class = 0.0:\n",
            "       Class  Similarity  Transaction ID\n",
            "19761    0.0         1.0           19761\n",
            "17254    0.0         1.0           17254\n",
            "17341    0.0         1.0           17341\n",
            "17802    0.0         1.0           17802\n",
            "19045    0.0         1.0           19045\n",
            "17781    0.0         1.0           17781\n",
            "17489    0.0         1.0           17489\n",
            "16904    0.0         1.0           16904\n",
            "15541    0.0         1.0           15541\n",
            "17919    0.0         1.0           17919\n",
            "\n",
            "\n",
            "Top 10 transactions having highest similarity with transaction ID = 30466 and class = 0.0:\n",
            "       Class  Similarity  Transaction ID\n",
            "14858    0.0         1.0           14858\n",
            "19062    0.0         1.0           19062\n",
            "14586    0.0         1.0           14586\n",
            "15844    0.0         1.0           15844\n",
            "18020    0.0         1.0           18020\n",
            "15495    0.0         1.0           15495\n",
            "14414    0.0         1.0           14414\n",
            "19247    0.0         1.0           19247\n",
            "17084    0.0         1.0           17084\n",
            "17196    0.0         1.0           17196\n",
            "\n",
            "\n",
            "Top 10 transactions having highest similarity with transaction ID = 30467 and class = 0.0:\n",
            "       Class  Similarity  Transaction ID\n",
            "15640    0.0         1.0           15640\n",
            "16928    0.0         1.0           16928\n",
            "17447    0.0         1.0           17447\n",
            "18836    0.0         1.0           18836\n",
            "17491    0.0         1.0           17491\n",
            "16365    0.0         1.0           16365\n",
            "17435    0.0         1.0           17435\n",
            "17495    0.0         1.0           17495\n",
            "14979    0.0         1.0           14979\n",
            "16331    0.0         1.0           16331\n",
            "\n",
            "\n",
            "Top 10 transactions having highest similarity with transaction ID = 30468 and class = 0.0:\n",
            "       Class  Similarity  Transaction ID\n",
            "19495    0.0         1.0           19495\n",
            "14810    0.0         1.0           14810\n",
            "19891    0.0         1.0           19891\n",
            "16901    0.0         1.0           16901\n",
            "16527    0.0         1.0           16527\n",
            "19976    0.0         1.0           19976\n",
            "17780    0.0         1.0           17780\n",
            "16729    0.0         1.0           16729\n",
            "14559    0.0         1.0           14559\n",
            "18378    0.0         1.0           18378\n",
            "\n",
            "\n",
            "Top 10 transactions having highest similarity with transaction ID = 30469 and class = 0.0:\n",
            "       Class  Similarity  Transaction ID\n",
            "19142    0.0         1.0           19142\n",
            "19578    0.0         1.0           19578\n",
            "16720    0.0         1.0           16720\n",
            "19394    0.0         1.0           19394\n",
            "16262    0.0         1.0           16262\n",
            "17517    0.0         1.0           17517\n",
            "19040    0.0         1.0           19040\n",
            "19134    0.0         1.0           19134\n",
            "15480    0.0         1.0           15480\n",
            "15290    0.0         1.0           15290\n",
            "\n",
            "\n",
            "Top 10 transactions having highest similarity with transaction ID = 30470 and class = 0.0:\n",
            "       Class  Similarity  Transaction ID\n",
            "15646    0.0         1.0           15646\n",
            "16132    0.0         1.0           16132\n",
            "18390    0.0         1.0           18390\n",
            "16264    0.0         1.0           16264\n",
            "18353    0.0         1.0           18353\n",
            "18144    0.0         1.0           18144\n",
            "18625    0.0         1.0           18625\n",
            "15326    0.0         1.0           15326\n",
            "17396    0.0         1.0           17396\n",
            "17181    0.0         1.0           17181\n",
            "\n",
            "\n",
            "Top 10 transactions having highest similarity with transaction ID = 30471 and class = 0.0:\n",
            "       Class  Similarity  Transaction ID\n",
            "16945    0.0         1.0           16945\n",
            "17007    0.0         1.0           17007\n",
            "19996    0.0         1.0           19996\n",
            "15333    0.0         1.0           15333\n",
            "14855    0.0         1.0           14855\n",
            "17243    0.0         1.0           17243\n",
            "19431    0.0         1.0           19431\n",
            "17626    0.0         1.0           17626\n",
            "17661    0.0         1.0           17661\n",
            "17268    0.0         1.0           17268\n",
            "\n",
            "\n",
            "Top 10 transactions having highest similarity with transaction ID = 30472 and class = 0.0:\n",
            "       Class  Similarity  Transaction ID\n",
            "17338    0.0         1.0           17338\n",
            "18214    0.0         1.0           18214\n",
            "19355    0.0         1.0           19355\n",
            "17694    0.0         1.0           17694\n",
            "14215    0.0         1.0           14215\n",
            "12785    0.0         1.0           12785\n",
            "16525    0.0         1.0           16525\n",
            "12087    0.0         1.0           12087\n",
            "13038    0.0         1.0           13038\n",
            "9524     0.0         1.0            9524\n",
            "\n",
            "\n",
            "Top 10 transactions having highest similarity with transaction ID = 30473 and class = 1.0:\n",
            "       Class  Similarity  Transaction ID\n",
            "18649    0.0         1.0           18649\n",
            "16851    0.0         1.0           16851\n",
            "16415    1.0         1.0           16415\n",
            "19762    0.0         1.0           19762\n",
            "14270    0.0         1.0           14270\n",
            "18882    0.0         1.0           18882\n",
            "17193    0.0         1.0           17193\n",
            "16981    0.0         1.0           16981\n",
            "19234    0.0         1.0           19234\n",
            "15058    0.0         1.0           15058\n",
            "\n",
            "\n",
            "Top 10 transactions having highest similarity with transaction ID = 30474 and class = 0.0:\n",
            "       Class  Similarity  Transaction ID\n",
            "17963    0.0         1.0           17963\n",
            "19509    0.0         1.0           19509\n",
            "16900    0.0         1.0           16900\n",
            "15895    0.0         1.0           15895\n",
            "18159    0.0         1.0           18159\n",
            "13273    0.0         1.0           13273\n",
            "15464    0.0         1.0           15464\n",
            "18549    0.0         1.0           18549\n",
            "16245    0.0         1.0           16245\n",
            "16414    0.0         1.0           16414\n",
            "\n",
            "\n",
            "Top 10 transactions having highest similarity with transaction ID = 30475 and class = 0.0:\n",
            "       Class  Similarity  Transaction ID\n",
            "18936    0.0         1.0           18936\n",
            "18408    0.0         1.0           18408\n",
            "17013    0.0         1.0           17013\n",
            "14770    0.0         1.0           14770\n",
            "18645    0.0         1.0           18645\n",
            "19738    0.0         1.0           19738\n",
            "18842    0.0         1.0           18842\n",
            "17425    0.0         1.0           17425\n",
            "16367    0.0         1.0           16367\n",
            "19668    0.0         1.0           19668\n",
            "\n",
            "\n",
            "Top 10 transactions having highest similarity with transaction ID = 30476 and class = 0.0:\n",
            "       Class  Similarity  Transaction ID\n",
            "19485    0.0         1.0           19485\n",
            "15592    0.0         1.0           15592\n",
            "15372    0.0         1.0           15372\n",
            "15866    0.0         1.0           15866\n",
            "19650    0.0         1.0           19650\n",
            "14530    0.0         1.0           14530\n",
            "17421    0.0         1.0           17421\n",
            "15337    0.0         1.0           15337\n",
            "16587    0.0         1.0           16587\n",
            "19863    0.0         1.0           19863\n",
            "\n",
            "\n",
            "Top 10 transactions having highest similarity with transaction ID = 30477 and class = 0.0:\n",
            "       Class  Similarity  Transaction ID\n",
            "18179    0.0         1.0           18179\n",
            "19169    0.0         1.0           19169\n",
            "15972    0.0         1.0           15972\n",
            "19715    0.0         1.0           19715\n",
            "19747    0.0         1.0           19747\n",
            "16523    0.0         1.0           16523\n",
            "19347    0.0         1.0           19347\n",
            "16261    0.0         1.0           16261\n",
            "15056    0.0         1.0           15056\n",
            "16020    0.0         1.0           16020\n",
            "\n",
            "\n",
            "Top 10 transactions having highest similarity with transaction ID = 30478 and class = 0.0:\n",
            "       Class  Similarity  Transaction ID\n",
            "16947    0.0         1.0           16947\n",
            "16604    0.0         1.0           16604\n",
            "16959    0.0         1.0           16959\n",
            "15362    0.0         1.0           15362\n",
            "14540    0.0         1.0           14540\n",
            "17906    0.0         1.0           17906\n",
            "18768    0.0         1.0           18768\n",
            "14532    0.0         1.0           14532\n",
            "17337    0.0         1.0           17337\n",
            "15261    0.0         1.0           15261\n",
            "\n",
            "\n",
            "Top 10 transactions having highest similarity with transaction ID = 30479 and class = 0.0:\n",
            "       Class  Similarity  Transaction ID\n",
            "16245    0.0         1.0           16245\n",
            "19509    0.0         1.0           19509\n",
            "18549    0.0         1.0           18549\n",
            "17538    0.0         1.0           17538\n",
            "19454    0.0         1.0           19454\n",
            "17112    0.0         1.0           17112\n",
            "19728    0.0         1.0           19728\n",
            "16900    0.0         1.0           16900\n",
            "18159    0.0         1.0           18159\n",
            "18267    0.0         1.0           18267\n",
            "\n",
            "\n",
            "Top 10 transactions having highest similarity with transaction ID = 30480 and class = 0.0:\n",
            "       Class  Similarity  Transaction ID\n",
            "19951    0.0         1.0           19951\n",
            "19023    0.0         1.0           19023\n",
            "18679    0.0         1.0           18679\n",
            "19199    0.0         1.0           19199\n",
            "15250    0.0         1.0           15250\n",
            "16996    0.0         1.0           16996\n",
            "19734    0.0         1.0           19734\n",
            "15034    0.0         1.0           15034\n",
            "17239    0.0         1.0           17239\n",
            "19465    0.0         1.0           19465\n",
            "\n",
            "\n"
          ],
          "name": "stdout"
        },
        {
          "output_type": "stream",
          "text": [
            "Top 10 transactions having highest similarity with transaction ID = 30481 and class = 0.0:\n",
            "       Class  Similarity  Transaction ID\n",
            "18704    0.0         1.0           18704\n",
            "18874    0.0         1.0           18874\n",
            "19889    0.0         1.0           19889\n",
            "16884    0.0         1.0           16884\n",
            "18877    0.0         1.0           18877\n",
            "17423    0.0         1.0           17423\n",
            "16162    0.0         1.0           16162\n",
            "17926    0.0         1.0           17926\n",
            "19859    0.0         1.0           19859\n",
            "17812    0.0         1.0           17812\n",
            "\n",
            "\n",
            "Top 10 transactions having highest similarity with transaction ID = 30482 and class = 0.0:\n",
            "       Class  Similarity  Transaction ID\n",
            "19232    0.0         1.0           19232\n",
            "16614    0.0         1.0           16614\n",
            "15093    0.0         1.0           15093\n",
            "16322    0.0         1.0           16322\n",
            "13159    0.0         1.0           13159\n",
            "17892    0.0         1.0           17892\n",
            "13125    0.0         1.0           13125\n",
            "17068    0.0         1.0           17068\n",
            "16135    0.0         1.0           16135\n",
            "17957    0.0         1.0           17957\n",
            "\n",
            "\n",
            "Top 10 transactions having highest similarity with transaction ID = 30483 and class = 0.0:\n",
            "       Class  Similarity  Transaction ID\n",
            "14705    0.0         1.0           14705\n",
            "18781    0.0         1.0           18781\n",
            "17032    0.0         1.0           17032\n",
            "19539    0.0         1.0           19539\n",
            "14730    0.0         1.0           14730\n",
            "18220    0.0         1.0           18220\n",
            "18139    0.0         1.0           18139\n",
            "17735    0.0         1.0           17735\n",
            "18381    0.0         1.0           18381\n",
            "18013    0.0         1.0           18013\n",
            "\n",
            "\n",
            "Top 10 transactions having highest similarity with transaction ID = 30484 and class = 0.0:\n",
            "       Class  Similarity  Transaction ID\n",
            "18768    0.0         1.0           18768\n",
            "16947    0.0         1.0           16947\n",
            "16604    0.0         1.0           16604\n",
            "19205    0.0         1.0           19205\n",
            "16739    0.0         1.0           16739\n",
            "16206    0.0         1.0           16206\n",
            "16959    0.0         1.0           16959\n",
            "15032    0.0         1.0           15032\n",
            "14605    0.0         1.0           14605\n",
            "16093    0.0         1.0           16093\n",
            "\n",
            "\n",
            "Top 10 transactions having highest similarity with transaction ID = 30485 and class = 0.0:\n",
            "       Class  Similarity  Transaction ID\n",
            "17586    0.0         1.0           17586\n",
            "17211    0.0         1.0           17211\n",
            "19532    0.0         1.0           19532\n",
            "17243    0.0         1.0           17243\n",
            "19724    0.0         1.0           19724\n",
            "19431    0.0         1.0           19431\n",
            "14703    0.0         1.0           14703\n",
            "14855    0.0         1.0           14855\n",
            "15861    0.0         1.0           15861\n",
            "17411    0.0         1.0           17411\n",
            "\n",
            "\n",
            "Top 10 transactions having highest similarity with transaction ID = 30486 and class = 0.0:\n",
            "       Class  Similarity  Transaction ID\n",
            "19502    0.0         1.0           19502\n",
            "19820    0.0         1.0           19820\n",
            "17378    0.0         1.0           17378\n",
            "16250    0.0         1.0           16250\n",
            "16177    0.0         1.0           16177\n",
            "18245    0.0         1.0           18245\n",
            "19185    0.0         1.0           19185\n",
            "18301    0.0         1.0           18301\n",
            "15340    0.0         1.0           15340\n",
            "15662    0.0         1.0           15662\n",
            "\n",
            "\n",
            "Top 10 transactions having highest similarity with transaction ID = 30487 and class = 0.0:\n",
            "       Class  Similarity  Transaction ID\n",
            "18682    0.0         1.0           18682\n",
            "16877    0.0         1.0           16877\n",
            "18371    0.0         1.0           18371\n",
            "16880    0.0         1.0           16880\n",
            "19911    0.0         1.0           19911\n",
            "15936    0.0         1.0           15936\n",
            "14750    0.0         1.0           14750\n",
            "16134    0.0         1.0           16134\n",
            "19778    0.0         1.0           19778\n",
            "18815    0.0         1.0           18815\n",
            "\n",
            "\n",
            "Top 10 transactions having highest similarity with transaction ID = 30488 and class = 0.0:\n",
            "       Class  Similarity  Transaction ID\n",
            "14878    0.0         1.0           14878\n",
            "16801    0.0         1.0           16801\n",
            "16456    0.0         1.0           16456\n",
            "14238    0.0         1.0           14238\n",
            "18642    0.0         1.0           18642\n",
            "15420    0.0         1.0           15420\n",
            "19125    0.0         1.0           19125\n",
            "16561    0.0         1.0           16561\n",
            "16860    0.0         1.0           16860\n",
            "18170    0.0         1.0           18170\n",
            "\n",
            "\n",
            "Top 10 transactions having highest similarity with transaction ID = 30489 and class = 0.0:\n",
            "       Class  Similarity  Transaction ID\n",
            "19204    0.0         1.0           19204\n",
            "17368    0.0         1.0           17368\n",
            "14489    0.0         1.0           14489\n",
            "16699    0.0         1.0           16699\n",
            "15805    0.0         1.0           15805\n",
            "17469    0.0         1.0           17469\n",
            "17431    0.0         1.0           17431\n",
            "18936    0.0         1.0           18936\n",
            "18348    0.0         1.0           18348\n",
            "19342    0.0         1.0           19342\n",
            "\n",
            "\n",
            "Top 10 transactions having highest similarity with transaction ID = 30490 and class = 0.0:\n",
            "       Class  Similarity  Transaction ID\n",
            "17375    0.0         1.0           17375\n",
            "16619    0.0         1.0           16619\n",
            "14847    0.0         1.0           14847\n",
            "18517    0.0         1.0           18517\n",
            "16213    0.0         1.0           16213\n",
            "15221    0.0         1.0           15221\n",
            "16908    0.0         1.0           16908\n",
            "15114    0.0         1.0           15114\n",
            "15140    0.0         1.0           15140\n",
            "15150    0.0         1.0           15150\n",
            "\n",
            "\n",
            "Top 10 transactions having highest similarity with transaction ID = 30491 and class = 0.0:\n",
            "       Class  Similarity  Transaction ID\n",
            "18254    0.0         1.0           18254\n",
            "18979    0.0         1.0           18979\n",
            "19887    0.0         1.0           19887\n",
            "18825    0.0         1.0           18825\n",
            "18502    0.0         1.0           18502\n",
            "19144    0.0         1.0           19144\n",
            "19802    0.0         1.0           19802\n",
            "17533    0.0         1.0           17533\n",
            "17174    0.0         1.0           17174\n",
            "19545    0.0         1.0           19545\n",
            "\n",
            "\n",
            "Top 10 transactions having highest similarity with transaction ID = 30492 and class = 0.0:\n",
            "       Class  Similarity  Transaction ID\n",
            "17021    0.0         1.0           17021\n",
            "16032    0.0         1.0           16032\n",
            "16274    0.0         1.0           16274\n",
            "17032    0.0         1.0           17032\n",
            "18781    0.0         1.0           18781\n",
            "17325    0.0         1.0           17325\n",
            "19840    0.0         1.0           19840\n",
            "16450    0.0         1.0           16450\n",
            "16589    0.0         1.0           16589\n",
            "16480    0.0         1.0           16480\n",
            "\n",
            "\n",
            "Top 10 transactions having highest similarity with transaction ID = 30493 and class = 0.0:\n",
            "       Class  Similarity  Transaction ID\n",
            "19028    0.0         1.0           19028\n",
            "15078    0.0         1.0           15078\n",
            "19883    0.0         1.0           19883\n",
            "19054    0.0         1.0           19054\n",
            "19166    0.0         1.0           19166\n",
            "19510    0.0         1.0           19510\n",
            "17124    0.0         1.0           17124\n",
            "18880    0.0         1.0           18880\n",
            "17980    0.0         1.0           17980\n",
            "18864    0.0         1.0           18864\n",
            "\n",
            "\n",
            "Top 10 transactions having highest similarity with transaction ID = 30494 and class = 0.0:\n",
            "       Class  Similarity  Transaction ID\n",
            "15681    0.0         1.0           15681\n",
            "19870    0.0         1.0           19870\n",
            "15046    0.0         1.0           15046\n",
            "17325    0.0         1.0           17325\n",
            "18781    0.0         1.0           18781\n",
            "17032    0.0         1.0           17032\n",
            "18589    0.0         1.0           18589\n",
            "14705    0.0         1.0           14705\n",
            "16480    0.0         1.0           16480\n",
            "14201    0.0         1.0           14201\n",
            "\n",
            "\n",
            "Top 10 transactions having highest similarity with transaction ID = 30495 and class = 0.0:\n",
            "       Class  Similarity  Transaction ID\n",
            "16857    0.0         1.0           16857\n",
            "19729    0.0         1.0           19729\n",
            "17119    0.0         1.0           17119\n",
            "18678    0.0         1.0           18678\n",
            "19009    0.0         1.0           19009\n",
            "16887    0.0         1.0           16887\n",
            "16784    0.0         1.0           16784\n",
            "18541    0.0         1.0           18541\n",
            "14973    0.0         1.0           14973\n",
            "18532    0.0         1.0           18532\n",
            "\n",
            "\n",
            "Top 10 transactions having highest similarity with transaction ID = 30496 and class = 1.0:\n",
            "       Class  Similarity  Transaction ID\n",
            "18125    0.0         1.0           18125\n",
            "18150    0.0         1.0           18150\n",
            "17916    0.0         1.0           17916\n",
            "17592    0.0         1.0           17592\n",
            "17322    0.0         1.0           17322\n",
            "19145    0.0         1.0           19145\n",
            "19183    0.0         1.0           19183\n",
            "9643     0.0         1.0            9643\n",
            "18038    0.0         1.0           18038\n",
            "18081    0.0         1.0           18081\n",
            "\n",
            "\n"
          ],
          "name": "stdout"
        },
        {
          "output_type": "stream",
          "text": [
            "Top 10 transactions having highest similarity with transaction ID = 30497 and class = 0.0:\n",
            "       Class  Similarity  Transaction ID\n",
            "16671    0.0         1.0           16671\n",
            "14875    0.0         1.0           14875\n",
            "17632    0.0         1.0           17632\n",
            "19007    0.0         1.0           19007\n",
            "17244    0.0         1.0           17244\n",
            "18109    0.0         1.0           18109\n",
            "15270    0.0         1.0           15270\n",
            "15972    0.0         1.0           15972\n",
            "19747    0.0         1.0           19747\n",
            "18473    0.0         1.0           18473\n",
            "\n",
            "\n",
            "Top 10 transactions having highest similarity with transaction ID = 30498 and class = 0.0:\n",
            "       Class  Similarity  Transaction ID\n",
            "16671    0.0         1.0           16671\n",
            "15229    0.0         1.0           15229\n",
            "14604    0.0         1.0           14604\n",
            "19665    0.0         1.0           19665\n",
            "18906    0.0         1.0           18906\n",
            "14908    0.0         1.0           14908\n",
            "19747    0.0         1.0           19747\n",
            "19998    0.0         1.0           19998\n",
            "18679    0.0         1.0           18679\n",
            "17244    0.0         1.0           17244\n",
            "\n",
            "\n",
            "Top 10 transactions having highest similarity with transaction ID = 30499 and class = 0.0:\n",
            "       Class  Similarity  Transaction ID\n",
            "19925    0.0         1.0           19925\n",
            "19907    0.0         1.0           19907\n",
            "18175    0.0         1.0           18175\n",
            "19063    0.0         1.0           19063\n",
            "15737    0.0         1.0           15737\n",
            "18103    0.0         1.0           18103\n",
            "16002    0.0         1.0           16002\n",
            "16277    0.0         1.0           16277\n",
            "17583    0.0         1.0           17583\n",
            "15713    0.0         1.0           15713\n",
            "\n",
            "\n",
            "Top 10 transactions having highest similarity with transaction ID = 30500 and class = 0.0:\n",
            "       Class  Similarity  Transaction ID\n",
            "19535    0.0         1.0           19535\n",
            "15901    0.0         1.0           15901\n",
            "17153    0.0         1.0           17153\n",
            "18648    0.0         1.0           18648\n",
            "14382    0.0         1.0           14382\n",
            "18638    0.0         1.0           18638\n",
            "14596    0.0         1.0           14596\n",
            "14179    0.0         1.0           14179\n",
            "15407    0.0         1.0           15407\n",
            "14222    0.0         1.0           14222\n",
            "\n",
            "\n"
          ],
          "name": "stdout"
        }
      ]
    }
  ]
}