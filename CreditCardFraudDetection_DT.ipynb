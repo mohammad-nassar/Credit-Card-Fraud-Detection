{
  "nbformat": 4,
  "nbformat_minor": 0,
  "metadata": {
    "kernelspec": {
      "display_name": "Python 3",
      "language": "python",
      "name": "python3"
    },
    "language_info": {
      "codemirror_mode": {
        "name": "ipython",
        "version": 3
      },
      "file_extension": ".py",
      "mimetype": "text/x-python",
      "name": "python",
      "nbconvert_exporter": "python",
      "pygments_lexer": "ipython3",
      "version": "3.7.4"
    },
    "colab": {
      "name": "CreditCardFraudDetection.ipynb",
      "provenance": [],
      "include_colab_link": true
    }
  },
  "cells": [
    {
      "cell_type": "markdown",
      "metadata": {
        "id": "view-in-github",
        "colab_type": "text"
      },
      "source": [
        "<a href=\"https://colab.research.google.com/github/mohammad0alfares/Credit-Card-Fraud-Detection/blob/master/CreditCardFraudDetection_DT.ipynb\" target=\"_parent\"><img src=\"https://colab.research.google.com/assets/colab-badge.svg\" alt=\"Open In Colab\"/></a>"
      ]
    },
    {
      "cell_type": "markdown",
      "metadata": {
        "id": "WXpnxtWRFwQW",
        "colab_type": "text"
      },
      "source": [
        "# About The data set\n",
        "\n",
        "The datasets contains transactions made by credit cards in September 2013 by european cardholders. This dataset presents transactions that occurred in two days, where we have 492 frauds out of 284,807 transactions. The dataset is highly unbalanced, the positive class (frauds) account for 0.172% of all transactions.\n",
        "\n",
        "It contains only numerical input variables which are the result of a PCA transformation. Unfortunately, due to confidentiality issues, we cannot provide the original features and more background information about the data. Features V1, V2, ... V28 are the principal components obtained with PCA, the only features which have not been transformed with PCA are 'Time' and 'Amount'. Feature 'Time' contains the seconds elapsed between each transaction and the first transaction in the dataset. The feature 'Amount' is the transaction Amount, this feature can be used for example-dependant cost-senstive learning. **Feature 'Class' is the response variable and it takes value 1 in case of fraud and 0 otherwise.**\n",
        "\n",
        "Given the class imbalance ratio, we recommend measuring the accuracy using the Area Under the Precision-Recall Curve (AUPRC). Confusion matrix accuracy is not meaningful for unbalanced classification.\n",
        "\n",
        "The dataset has been collected and analysed during a research collaboration of Worldline and the Machine Learning Group (http://mlg.ulb.ac.be) of ULB (Université Libre de Bruxelles) on big data mining and fraud detection. "
      ]
    },
    {
      "cell_type": "markdown",
      "metadata": {
        "id": "s6BVNOhHFwQQ",
        "colab_type": "text"
      },
      "source": [
        "# Import Data from Drive\n",
        "\n",
        "Please download the data from https://www.kaggle.com/mlg-ulb/creditcardfraud\n",
        "\n",
        "Info about data: it is a CSV file, contains 31 features, the last feature is used to classify the transaction whether it is a fraud or not\n",
        "\n"
      ]
    },
    {
      "cell_type": "code",
      "metadata": {
        "id": "qj4vJhgIIE_l",
        "colab_type": "code",
        "colab": {
          "base_uri": "https://localhost:8080/",
          "height": 34
        },
        "outputId": "435fb37f-ee6e-4b6a-b6cf-51d708c23b03"
      },
      "source": [
        "from google.colab import drive\n",
        "drive.mount('/content/drive', force_remount=True)"
      ],
      "execution_count": 29,
      "outputs": [
        {
          "output_type": "stream",
          "text": [
            "Mounted at /content/drive\n"
          ],
          "name": "stdout"
        }
      ]
    },
    {
      "cell_type": "code",
      "metadata": {
        "id": "3zTlRkH1IaG_",
        "colab_type": "code",
        "colab": {}
      },
      "source": [
        "import os \n"
      ],
      "execution_count": 30,
      "outputs": []
    },
    {
      "cell_type": "code",
      "metadata": {
        "id": "G3A0ap2lIyC8",
        "colab_type": "code",
        "colab": {}
      },
      "source": [
        "os.chdir(\"/content/drive/My Drive/CreditCard\")"
      ],
      "execution_count": 31,
      "outputs": []
    },
    {
      "cell_type": "code",
      "metadata": {
        "id": "ixAvYIe8IiL0",
        "colab_type": "code",
        "colab": {
          "base_uri": "https://localhost:8080/",
          "height": 68
        },
        "outputId": "e0707f90-0ff6-4f50-d41c-ad4b216cd831"
      },
      "source": [
        "cwd = os.getcwd()\n",
        "print (cwd)\n",
        "!ls -lah"
      ],
      "execution_count": 32,
      "outputs": [
        {
          "output_type": "stream",
          "text": [
            "/content/drive/My Drive/CreditCard\n",
            "total 144M\n",
            "-rw------- 1 root root 144M Feb 29 08:20 creditcard.csv\n"
          ],
          "name": "stdout"
        }
      ]
    },
    {
      "cell_type": "code",
      "metadata": {
        "id": "1TP0XZeDoomw",
        "colab_type": "code",
        "colab": {
          "base_uri": "https://localhost:8080/",
          "height": 34
        },
        "outputId": "5c77405c-d2c2-4154-9744-0450b8cadfd5"
      },
      "source": [
        "!wc -l creditcard.csv\n"
      ],
      "execution_count": 33,
      "outputs": [
        {
          "output_type": "stream",
          "text": [
            "284808 creditcard.csv\n"
          ],
          "name": "stdout"
        }
      ]
    },
    {
      "cell_type": "code",
      "metadata": {
        "id": "yQFvJf4mKj2-",
        "colab_type": "code",
        "colab": {
          "base_uri": "https://localhost:8080/",
          "height": 224
        },
        "outputId": "97517dfd-4d9b-4933-c14d-c1dd0522e9f1"
      },
      "source": [
        "import pandas as pd\n",
        "import seaborn as sns\n",
        "import matplotlib.pyplot as plt\n",
        "import numpy as np\n",
        "\n",
        "url = \"/content/drive/My Drive/CreditCard/creditcard.csv\"\n",
        "\n",
        "creditcard = pd.read_csv(url)\n",
        "\n",
        "creditcard.head()\n"
      ],
      "execution_count": 34,
      "outputs": [
        {
          "output_type": "execute_result",
          "data": {
            "text/html": [
              "<div>\n",
              "<style scoped>\n",
              "    .dataframe tbody tr th:only-of-type {\n",
              "        vertical-align: middle;\n",
              "    }\n",
              "\n",
              "    .dataframe tbody tr th {\n",
              "        vertical-align: top;\n",
              "    }\n",
              "\n",
              "    .dataframe thead th {\n",
              "        text-align: right;\n",
              "    }\n",
              "</style>\n",
              "<table border=\"1\" class=\"dataframe\">\n",
              "  <thead>\n",
              "    <tr style=\"text-align: right;\">\n",
              "      <th></th>\n",
              "      <th>Time</th>\n",
              "      <th>V1</th>\n",
              "      <th>V2</th>\n",
              "      <th>V3</th>\n",
              "      <th>V4</th>\n",
              "      <th>V5</th>\n",
              "      <th>V6</th>\n",
              "      <th>V7</th>\n",
              "      <th>V8</th>\n",
              "      <th>V9</th>\n",
              "      <th>V10</th>\n",
              "      <th>V11</th>\n",
              "      <th>V12</th>\n",
              "      <th>V13</th>\n",
              "      <th>V14</th>\n",
              "      <th>V15</th>\n",
              "      <th>V16</th>\n",
              "      <th>V17</th>\n",
              "      <th>V18</th>\n",
              "      <th>V19</th>\n",
              "      <th>V20</th>\n",
              "      <th>V21</th>\n",
              "      <th>V22</th>\n",
              "      <th>V23</th>\n",
              "      <th>V24</th>\n",
              "      <th>V25</th>\n",
              "      <th>V26</th>\n",
              "      <th>V27</th>\n",
              "      <th>V28</th>\n",
              "      <th>Amount</th>\n",
              "      <th>Class</th>\n",
              "    </tr>\n",
              "  </thead>\n",
              "  <tbody>\n",
              "    <tr>\n",
              "      <th>0</th>\n",
              "      <td>0.0</td>\n",
              "      <td>-1.359807</td>\n",
              "      <td>-0.072781</td>\n",
              "      <td>2.536347</td>\n",
              "      <td>1.378155</td>\n",
              "      <td>-0.338321</td>\n",
              "      <td>0.462388</td>\n",
              "      <td>0.239599</td>\n",
              "      <td>0.098698</td>\n",
              "      <td>0.363787</td>\n",
              "      <td>0.090794</td>\n",
              "      <td>-0.551600</td>\n",
              "      <td>-0.617801</td>\n",
              "      <td>-0.991390</td>\n",
              "      <td>-0.311169</td>\n",
              "      <td>1.468177</td>\n",
              "      <td>-0.470401</td>\n",
              "      <td>0.207971</td>\n",
              "      <td>0.025791</td>\n",
              "      <td>0.403993</td>\n",
              "      <td>0.251412</td>\n",
              "      <td>-0.018307</td>\n",
              "      <td>0.277838</td>\n",
              "      <td>-0.110474</td>\n",
              "      <td>0.066928</td>\n",
              "      <td>0.128539</td>\n",
              "      <td>-0.189115</td>\n",
              "      <td>0.133558</td>\n",
              "      <td>-0.021053</td>\n",
              "      <td>149.62</td>\n",
              "      <td>0</td>\n",
              "    </tr>\n",
              "    <tr>\n",
              "      <th>1</th>\n",
              "      <td>0.0</td>\n",
              "      <td>1.191857</td>\n",
              "      <td>0.266151</td>\n",
              "      <td>0.166480</td>\n",
              "      <td>0.448154</td>\n",
              "      <td>0.060018</td>\n",
              "      <td>-0.082361</td>\n",
              "      <td>-0.078803</td>\n",
              "      <td>0.085102</td>\n",
              "      <td>-0.255425</td>\n",
              "      <td>-0.166974</td>\n",
              "      <td>1.612727</td>\n",
              "      <td>1.065235</td>\n",
              "      <td>0.489095</td>\n",
              "      <td>-0.143772</td>\n",
              "      <td>0.635558</td>\n",
              "      <td>0.463917</td>\n",
              "      <td>-0.114805</td>\n",
              "      <td>-0.183361</td>\n",
              "      <td>-0.145783</td>\n",
              "      <td>-0.069083</td>\n",
              "      <td>-0.225775</td>\n",
              "      <td>-0.638672</td>\n",
              "      <td>0.101288</td>\n",
              "      <td>-0.339846</td>\n",
              "      <td>0.167170</td>\n",
              "      <td>0.125895</td>\n",
              "      <td>-0.008983</td>\n",
              "      <td>0.014724</td>\n",
              "      <td>2.69</td>\n",
              "      <td>0</td>\n",
              "    </tr>\n",
              "    <tr>\n",
              "      <th>2</th>\n",
              "      <td>1.0</td>\n",
              "      <td>-1.358354</td>\n",
              "      <td>-1.340163</td>\n",
              "      <td>1.773209</td>\n",
              "      <td>0.379780</td>\n",
              "      <td>-0.503198</td>\n",
              "      <td>1.800499</td>\n",
              "      <td>0.791461</td>\n",
              "      <td>0.247676</td>\n",
              "      <td>-1.514654</td>\n",
              "      <td>0.207643</td>\n",
              "      <td>0.624501</td>\n",
              "      <td>0.066084</td>\n",
              "      <td>0.717293</td>\n",
              "      <td>-0.165946</td>\n",
              "      <td>2.345865</td>\n",
              "      <td>-2.890083</td>\n",
              "      <td>1.109969</td>\n",
              "      <td>-0.121359</td>\n",
              "      <td>-2.261857</td>\n",
              "      <td>0.524980</td>\n",
              "      <td>0.247998</td>\n",
              "      <td>0.771679</td>\n",
              "      <td>0.909412</td>\n",
              "      <td>-0.689281</td>\n",
              "      <td>-0.327642</td>\n",
              "      <td>-0.139097</td>\n",
              "      <td>-0.055353</td>\n",
              "      <td>-0.059752</td>\n",
              "      <td>378.66</td>\n",
              "      <td>0</td>\n",
              "    </tr>\n",
              "    <tr>\n",
              "      <th>3</th>\n",
              "      <td>1.0</td>\n",
              "      <td>-0.966272</td>\n",
              "      <td>-0.185226</td>\n",
              "      <td>1.792993</td>\n",
              "      <td>-0.863291</td>\n",
              "      <td>-0.010309</td>\n",
              "      <td>1.247203</td>\n",
              "      <td>0.237609</td>\n",
              "      <td>0.377436</td>\n",
              "      <td>-1.387024</td>\n",
              "      <td>-0.054952</td>\n",
              "      <td>-0.226487</td>\n",
              "      <td>0.178228</td>\n",
              "      <td>0.507757</td>\n",
              "      <td>-0.287924</td>\n",
              "      <td>-0.631418</td>\n",
              "      <td>-1.059647</td>\n",
              "      <td>-0.684093</td>\n",
              "      <td>1.965775</td>\n",
              "      <td>-1.232622</td>\n",
              "      <td>-0.208038</td>\n",
              "      <td>-0.108300</td>\n",
              "      <td>0.005274</td>\n",
              "      <td>-0.190321</td>\n",
              "      <td>-1.175575</td>\n",
              "      <td>0.647376</td>\n",
              "      <td>-0.221929</td>\n",
              "      <td>0.062723</td>\n",
              "      <td>0.061458</td>\n",
              "      <td>123.50</td>\n",
              "      <td>0</td>\n",
              "    </tr>\n",
              "    <tr>\n",
              "      <th>4</th>\n",
              "      <td>2.0</td>\n",
              "      <td>-1.158233</td>\n",
              "      <td>0.877737</td>\n",
              "      <td>1.548718</td>\n",
              "      <td>0.403034</td>\n",
              "      <td>-0.407193</td>\n",
              "      <td>0.095921</td>\n",
              "      <td>0.592941</td>\n",
              "      <td>-0.270533</td>\n",
              "      <td>0.817739</td>\n",
              "      <td>0.753074</td>\n",
              "      <td>-0.822843</td>\n",
              "      <td>0.538196</td>\n",
              "      <td>1.345852</td>\n",
              "      <td>-1.119670</td>\n",
              "      <td>0.175121</td>\n",
              "      <td>-0.451449</td>\n",
              "      <td>-0.237033</td>\n",
              "      <td>-0.038195</td>\n",
              "      <td>0.803487</td>\n",
              "      <td>0.408542</td>\n",
              "      <td>-0.009431</td>\n",
              "      <td>0.798278</td>\n",
              "      <td>-0.137458</td>\n",
              "      <td>0.141267</td>\n",
              "      <td>-0.206010</td>\n",
              "      <td>0.502292</td>\n",
              "      <td>0.219422</td>\n",
              "      <td>0.215153</td>\n",
              "      <td>69.99</td>\n",
              "      <td>0</td>\n",
              "    </tr>\n",
              "  </tbody>\n",
              "</table>\n",
              "</div>"
            ],
            "text/plain": [
              "   Time        V1        V2        V3  ...       V27       V28  Amount  Class\n",
              "0   0.0 -1.359807 -0.072781  2.536347  ...  0.133558 -0.021053  149.62      0\n",
              "1   0.0  1.191857  0.266151  0.166480  ... -0.008983  0.014724    2.69      0\n",
              "2   1.0 -1.358354 -1.340163  1.773209  ... -0.055353 -0.059752  378.66      0\n",
              "3   1.0 -0.966272 -0.185226  1.792993  ...  0.062723  0.061458  123.50      0\n",
              "4   2.0 -1.158233  0.877737  1.548718  ...  0.219422  0.215153   69.99      0\n",
              "\n",
              "[5 rows x 31 columns]"
            ]
          },
          "metadata": {
            "tags": []
          },
          "execution_count": 34
        }
      ]
    },
    {
      "cell_type": "markdown",
      "metadata": {
        "id": "nbBfZm9sforQ",
        "colab_type": "text"
      },
      "source": [
        "# How to Deal with Imbalanced Dataset"
      ]
    },
    {
      "cell_type": "code",
      "metadata": {
        "id": "XS8Kp_VNFwQX",
        "colab_type": "code",
        "colab": {
          "base_uri": "https://localhost:8080/",
          "height": 34
        },
        "outputId": "c4760960-9748-475b-bcf3-67a9822e2989"
      },
      "source": [
        "print(creditcard.shape)"
      ],
      "execution_count": 35,
      "outputs": [
        {
          "output_type": "stream",
          "text": [
            "(284807, 31)\n"
          ],
          "name": "stdout"
        }
      ]
    },
    {
      "cell_type": "code",
      "metadata": {
        "id": "WsSJVyyYFwQa",
        "colab_type": "code",
        "colab": {
          "base_uri": "https://localhost:8080/",
          "height": 102
        },
        "outputId": "429474b3-c91a-49cd-8a6f-170128ed978e"
      },
      "source": [
        "print(creditcard.columns)"
      ],
      "execution_count": 36,
      "outputs": [
        {
          "output_type": "stream",
          "text": [
            "Index(['Time', 'V1', 'V2', 'V3', 'V4', 'V5', 'V6', 'V7', 'V8', 'V9', 'V10',\n",
            "       'V11', 'V12', 'V13', 'V14', 'V15', 'V16', 'V17', 'V18', 'V19', 'V20',\n",
            "       'V21', 'V22', 'V23', 'V24', 'V25', 'V26', 'V27', 'V28', 'Amount',\n",
            "       'Class'],\n",
            "      dtype='object')\n"
          ],
          "name": "stdout"
        }
      ]
    },
    {
      "cell_type": "code",
      "metadata": {
        "id": "UteXbVeOqDjr",
        "colab_type": "code",
        "colab": {
          "base_uri": "https://localhost:8080/",
          "height": 578
        },
        "outputId": "9a9775d7-1a5a-44b5-9a0c-6d4d3359d11c"
      },
      "source": [
        "## check null values \n",
        "print (f'Number if the records = {creditcard.shape[0]}')\n",
        "pd.isnull(creditcard).sum()"
      ],
      "execution_count": 37,
      "outputs": [
        {
          "output_type": "stream",
          "text": [
            "Number if the records = 284807\n"
          ],
          "name": "stdout"
        },
        {
          "output_type": "execute_result",
          "data": {
            "text/plain": [
              "Time      0\n",
              "V1        0\n",
              "V2        0\n",
              "V3        0\n",
              "V4        0\n",
              "V5        0\n",
              "V6        0\n",
              "V7        0\n",
              "V8        0\n",
              "V9        0\n",
              "V10       0\n",
              "V11       0\n",
              "V12       0\n",
              "V13       0\n",
              "V14       0\n",
              "V15       0\n",
              "V16       0\n",
              "V17       0\n",
              "V18       0\n",
              "V19       0\n",
              "V20       0\n",
              "V21       0\n",
              "V22       0\n",
              "V23       0\n",
              "V24       0\n",
              "V25       0\n",
              "V26       0\n",
              "V27       0\n",
              "V28       0\n",
              "Amount    0\n",
              "Class     0\n",
              "dtype: int64"
            ]
          },
          "metadata": {
            "tags": []
          },
          "execution_count": 37
        }
      ]
    },
    {
      "cell_type": "code",
      "metadata": {
        "id": "MQ3w5P7UFwQc",
        "colab_type": "code",
        "colab": {
          "base_uri": "https://localhost:8080/",
          "height": 68
        },
        "outputId": "74ec8c12-47e2-44e4-c04c-8b750b4bbe28"
      },
      "source": [
        "creditcard[\"Class\"].value_counts()"
      ],
      "execution_count": 38,
      "outputs": [
        {
          "output_type": "execute_result",
          "data": {
            "text/plain": [
              "0    284315\n",
              "1       492\n",
              "Name: Class, dtype: int64"
            ]
          },
          "metadata": {
            "tags": []
          },
          "execution_count": 38
        }
      ]
    },
    {
      "cell_type": "code",
      "metadata": {
        "id": "8vQ7quX2W8Rt",
        "colab_type": "code",
        "colab": {
          "base_uri": "https://localhost:8080/",
          "height": 34
        },
        "outputId": "5a05e692-9230-4c02-e778-e4450c91f037"
      },
      "source": [
        "## the data is highly unbalanced\n",
        "positive =  creditcard[creditcard.Class == 1]\n",
        "positive_cnt = positive.shape[0]\n",
        "\n",
        "negative =  creditcard[creditcard.Class == 0]\n",
        "negative_cnt = negative.shape[0]\n",
        "\n",
        "fruad_pct= positive_cnt / (positive_cnt  + negative_cnt )\n",
        "print(f'records count = {creditcard.shape[0]} , fruad records = {positive_cnt} ,  the positive class (frauds) {round(fruad_pct*100,3)}%')\n"
      ],
      "execution_count": 39,
      "outputs": [
        {
          "output_type": "stream",
          "text": [
            "records count = 284807 , fruad records = 492 ,  the positive class (frauds) 0.173%\n"
          ],
          "name": "stdout"
        }
      ]
    },
    {
      "cell_type": "markdown",
      "metadata": {
        "id": "u-UqsmKseXC0",
        "colab_type": "text"
      },
      "source": [
        "Observations:\n",
        "\n",
        "We will use the Credit Card Fraud Detection Dataset available on Kaggle. The dataset is high imbalanced, with only 0.17% of transactions being classified as fraudulent."
      ]
    },
    {
      "cell_type": "markdown",
      "metadata": {
        "id": "CEmzNbMFpPau",
        "colab_type": "text"
      },
      "source": [
        "**Imbalanced Classes**\n",
        "\n",
        "Most machine learning algorithms work best when the number of samples in each class are about equal. This is because most algorithms are designed to maximize accuracy and reduce error.\n",
        "\n",
        "\n",
        "https://towardsdatascience.com/methods-for-dealing-with-imbalanced-data-5b761be45a18\n",
        "\n",
        "\n",
        "We explored 5 different methods for dealing with imbalanced datasets:\n",
        "Change the performance metric\n",
        "\n",
        "\n",
        "1.   Change the performance metric\n",
        "2.   Change the algorithm\n",
        "3.   Oversample minority class\n",
        "4.   Undersample majority class\n",
        "5.   Generate synthetic samples\n",
        "\n",
        "\n"
      ]
    },
    {
      "cell_type": "code",
      "metadata": {
        "id": "N1-eO1jrs3Iu",
        "colab_type": "code",
        "colab": {
          "base_uri": "https://localhost:8080/",
          "height": 34
        },
        "outputId": "bcad33de-51aa-4e3e-b9f6-4c020682a571"
      },
      "source": [
        "from sklearn.model_selection import train_test_split\n",
        "x = creditcard.drop( ['Class','Time'],axis=1)\n",
        "y = creditcard.Class\n",
        "x_train, x_test, y_train, y_test = train_test_split(x,y,test_size=0.2)\n",
        "print('size of test dataset = {}, size of traing data = {}, percentage = {}%'.format(len(x_test),len(x_train),len(x_test)*100/(len(x_test) + len(x_train))))"
      ],
      "execution_count": 40,
      "outputs": [
        {
          "output_type": "stream",
          "text": [
            "size of test dataset = 56962, size of traing data = 227845, percentage = 20.000210668979342%\n"
          ],
          "name": "stdout"
        }
      ]
    },
    {
      "cell_type": "code",
      "metadata": {
        "id": "AWLnDq36sX3V",
        "colab_type": "code",
        "colab": {
          "base_uri": "https://localhost:8080/",
          "height": 51
        },
        "outputId": "4a6e60a3-313e-4d18-d35e-74ac1ce9fa4b"
      },
      "source": [
        "# Modeling the data as is\n",
        "# Train model\n",
        "from sklearn.linear_model import LogisticRegression\n",
        "model_lr = LogisticRegression(solver='liblinear').fit(x_train, y_train)\n",
        " \n",
        "# Checking accuracy\n",
        "acc_model_lr = model_lr.score(x_train, y_train)\n",
        "acc_test_lr = model_lr.score(x_test, y_test)\n",
        "\n",
        "print(acc_model_lr*100)\n",
        "print(acc_test_lr*100)\n",
        "\n",
        "# Predict on training set\n",
        "lr_pred = model_lr.predict(x_test)\n"
      ],
      "execution_count": 41,
      "outputs": [
        {
          "output_type": "stream",
          "text": [
            "99.92451008360948\n",
            "99.89466661985183\n"
          ],
          "name": "stdout"
        }
      ]
    },
    {
      "cell_type": "markdown",
      "metadata": {
        "id": "1e3XmIUXwiTV",
        "colab_type": "text"
      },
      "source": [
        "high score !\n",
        "but Let’s see what happens when we apply these F1 and recall scores to our logistic regression from above."
      ]
    },
    {
      "cell_type": "markdown",
      "metadata": {
        "id": "Q1TA1eHS9FFt",
        "colab_type": "text"
      },
      "source": [
        "**1-Change the performance metric**"
      ]
    },
    {
      "cell_type": "markdown",
      "metadata": {
        "id": "TR5HokN_JkQT",
        "colab_type": "text"
      },
      "source": [
        "**To be reminded**\n",
        "\n",
        " Classifying a single point can result in \n",
        " \n",
        "\n",
        "1.   a true positive (truth = 1, guess = 1)\n",
        "2.   a true negative (truth = 0, guess = 0)\n",
        "1.   a false positive (truth = 0, guess = 1) \n",
        "2.   a false negative (truth = 1, guess = 0)\n",
        "\n",
        "TP            FP\n",
        "\n",
        "FN            TN\n",
        "\n",
        "\n",
        "1) Accuracy measures how many classifications your algorithm got correct out of every classification it made.\n",
        "**CA =(TP+TN)/ (TP+TN+ FP+FN)**\n",
        "\n",
        "2) Precision measures :actually positive divided by total number of points predicted by model as positive\n",
        ". **P = TP/(TP+FP)**\n",
        "\n",
        "3) Recall measures :actually are positive divided by total number of positive points\n",
        "**R =TP/(TP+FN)**\n",
        "\n",
        "4) Precision and recall are tied to each other. As one goes up, the other will go down.\n",
        "\n",
        "5) F1 score is a combination of precision and recall, **F1** score will be low if either precision or recall is low."
      ]
    },
    {
      "cell_type": "code",
      "metadata": {
        "id": "vwUjJMaxu0dj",
        "colab_type": "code",
        "colab": {}
      },
      "source": [
        "# 1-Change the performance metric\n",
        "from sklearn.metrics import accuracy_score\n",
        "from sklearn.metrics import precision_score\n",
        "from sklearn.metrics import f1_score\n",
        "from sklearn.metrics import recall_score\n"
      ],
      "execution_count": 42,
      "outputs": []
    },
    {
      "cell_type": "code",
      "metadata": {
        "id": "wCybQiSzIYGM",
        "colab_type": "code",
        "colab": {
          "base_uri": "https://localhost:8080/",
          "height": 85
        },
        "outputId": "aaaef287-7b56-45a9-ae29-af5ad7a7f90a"
      },
      "source": [
        "acc_test_lr= accuracy_score(y_test, lr_pred)*100\n",
        "acc_pr_lr= precision_score(y_test, lr_pred, average='micro')*100\n",
        "acc_recall_lr= recall_score(y_test, lr_pred)*100\n",
        "acc_f1_lr= f1_score(y_test, lr_pred)*100\n",
        "\n",
        "print('accuracy_score= ', acc_test_lr)\n",
        "print('pr_score= ', acc_pr_lr)\n",
        "print('recall_score= ', acc_recall_lr)\n",
        "print('f1_score= ',acc_f1_lr)"
      ],
      "execution_count": 43,
      "outputs": [
        {
          "output_type": "stream",
          "text": [
            "accuracy_score=  99.89466661985183\n",
            "pr_score=  99.89466661985183\n",
            "recall_score=  53.57142857142857\n",
            "f1_score=  66.66666666666667\n"
          ],
          "name": "stdout"
        }
      ]
    },
    {
      "cell_type": "markdown",
      "metadata": {
        "id": "FMRToKt2wsZE",
        "colab_type": "text"
      },
      "source": [
        "These scores don’t look quite so impressive"
      ]
    },
    {
      "cell_type": "markdown",
      "metadata": {
        "id": "PYmVAyWK9M8c",
        "colab_type": "text"
      },
      "source": [
        "**2. Change the algorithm**\n",
        "\n",
        "Decision trees frequently perform well on imbalanced data. They work by learning a hierarchy of if/else questions and this can force both classes to be addressed"
      ]
    },
    {
      "cell_type": "code",
      "metadata": {
        "id": "ApEW48HYwJqa",
        "colab_type": "code",
        "colab": {}
      },
      "source": [
        "# 2. Change the algorithm\n",
        "from sklearn.ensemble import RandomForestClassifier\n",
        "\n",
        "# train model\n",
        "model_rfc = RandomForestClassifier(n_estimators=10).fit(x_train, y_train)\n",
        "\n",
        "# predict on test set\n",
        "rfc_pred = model_rfc.predict(x_test)\n"
      ],
      "execution_count": 44,
      "outputs": []
    },
    {
      "cell_type": "code",
      "metadata": {
        "id": "GK9cFgI9yY3k",
        "colab_type": "code",
        "colab": {
          "base_uri": "https://localhost:8080/",
          "height": 85
        },
        "outputId": "3aee6dff-7045-488e-8d97-4084090f0429"
      },
      "source": [
        "acc_test_rfc= accuracy_score(y_test, rfc_pred)*100\n",
        "acc_pr_rfc= precision_score(y_test, rfc_pred, average='micro')*100\n",
        "acc_recall_rfc= recall_score(y_test, rfc_pred)*100\n",
        "acc_f1_rfc= f1_score(y_test, rfc_pred)*100\n",
        "\n",
        "\n",
        "print('accuracy_score= ', acc_test_rfc)\n",
        "print('pr_score= ', acc_pr_rfc)\n",
        "print('recall_score= ', acc_recall_rfc)\n",
        "print('f1_score= ', acc_f1_rfc)"
      ],
      "execution_count": 45,
      "outputs": [
        {
          "output_type": "stream",
          "text": [
            "accuracy_score=  99.9403110845827\n",
            "pr_score=  99.9403110845827\n",
            "recall_score=  75.89285714285714\n",
            "f1_score=  83.33333333333331\n"
          ],
          "name": "stdout"
        }
      ]
    },
    {
      "cell_type": "markdown",
      "metadata": {
        "id": "Z3J6Oj9ZwP_7",
        "colab_type": "text"
      },
      "source": [
        "While our accuracy score is slightly lower, both F1 and recall have increased as compared to logistic regression! It appears that for this specific problem, random forest may be a better choice of model."
      ]
    },
    {
      "cell_type": "code",
      "metadata": {
        "id": "MtUcKfecjbyo",
        "colab_type": "code",
        "colab": {}
      },
      "source": [
        "del x,y,x_train, x_test, y_train, y_test"
      ],
      "execution_count": 46,
      "outputs": []
    },
    {
      "cell_type": "markdown",
      "metadata": {
        "id": "1J-3EtLM9TsA",
        "colab_type": "text"
      },
      "source": [
        "**3. Resampling Techniques — Oversample minority class**\n",
        "\n",
        "we would split into test and train sets BEFORE trying oversampling techniques."
      ]
    },
    {
      "cell_type": "code",
      "metadata": {
        "id": "JcryIcmZ-GpU",
        "colab_type": "code",
        "colab": {
          "base_uri": "https://localhost:8080/",
          "height": 68
        },
        "outputId": "3c663916-cb63-42bd-9944-24eedab470bd"
      },
      "source": [
        "from sklearn.utils import resample\n",
        "\n",
        "# Separate input features and target\n",
        "y = creditcard.Class\n",
        "X = creditcard.drop(['Class','Time'], axis=1)\n",
        "\n",
        "# setting up testing and training sets\n",
        "X_train, X_test, y_train, y_test = train_test_split(X, y, test_size=0.25, random_state=27)\n",
        "\n",
        "# concatenate our training data back together\n",
        "X = pd.concat([X_train, y_train], axis=1)\n",
        "\n",
        "# separate minority and majority classes\n",
        "not_fraud = X[X.Class==0]\n",
        "fraud = X[X.Class==1]\n",
        "\n",
        "# upsample minority\n",
        "fraud_upsampled = resample(fraud,\n",
        "                          replace=True, # sample with replacement\n",
        "                          n_samples=len(not_fraud), # match number in majority class\n",
        "                          random_state=27) # reproducible results\n",
        "\n",
        "# combine majority and upsampled minority\n",
        "upsampled = pd.concat([not_fraud, fraud_upsampled])\n",
        "\n",
        "# check new class counts\n",
        "upsampled.Class.value_counts()\n"
      ],
      "execution_count": 47,
      "outputs": [
        {
          "output_type": "execute_result",
          "data": {
            "text/plain": [
              "1    213245\n",
              "0    213245\n",
              "Name: Class, dtype: int64"
            ]
          },
          "metadata": {
            "tags": []
          },
          "execution_count": 47
        }
      ]
    },
    {
      "cell_type": "code",
      "metadata": {
        "id": "sAf4TYcP-Kua",
        "colab_type": "code",
        "colab": {}
      },
      "source": [
        "# trying logistic regression again with the balanced dataset\n",
        "y_train = upsampled.Class\n",
        "X_train = upsampled.drop('Class', axis=1)\n",
        "\n",
        "upsampled = LogisticRegression(solver='liblinear').fit(X_train, y_train)\n",
        "upsampled_pred = upsampled.predict(X_test)\n",
        "   "
      ],
      "execution_count": 48,
      "outputs": []
    },
    {
      "cell_type": "code",
      "metadata": {
        "id": "k7PERFMF_I_K",
        "colab_type": "code",
        "colab": {
          "base_uri": "https://localhost:8080/",
          "height": 85
        },
        "outputId": "34f17fe9-eea9-40c6-b8d4-d57bd93f29fa"
      },
      "source": [
        "acc_test_ups= accuracy_score(y_test, upsampled_pred)*100\n",
        "acc_pr_ups = precision_score(y_test, upsampled_pred, average='micro')*100\n",
        "acc_recall_ups= recall_score(y_test, upsampled_pred)*100\n",
        "acc_f1_ups= f1_score(y_test, upsampled_pred)*100\n",
        "\n",
        "print('accuracy_score= ', acc_test_ups)\n",
        "print('pr_score= ', acc_pr_ups)\n",
        "print('recall_score= ', acc_recall_ups)\n",
        "print('f1_score= ', acc_f1_ups)"
      ],
      "execution_count": 49,
      "outputs": [
        {
          "output_type": "stream",
          "text": [
            "accuracy_score=  97.78236566388586\n",
            "pr_score=  97.78236566388586\n",
            "recall_score=  87.87878787878788\n",
            "f1_score=  12.810601877415792\n"
          ],
          "name": "stdout"
        }
      ]
    },
    {
      "cell_type": "markdown",
      "metadata": {
        "id": "BDcZlMI2hQLt",
        "colab_type": "text"
      },
      "source": [
        "Our recall score increased, but F1 is much lower than with either our baseline logistic regression or random forest from above. Let’s see if undersampling might perform better here."
      ]
    },
    {
      "cell_type": "code",
      "metadata": {
        "id": "GSnI-caylaWy",
        "colab_type": "code",
        "colab": {}
      },
      "source": [
        "del X,y,X_train, X_test, y_train, y_test"
      ],
      "execution_count": 50,
      "outputs": []
    },
    {
      "cell_type": "markdown",
      "metadata": {
        "id": "t3bb_dal9VpK",
        "colab_type": "text"
      },
      "source": [
        "**4. Resampling techniques — Undersample majority class**\n",
        "\n",
        "Again, we would split into test and train sets BEFORE trying Undersample techniques."
      ]
    },
    {
      "cell_type": "code",
      "metadata": {
        "id": "YUtI9f2d_bQl",
        "colab_type": "code",
        "colab": {
          "base_uri": "https://localhost:8080/",
          "height": 68
        },
        "outputId": "9a55d7c9-d7b9-4193-862e-9f848d670abe"
      },
      "source": [
        "from sklearn.utils import resample\n",
        "\n",
        "# Separate input features and target\n",
        "y = creditcard.Class\n",
        "X = creditcard.drop(['Class','Time'], axis=1)\n",
        "\n",
        "# setting up testing and training sets\n",
        "X_train, X_test, y_train, y_test = train_test_split(X, y, test_size=0.25, random_state=27)\n",
        "\n",
        "# concatenate our training data back together\n",
        "X = pd.concat([X_train, y_train], axis=1)\n",
        "\n",
        "# separate minority and majority classes\n",
        "not_fraud = X[X.Class==0]\n",
        "fraud = X[X.Class==1]\n",
        "\n",
        "# downsample majority\n",
        "not_fraud_downsampled = resample(not_fraud,\n",
        "                                replace = False, # sample without replacement\n",
        "                                n_samples = len(fraud), # match minority n\n",
        "                                random_state = 27) # reproducible results\n",
        "\n",
        "# combine minority and downsampled majority\n",
        "downsampled = pd.concat([not_fraud_downsampled, fraud])\n",
        "\n",
        "# checking counts\n",
        "downsampled.Class.value_counts()\n"
      ],
      "execution_count": 63,
      "outputs": [
        {
          "output_type": "execute_result",
          "data": {
            "text/plain": [
              "1    360\n",
              "0    360\n",
              "Name: Class, dtype: int64"
            ]
          },
          "metadata": {
            "tags": []
          },
          "execution_count": 63
        }
      ]
    },
    {
      "cell_type": "code",
      "metadata": {
        "id": "u60PDkvu_jVb",
        "colab_type": "code",
        "colab": {}
      },
      "source": [
        "# trying logistic regression again with the undersampled dataset\n",
        "\n",
        "y_train = downsampled.Class\n",
        "X_train = downsampled.drop('Class', axis=1)\n",
        "\n",
        "undersampled = LogisticRegression(solver='liblinear').fit(X_train, y_train)\n",
        "\n",
        "undersampled_pred = undersampled.predict(X_test)\n"
      ],
      "execution_count": 64,
      "outputs": []
    },
    {
      "cell_type": "code",
      "metadata": {
        "id": "V2gCZU4HRB8d",
        "colab_type": "code",
        "colab": {
          "base_uri": "https://localhost:8080/",
          "height": 85
        },
        "outputId": "14769182-34f5-49e3-da9f-04b6bd54fac1"
      },
      "source": [
        "acc_test_undr= accuracy_score(y_test, undersampled_pred)*100\n",
        "acc_pr_undr = precision_score(y_test, undersampled_pred, average='micro')*100\n",
        "acc_recall_undr= recall_score(y_test, undersampled_pred)*100\n",
        "acc_f1_undr= f1_score(y_test, undersampled_pred)*100\n",
        "\n",
        "\n",
        "print('accuracy_score= ', acc_test_undr)\n",
        "print('pr_score= ',acc_pr_undr )\n",
        "print('recall_score= ', acc_recall_undr)\n",
        "print('f1_score= ', acc_f1_undr)"
      ],
      "execution_count": 65,
      "outputs": [
        {
          "output_type": "stream",
          "text": [
            "accuracy_score=  96.37791073284458\n",
            "pr_score=  96.37791073284458\n",
            "recall_score=  88.63636363636364\n",
            "f1_score=  8.318521151795236\n"
          ],
          "name": "stdout"
        }
      ]
    },
    {
      "cell_type": "code",
      "metadata": {
        "id": "f3rIRd-sS3tT",
        "colab_type": "code",
        "colab": {}
      },
      "source": [
        "del X,y,X_train, X_test, y_train, y_test"
      ],
      "execution_count": 66,
      "outputs": []
    },
    {
      "cell_type": "markdown",
      "metadata": {
        "id": "3nOE32ubhk3T",
        "colab_type": "text"
      },
      "source": [
        "Undersampling underperformed oversampling in this case. Let’s try one more method for handling imbalanced data."
      ]
    },
    {
      "cell_type": "markdown",
      "metadata": {
        "id": "9dvc8wHL9deR",
        "colab_type": "text"
      },
      "source": [
        "**5. Generate synthetic samples SMOTE**"
      ]
    },
    {
      "cell_type": "markdown",
      "metadata": {
        "id": "r8uADKcDh1K4",
        "colab_type": "text"
      },
      "source": [
        "Again, it’s important to generate the new samples only in the training set to ensure our model generalizes well to unseen data."
      ]
    },
    {
      "cell_type": "code",
      "metadata": {
        "id": "ldo42zMI__x-",
        "colab_type": "code",
        "colab": {
          "base_uri": "https://localhost:8080/",
          "height": 139
        },
        "outputId": "a7866379-93e9-42f6-f6da-b621bc97126f"
      },
      "source": [
        "from imblearn.over_sampling import SMOTE\n",
        "\n",
        "# Separate input features and target\n",
        "y = creditcard.Class\n",
        "X = creditcard.drop('Class', axis=1)\n",
        "\n",
        "# setting up testing and training sets\n",
        "X_train, X_test, y_train, y_test = train_test_split(X, y, test_size=0.25, random_state=27)\n",
        "\n",
        "sm = SMOTE(random_state=27, ratio=1.0)\n",
        "X_train, y_train = sm.fit_sample(X_train, y_train)"
      ],
      "execution_count": 67,
      "outputs": [
        {
          "output_type": "stream",
          "text": [
            "/usr/local/lib/python3.6/dist-packages/sklearn/externals/six.py:31: FutureWarning: The module is deprecated in version 0.21 and will be removed in version 0.23 since we've dropped support for Python 2.7. Please rely on the official version of six (https://pypi.org/project/six/).\n",
            "  \"(https://pypi.org/project/six/).\", FutureWarning)\n",
            "/usr/local/lib/python3.6/dist-packages/sklearn/utils/deprecation.py:144: FutureWarning: The sklearn.neighbors.base module is  deprecated in version 0.22 and will be removed in version 0.24. The corresponding classes / functions should instead be imported from sklearn.neighbors. Anything that cannot be imported from sklearn.neighbors is now part of the private API.\n",
            "  warnings.warn(message, FutureWarning)\n",
            "/usr/local/lib/python3.6/dist-packages/sklearn/utils/deprecation.py:87: FutureWarning: Function safe_indexing is deprecated; safe_indexing is deprecated in version 0.22 and will be removed in version 0.24.\n",
            "  warnings.warn(msg, category=FutureWarning)\n"
          ],
          "name": "stderr"
        }
      ]
    },
    {
      "cell_type": "code",
      "metadata": {
        "id": "THYFI4moACvm",
        "colab_type": "code",
        "colab": {}
      },
      "source": [
        "smote = LogisticRegression(solver='liblinear').fit(X_train, y_train)\n",
        "\n",
        "smote_pred = smote.predict(X_test)\n"
      ],
      "execution_count": 68,
      "outputs": []
    },
    {
      "cell_type": "code",
      "metadata": {
        "id": "-C9A2oLbR9-h",
        "colab_type": "code",
        "colab": {
          "base_uri": "https://localhost:8080/",
          "height": 85
        },
        "outputId": "ed319b9f-405d-451a-f85a-88096fc99a3d"
      },
      "source": [
        "acc_test_smote= accuracy_score(y_test, smote_pred)*100\n",
        "acc_pr_smote = precision_score(y_test, smote_pred, average='micro')*100\n",
        "acc_recall_smote= recall_score(y_test, smote_pred)*100\n",
        "acc_f1_smote= f1_score(y_test, smote_pred)*100\n",
        "\n",
        "\n",
        "print('accuracy_score= ', acc_test_smote)\n",
        "print('pr_score= ', acc_pr_smote)\n",
        "print('recall_score= ', acc_recall_smote)\n",
        "print('f1_score= ', acc_f1_smote)"
      ],
      "execution_count": 69,
      "outputs": [
        {
          "output_type": "stream",
          "text": [
            "accuracy_score=  98.58571388444145\n",
            "pr_score=  98.58571388444145\n",
            "recall_score=  86.36363636363636\n",
            "f1_score=  18.461538461538463\n"
          ],
          "name": "stdout"
        }
      ]
    },
    {
      "cell_type": "code",
      "metadata": {
        "id": "WZTs-EleYzcW",
        "colab_type": "code",
        "colab": {
          "base_uri": "https://localhost:8080/",
          "height": 153
        },
        "outputId": "0431e262-0cb5-40f0-8795-625030580495"
      },
      "source": [
        "from prettytable import PrettyTable\n",
        "t2 = PrettyTable(['Accuracy'  ,'Logistic'     ,'RF'              ,'Oversample'         ,'Undersample'   ,'SMOTE' ])\n",
        "t2.add_row(['accuracy_score'  ,acc_test_lr    , acc_test_rfc     ,acc_test_ups         ,acc_test_undr   ,acc_test_smote])\n",
        "t2.add_row(['pr_score'        ,acc_pr_lr      , acc_pr_rfc       ,acc_pr_ups           ,acc_pr_undr     ,acc_pr_smote])\n",
        "t2.add_row(['recall_score'    ,acc_recall_lr  , acc_recall_rfc   ,acc_recall_ups       ,acc_recall_undr ,acc_recall_smote])\n",
        "t2.add_row(['f1_score'        ,acc_f1_lr      , acc_f1_rfc       ,acc_f1_ups           ,acc_f1_undr     ,acc_f1_smote])\n",
        "print(t2)\n",
        "\n"
      ],
      "execution_count": 70,
      "outputs": [
        {
          "output_type": "stream",
          "text": [
            "+----------------+-------------------+-------------------+--------------------+-------------------+--------------------+\n",
            "|    Accuracy    |      Logistic     |         RF        |     Oversample     |    Undersample    |       SMOTE        |\n",
            "+----------------+-------------------+-------------------+--------------------+-------------------+--------------------+\n",
            "| accuracy_score | 99.89466661985183 |  99.9403110845827 | 97.78236566388586  | 96.37791073284458 | 98.58571388444145  |\n",
            "|    pr_score    | 99.89466661985183 |  99.9403110845827 | 97.78236566388586  | 96.37791073284458 | 98.58571388444145  |\n",
            "|  recall_score  | 53.57142857142857 | 75.89285714285714 | 87.87878787878788  | 88.63636363636364 | 86.36363636363636  |\n",
            "|    f1_score    | 66.66666666666667 | 83.33333333333331 | 12.810601877415792 | 8.318521151795236 | 18.461538461538463 |\n",
            "+----------------+-------------------+-------------------+--------------------+-------------------+--------------------+\n"
          ],
          "name": "stdout"
        }
      ]
    },
    {
      "cell_type": "markdown",
      "metadata": {
        "id": "VZ64Ee9f9yTh",
        "colab_type": "text"
      },
      "source": [
        "It appears for this particular dataset random forest and SMOTE are the best of the options we tried here."
      ]
    },
    {
      "cell_type": "markdown",
      "metadata": {
        "id": "gCd7VV7CtD7B",
        "colab_type": "text"
      },
      "source": [
        "# Execlde some Features"
      ]
    },
    {
      "cell_type": "code",
      "metadata": {
        "id": "xCu2Infx83Pt",
        "colab_type": "code",
        "colab": {}
      },
      "source": [
        "import seaborn as sns\n",
        "import matplotlib.pyplot as plt\n",
        "col='V28'\n",
        "## V13 V20 V23 V28 seems irrelevant \n",
        "\n",
        "sns.distplot(creditcard[col][creditcard.Class == 1], bins=50, color='r')\n",
        "sns.distplot(creditcard[col][creditcard.Class == 0], bins=50, color='g')\n",
        "plt.show()"
      ],
      "execution_count": null,
      "outputs": []
    },
    {
      "cell_type": "code",
      "metadata": {
        "id": "_FS9H8cZi24b",
        "colab_type": "code",
        "colab": {}
      },
      "source": [
        "from sklearn.model_selection import train_test_split\n",
        "x = creditcard.drop(['Class','Time'],axis=1)\n",
        "y = creditcard.Class\n",
        "x_train, x_test, y_train, y_test = train_test_split(x,y,test_size=0.2)"
      ],
      "execution_count": null,
      "outputs": []
    },
    {
      "cell_type": "code",
      "metadata": {
        "id": "XJ2B4GVRi6p6",
        "colab_type": "code",
        "colab": {}
      },
      "source": [
        "## logistic regression after removing some featuers\n",
        "from sklearn.linear_model import LogisticRegression\n",
        "model_lr = LogisticRegression()\n",
        "model_lr.fit(x_train, y_train)\n",
        "ACC_train_lr = model_lr.score(x_train, y_train)\n",
        "ACC_test_lr = model_lr.score(x_test, y_test)\n",
        "\n",
        "x_train2=x_train.drop(['V13','V20','V23','V28'],axis=1)\n",
        "x_test2=x_test.drop(['V13','V20','V23','V28'],axis=1)\n",
        "\n",
        "\n",
        "from sklearn.linear_model import LogisticRegression\n",
        "model_lr2 = LogisticRegression()\n",
        "model_lr2.fit(x_train2, y_train)\n",
        "ACC_train_lr2 = model_lr2.score(x_train2, y_train)\n",
        "ACC_test_lr2 = model_lr2.score(x_test2, y_test)\n"
      ],
      "execution_count": null,
      "outputs": []
    },
    {
      "cell_type": "code",
      "metadata": {
        "id": "QX4fqjh5b21k",
        "colab_type": "code",
        "colab": {}
      },
      "source": [
        "## accuracy\n",
        "lr_pred = model_lr.predict(x_test)\n",
        "lr_pred2 = model_lr2.predict(x_test2)\n",
        "\n",
        "from sklearn.metrics import accuracy_score\n",
        "lr_accuracy_score=  accuracy_score(y_test, lr_pred)\n",
        "lr_accuracy_score2=  accuracy_score(y_test, lr_pred2)\n",
        "\n",
        "from sklearn.metrics import f1_score\n",
        "lr_f1_score= f1_score(y_test, lr_pred)\n",
        "lr_f1_score2= f1_score(y_test, lr_pred2)\n",
        "\n",
        "from sklearn.metrics import recall_score\n",
        "lr_recall_score= recall_score(y_test, lr_pred)\n",
        "lr_recall_score2= recall_score(y_test, lr_pred2)\n",
        "\n",
        "from prettytable import PrettyTable\n",
        "t2 = PrettyTable(['Accuracy', 'Logistic (%)' , 'Logistic v2 (%)' ])\n",
        "t2.add_row(['accuracy_score', lr_accuracy_score*100, lr_accuracy_score2*100])\n",
        "t2.add_row(['f1_score',       lr_f1_score*100      , lr_f1_score2*100      ])\n",
        "t2.add_row(['recall_score',   lr_recall_score*100  , lr_recall_score2*100  ])\n",
        "print(t2)\n"
      ],
      "execution_count": null,
      "outputs": []
    },
    {
      "cell_type": "markdown",
      "metadata": {
        "id": "QW-SX_n5qvQ-",
        "colab_type": "text"
      },
      "source": [
        "Observations:\n",
        "\n",
        "Execluding irrelevant shows minor enhancemnt in accurecy "
      ]
    },
    {
      "cell_type": "markdown",
      "metadata": {
        "id": "fNzOX1gDFwRo",
        "colab_type": "text"
      },
      "source": [
        "# Exploratory Data Analysis EDA"
      ]
    },
    {
      "cell_type": "code",
      "metadata": {
        "id": "7sDmHOisp_i7",
        "colab_type": "code",
        "colab": {}
      },
      "source": [
        "creditcard.shape"
      ],
      "execution_count": null,
      "outputs": []
    },
    {
      "cell_type": "code",
      "metadata": {
        "id": "rvx6lBojqH6b",
        "colab_type": "code",
        "colab": {}
      },
      "source": [
        "creditcard.head()"
      ],
      "execution_count": null,
      "outputs": []
    },
    {
      "cell_type": "markdown",
      "metadata": {
        "id": "wS5hmDvyObf2",
        "colab_type": "text"
      },
      "source": [
        "We used the plot above to check the distribution of observations for each featur and one by one , for example V4: shows clear distinction between fraud & genuine transactions, while V28 didn't."
      ]
    },
    {
      "cell_type": "code",
      "metadata": {
        "id": "wiLPTVh3txYi",
        "colab_type": "code",
        "colab": {}
      },
      "source": [
        "def my_plot(plot_rows,plot_col,i,col):\n",
        "    plt.subplot(plot_rows,plot_col,i)\n",
        "    sns.boxplot(x='Class',y=col,data=creditcard)\n",
        "\n",
        "plt.figure(figsize=(24,12))\n",
        "axs = [ my_plot(6,5,i,'V'+str(i)) for i in range(1,29)]\n"
      ],
      "execution_count": null,
      "outputs": []
    },
    {
      "cell_type": "code",
      "metadata": {
        "id": "ACtKZJ7eFwRo",
        "colab_type": "code",
        "colab": {}
      },
      "source": [
        "sns.boxplot(x = \"Class\", y = \"Time\", data = creditcard)\n",
        "plt.show()"
      ],
      "execution_count": null,
      "outputs": []
    },
    {
      "cell_type": "code",
      "metadata": {
        "id": "fVUhmVkT09Zb",
        "colab_type": "code",
        "colab": {}
      },
      "source": [
        "sns.set_style(\"whitegrid\")\n",
        "sns.FacetGrid(creditcard, hue=\"Class\", size = 6).map(plt.scatter, \"Time\", \"Amount\").add_legend()\n",
        "plt.show()"
      ],
      "execution_count": null,
      "outputs": []
    },
    {
      "cell_type": "markdown",
      "metadata": {
        "id": "LrurYDXdFwRr",
        "colab_type": "text"
      },
      "source": [
        "Observations:\n",
        "\n",
        "By looking at the above plot we can say that both fraud & genuine transactions occur throughout time and there is no distinction between them."
      ]
    },
    {
      "cell_type": "code",
      "metadata": {
        "id": "eO6e7PhB5OuR",
        "colab_type": "code",
        "colab": {}
      },
      "source": [
        "sns.scatterplot(x = \"Class\", y = \"Amount\", data = creditcard)\n",
        "plt.show()"
      ],
      "execution_count": null,
      "outputs": []
    },
    {
      "cell_type": "markdown",
      "metadata": {
        "id": "5nAc8QOeFwRu",
        "colab_type": "text"
      },
      "source": [
        "Observations:\n",
        "\n",
        "From above box plot we can easily infer that there are no fraud transactions occur above the transaction amount of 3000. All of the fraud transactions have transaction amount less than 3000. However, there are many transactions which have a transaction amount greater than 3000 and all of them are genuine."
      ]
    },
    {
      "cell_type": "markdown",
      "metadata": {
        "id": "e_KmCnlJF2No",
        "colab_type": "text"
      },
      "source": [
        "**ECDF**"
      ]
    },
    {
      "cell_type": "code",
      "metadata": {
        "id": "JqaQccHsF9K6",
        "colab_type": "code",
        "colab": {}
      },
      "source": [
        "# Creating our ecdf function\n",
        "def ecdf(data,i):\n",
        "    xaxis = np.sort(data)\n",
        "    yaxis = np.arange(1,len(data)+1)/len(data)\n",
        "    plt.plot(xaxis,yaxis,linestyle='none',marker='.')\n",
        "    plt.title('ECDF of average V'+str(i))\n",
        "\n",
        "creditcardFraud=creditcard[creditcard['Class']==1]\n",
        "creditcardNotFraud=creditcard[creditcard['Class']==0]\n",
        "\n",
        "for i in range(1,29):\n",
        "    ecdf(creditcardFraud['V'+str(i)],i)\n",
        "    ecdf(creditcardNotFraud['V'+str(i)],i)\n",
        "    plt.show()\n"
      ],
      "execution_count": null,
      "outputs": []
    },
    {
      "cell_type": "markdown",
      "metadata": {
        "id": "eeLFM-jTloZt",
        "colab_type": "text"
      },
      "source": [
        "#Try Different classifiers (unbalanced)"
      ]
    },
    {
      "cell_type": "code",
      "metadata": {
        "id": "l42qxWRa4L5Y",
        "colab_type": "code",
        "colab": {}
      },
      "source": [
        "from sklearn.model_selection import train_test_split\n",
        "x = creditcard.drop('Class',axis=1)\n",
        "y = creditcard.Class\n",
        "x_train, x_test, y_train, y_test = train_test_split(x,y,test_size=0.2)\n",
        "print('size of test dataset = {}, size of traing data = {}, percentage = {}%'.format(len(x_test),len(x_train),len(x_test)*100/(len(x_test) + len(x_train))))"
      ],
      "execution_count": null,
      "outputs": []
    },
    {
      "cell_type": "code",
      "metadata": {
        "id": "0LcJURKW4uTK",
        "colab_type": "code",
        "colab": {}
      },
      "source": [
        "x"
      ],
      "execution_count": null,
      "outputs": []
    },
    {
      "cell_type": "code",
      "metadata": {
        "id": "eiaplVab4vu_",
        "colab_type": "code",
        "colab": {}
      },
      "source": [
        "y"
      ],
      "execution_count": null,
      "outputs": []
    },
    {
      "cell_type": "code",
      "metadata": {
        "id": "il-Q3p2i5urf",
        "colab_type": "code",
        "colab": {}
      },
      "source": [
        "## logistic regression\n",
        "from sklearn.linear_model import LogisticRegression\n",
        "model_lr = LogisticRegression()\n",
        "model_lr.fit(x_train, y_train)\n",
        "ACC_train_lr = model_lr.score(x_train, y_train)\n",
        "ACC_test_lr = model_lr.score(x_test, y_test)\n",
        "print(ACC_train_lr*100)\n",
        "print(ACC_test_lr*100)"
      ],
      "execution_count": null,
      "outputs": []
    },
    {
      "cell_type": "code",
      "metadata": {
        "id": "ZFj46Gds5RlJ",
        "colab_type": "code",
        "colab": {}
      },
      "source": [
        "##  Decision tree\n",
        "from sklearn import tree\n",
        "model_dt = tree.DecisionTreeClassifier()\n",
        "model_dt.fit(x_train,y_train)\n",
        "ACC_train_dt = model_dt.score(x_train,y_train)\n",
        "ACC_test_dt = model_dt.score(x_test,y_test)\n",
        "print(ACC_train_dt*100)\n",
        "print(ACC_test_dt*100)"
      ],
      "execution_count": null,
      "outputs": []
    },
    {
      "cell_type": "code",
      "metadata": {
        "id": "2S6Ner1c65NK",
        "colab_type": "code",
        "colab": {}
      },
      "source": [
        "## Support Vector Machine\n",
        "from sklearn.svm import SVC \n",
        "model_svm = SVC()\n",
        "model_svm.fit(x_train, y_train)\n",
        "ACC_train_svm = model_svm.score(x_train, y_train)\n",
        "ACC_test_svm = model_svm.score(x_test, y_test)\n",
        "print(ACC_train_svm*100)\n",
        "print(ACC_test_svm*100)\n"
      ],
      "execution_count": null,
      "outputs": []
    },
    {
      "cell_type": "code",
      "metadata": {
        "id": "c4jkgEHG7li2",
        "colab_type": "code",
        "colab": {}
      },
      "source": [
        "## Random Forest \n",
        "from sklearn.ensemble import RandomForestClassifier \n",
        "model_rf = RandomForestClassifier()\n",
        "model_rf.fit(x_train,y_train)\n",
        "ACC_train_rf = model_rf.score(x_train, y_train)\n",
        "ACC_test_rf = model_rf.score(x_test, y_test)\n",
        "print(ACC_train_rf*100)\n",
        "print(ACC_test_rf*100)"
      ],
      "execution_count": null,
      "outputs": []
    },
    {
      "cell_type": "code",
      "metadata": {
        "id": "qcvqTBP8D8y3",
        "colab_type": "code",
        "colab": {}
      },
      "source": [
        "## Naive Bayse\n",
        "from sklearn.naive_bayes import GaussianNB\n",
        "model_nb = GaussianNB()\n",
        "model_nb.fit(x_train,y_train)\n",
        "ACC_train_nb = model_nb.score(x_train,y_train)\n",
        "ACC_test_nb = model_nb.score(x_test,y_test)\n",
        "print(ACC_train_nb*100)\n",
        "print(ACC_test_nb*100)"
      ],
      "execution_count": null,
      "outputs": []
    },
    {
      "cell_type": "code",
      "metadata": {
        "id": "MmKCgZ4z56pH",
        "colab_type": "code",
        "colab": {}
      },
      "source": [
        "from prettytable import PrettyTable\n",
        "t = PrettyTable(['Accuracy', 'Logistic (%)' , 'DT (%)' , 'SVM (%)' , 'RF (%)' , 'NB (%)'])\n",
        "t.add_row(['Training', ACC_train_lr*100, ACC_train_dt*100, ACC_train_svm*100, ACC_train_rf*100 , ACC_train_nb*100])\n",
        "t.add_row(['Testing', ACC_test_lr*100, ACC_test_dt*100, ACC_test_svm*100, ACC_test_rf*100 , ACC_test_nb*100])\n",
        "print(t)"
      ],
      "execution_count": null,
      "outputs": []
    },
    {
      "cell_type": "code",
      "metadata": {
        "id": "xzEUWiVaIHJd",
        "colab_type": "code",
        "colab": {}
      },
      "source": [
        "# use differant performance metric on DT\n",
        "lr_pred = model_lr.predict(x_test)\n",
        "dt_pred = model_dt.predict(x_test)\n",
        "svm_pred = model_svm.predict(x_test)\n",
        "rf_pred = model_rf.predict(x_test)\n",
        "nb_pred = model_nb.predict(x_test)"
      ],
      "execution_count": null,
      "outputs": []
    },
    {
      "cell_type": "code",
      "metadata": {
        "id": "ERTfR-U2Q4Jh",
        "colab_type": "code",
        "colab": {}
      },
      "source": [
        "from sklearn.metrics import accuracy_score\n",
        "lr_accuracy_score=  accuracy_score(y_test, lr_pred)\n",
        "dt_accuracy_score=  accuracy_score(y_test, dt_pred)\n",
        "svm_accuracy_score=  accuracy_score(y_test, svm_pred)\n",
        "rf_accuracy_score=  accuracy_score(y_test, rf_pred)\n",
        "nb_accuracy_score=  accuracy_score(y_test, nb_pred)\n",
        "\n",
        "from sklearn.metrics import f1_score\n",
        "# f1 score : F1 score reaches its best value at 1 and worst score at 0\n",
        "lr_f1_score= f1_score(y_test, lr_pred)\n",
        "dt_f1_score= f1_score(y_test, dt_pred)\n",
        "svm_f1_score= f1_score(y_test, svm_pred)\n",
        "rf_f1_score= f1_score(y_test, rf_pred)\n",
        "nb_f1_score= f1_score(y_test, nb_pred)\n",
        "\n",
        "from sklearn.metrics import recall_score\n",
        "# recall score : The best value is 1 and the worst value is 0\n",
        "lr_recall_score= recall_score(y_test, lr_pred)\n",
        "dt_recall_score= recall_score(y_test, dt_pred)\n",
        "svm_recall_score= recall_score(y_test, svm_pred)\n",
        "rf_recall_score= recall_score(y_test, rf_pred)\n",
        "nb_recall_score= recall_score(y_test, nb_pred)"
      ],
      "execution_count": null,
      "outputs": []
    },
    {
      "cell_type": "code",
      "metadata": {
        "id": "GmWuYRrcJiT7",
        "colab_type": "code",
        "colab": {}
      },
      "source": [
        "from prettytable import PrettyTable\n",
        "t2 = PrettyTable(['Accuracy', 'Logistic (%)' , 'DT (%)' , 'SVM (%)' , 'RF (%)' , 'NB (%)'])\n",
        "t2.add_row(['accuracy_score', lr_accuracy_score*100, dt_accuracy_score*100, svm_accuracy_score*100, rf_accuracy_score*100 , nb_accuracy_score*100])\n",
        "t2.add_row(['f1_score',       lr_f1_score*100      , dt_f1_score*100      , svm_f1_score*100       , rf_f1_score*100       , nb_f1_score*100]      )\n",
        "t2.add_row(['recall_score',   lr_recall_score*100  , dt_recall_score*100  , svm_recall_score*100  , rf_recall_score*100   , nb_recall_score*100]  )\n",
        "print(t2)"
      ],
      "execution_count": null,
      "outputs": []
    },
    {
      "cell_type": "markdown",
      "metadata": {
        "id": "Ol-SUQB0GY4J",
        "colab_type": "text"
      },
      "source": [
        "# Cross Validation KFOLD"
      ]
    },
    {
      "cell_type": "markdown",
      "metadata": {
        "id": "IebVsWSsMHtd",
        "colab_type": "text"
      },
      "source": [
        "**Cross Validation** is a very useful technique for assessing the performance of machine learning models. It helps in knowing how the machine learning model would generalize to an independent data set. and to estimate how accurate your model will predict in practice."
      ]
    },
    {
      "cell_type": "code",
      "metadata": {
        "id": "yZp7G_H0GeWA",
        "colab_type": "code",
        "colab": {}
      },
      "source": [
        "from sklearn.model_selection import cross_val_score\n",
        "\n",
        "##LR\n",
        "from sklearn.linear_model import LogisticRegression\n",
        "ACC_test_lr = cross_val_score(LogisticRegression(),x,y)\n",
        "\n",
        "##DT\n",
        "from sklearn.tree import DecisionTreeClassifier\n",
        "ACC_test_dt = cross_val_score(DecisionTreeClassifier(),x,y)\n",
        "\n",
        "##SVM\n",
        "from sklearn.svm import SVC\n",
        "ACC_test_svm = cross_val_score(SVC(),x,y)\n",
        "\n",
        "##RF\n",
        "## from sklearn.ensemble import RandomForestClassifier\n",
        "## ACC_test_rf = cross_val_score(RandomForestClassifier(),x,y)\n",
        "\n",
        "from sklearn.model_selection import StratifiedKFold\n",
        "ACC_test_rf4 = cross_val_score(RandomForestClassifier(),x,y,cv=StratifiedKFold(n_splits=5, shuffle=True))\n",
        "print(ACC_test_rf4)\n",
        "\n",
        "##NB\n",
        "from sklearn.naive_bayes import GaussianNB\n",
        "ACC_test_nb = cross_val_score(GaussianNB(),x,y)\n",
        "\n",
        "\n",
        "ACC_test_lr_mean = np.mean(ACC_test_lr);\n",
        "ACC_test_dt_mean = np.mean(ACC_test_dt);\n",
        "ACC_test_svm_mean = np.mean(ACC_test_svm);\n",
        "ACC_test_rf_mean = np.mean(ACC_test_rf);\n",
        "ACC_test_nb_mean = np.mean(ACC_test_nb);\n",
        "\n",
        "\n",
        "from prettytable import PrettyTable\n",
        "t = PrettyTable(['KVC Accuracy', 'Logistic (%)' , 'DT (%)' , 'SVM (%)' , 'RF (%)', 'NB (%)'])\n",
        "t.add_row(['Testing', ACC_test_lr_mean*100, ACC_test_dt_mean*100, ACC_test_svm_mean*100, ACC_test_rf_mean*100, ACC_test_nb_mean*100])\n",
        "print(t)"
      ],
      "execution_count": null,
      "outputs": []
    }
  ]
}