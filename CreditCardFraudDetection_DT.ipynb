{
  "nbformat": 4,
  "nbformat_minor": 0,
  "metadata": {
    "kernelspec": {
      "display_name": "Python 3",
      "language": "python",
      "name": "python3"
    },
    "language_info": {
      "codemirror_mode": {
        "name": "ipython",
        "version": 3
      },
      "file_extension": ".py",
      "mimetype": "text/x-python",
      "name": "python",
      "nbconvert_exporter": "python",
      "pygments_lexer": "ipython3",
      "version": "3.7.4"
    },
    "colab": {
      "name": "CreditCardFraudDetection.ipynb",
      "provenance": [],
      "toc_visible": true,
      "include_colab_link": true
    }
  },
  "cells": [
    {
      "cell_type": "markdown",
      "metadata": {
        "id": "view-in-github",
        "colab_type": "text"
      },
      "source": [
        "<a href=\"https://colab.research.google.com/github/mohammad0alfares/Credit-Card-Fraud-Detection/blob/master/CreditCardFraudDetection_DT.ipynb\" target=\"_parent\"><img src=\"https://colab.research.google.com/assets/colab-badge.svg\" alt=\"Open In Colab\"/></a>"
      ]
    },
    {
      "cell_type": "markdown",
      "metadata": {
        "id": "WXpnxtWRFwQW",
        "colab_type": "text"
      },
      "source": [
        "# About The data set\n",
        "\n",
        "The datasets contains transactions made by credit cards in September 2013 by european cardholders. This dataset presents transactions that occurred in two days, where we have 492 frauds out of 284,807 transactions. The dataset is highly unbalanced, the positive class (frauds) account for 0.172% of all transactions.\n",
        "\n",
        "It contains only numerical input variables which are the result of a PCA transformation. Unfortunately, due to confidentiality issues, we cannot provide the original features and more background information about the data. Features V1, V2, ... V28 are the principal components obtained with PCA, the only features which have not been transformed with PCA are 'Time' and 'Amount'. Feature 'Time' contains the seconds elapsed between each transaction and the first transaction in the dataset. The feature 'Amount' is the transaction Amount, this feature can be used for example-dependant cost-senstive learning. **Feature 'Class' is the response variable and it takes value 1 in case of fraud and 0 otherwise.**\n",
        "\n",
        "Given the class imbalance ratio, we recommend measuring the accuracy using the Area Under the Precision-Recall Curve (AUPRC). Confusion matrix accuracy is not meaningful for unbalanced classification.\n",
        "\n",
        "The dataset has been collected and analysed during a research collaboration of Worldline and the Machine Learning Group (http://mlg.ulb.ac.be) of ULB (Université Libre de Bruxelles) on big data mining and fraud detection. "
      ]
    },
    {
      "cell_type": "markdown",
      "metadata": {
        "id": "s6BVNOhHFwQQ",
        "colab_type": "text"
      },
      "source": [
        "# Import Data from Drive [OK]\n",
        "\n",
        "Please download the data from https://www.kaggle.com/mlg-ulb/creditcardfraud\n",
        "\n",
        "Info about data: it is a CSV file, contains 31 features, the last feature is used to classify the transaction whether it is a fraud or not\n",
        "\n"
      ]
    },
    {
      "cell_type": "code",
      "metadata": {
        "id": "qj4vJhgIIE_l",
        "colab_type": "code",
        "colab": {
          "base_uri": "https://localhost:8080/",
          "height": 34
        },
        "outputId": "0f8476f6-af31-41a7-accc-570ad8ed64b2"
      },
      "source": [
        "from google.colab import drive\n",
        "drive.mount('/content/drive', force_remount=True)"
      ],
      "execution_count": 17,
      "outputs": [
        {
          "output_type": "stream",
          "text": [
            "Mounted at /content/drive\n"
          ],
          "name": "stdout"
        }
      ]
    },
    {
      "cell_type": "code",
      "metadata": {
        "id": "3zTlRkH1IaG_",
        "colab_type": "code",
        "colab": {}
      },
      "source": [
        "import os \n"
      ],
      "execution_count": 18,
      "outputs": []
    },
    {
      "cell_type": "code",
      "metadata": {
        "id": "G3A0ap2lIyC8",
        "colab_type": "code",
        "colab": {}
      },
      "source": [
        "os.chdir(\"/content/drive/My Drive/CreditCard\")"
      ],
      "execution_count": 25,
      "outputs": []
    },
    {
      "cell_type": "code",
      "metadata": {
        "id": "ixAvYIe8IiL0",
        "colab_type": "code",
        "colab": {
          "base_uri": "https://localhost:8080/",
          "height": 68
        },
        "outputId": "5a3148c0-e62c-45cd-803e-5ac177ade1e0"
      },
      "source": [
        "cwd = os.getcwd()\n",
        "print (cwd)\n",
        "!ls -lah"
      ],
      "execution_count": 26,
      "outputs": [
        {
          "output_type": "stream",
          "text": [
            "/content/drive/My Drive/CreditCard\n",
            "total 144M\n",
            "-rw------- 1 root root 144M Feb 29 08:20 creditcard.csv\n"
          ],
          "name": "stdout"
        }
      ]
    },
    {
      "cell_type": "code",
      "metadata": {
        "id": "1TP0XZeDoomw",
        "colab_type": "code",
        "colab": {
          "base_uri": "https://localhost:8080/",
          "height": 34
        },
        "outputId": "0d7e5fc3-81d6-46bd-eb30-154d9cd36918"
      },
      "source": [
        "!wc -l creditcard.csv\n"
      ],
      "execution_count": 27,
      "outputs": [
        {
          "output_type": "stream",
          "text": [
            "284808 creditcard.csv\n"
          ],
          "name": "stdout"
        }
      ]
    },
    {
      "cell_type": "code",
      "metadata": {
        "id": "J-Wz7MNKKbus",
        "colab_type": "code",
        "colab": {
          "base_uri": "https://localhost:8080/",
          "height": 68
        },
        "outputId": "ee758613-88d3-4095-89e3-b422d35a090c"
      },
      "source": [
        "cwd = os.getcwd()\n",
        "print (cwd)\n",
        "!ls -lah"
      ],
      "execution_count": null,
      "outputs": [
        {
          "output_type": "stream",
          "text": [
            "/content/drive/My Drive/CreditCard\n",
            "total 144M\n",
            "-rw------- 1 root root 144M Feb 29 08:20 creditcard.csv\n"
          ],
          "name": "stdout"
        }
      ]
    },
    {
      "cell_type": "code",
      "metadata": {
        "id": "yQFvJf4mKj2-",
        "colab_type": "code",
        "colab": {
          "base_uri": "https://localhost:8080/",
          "height": 258
        },
        "outputId": "f1192d53-4a58-45cd-dec1-3378812a06cf"
      },
      "source": [
        "import pandas as pd\n",
        "import seaborn as sns\n",
        "import matplotlib.pyplot as plt\n",
        "import numpy as np\n",
        "\n",
        "url = \"/content/drive/My Drive/CreditCard/creditcard.csv\"\n",
        "\n",
        "creditcard = pd.read_csv(url)\n",
        "\n",
        "creditcard.head()\n"
      ],
      "execution_count": null,
      "outputs": [
        {
          "output_type": "stream",
          "text": [
            "/usr/local/lib/python3.6/dist-packages/statsmodels/tools/_testing.py:19: FutureWarning: pandas.util.testing is deprecated. Use the functions in the public API at pandas.testing instead.\n",
            "  import pandas.util.testing as tm\n"
          ],
          "name": "stderr"
        },
        {
          "output_type": "execute_result",
          "data": {
            "text/html": [
              "<div>\n",
              "<style scoped>\n",
              "    .dataframe tbody tr th:only-of-type {\n",
              "        vertical-align: middle;\n",
              "    }\n",
              "\n",
              "    .dataframe tbody tr th {\n",
              "        vertical-align: top;\n",
              "    }\n",
              "\n",
              "    .dataframe thead th {\n",
              "        text-align: right;\n",
              "    }\n",
              "</style>\n",
              "<table border=\"1\" class=\"dataframe\">\n",
              "  <thead>\n",
              "    <tr style=\"text-align: right;\">\n",
              "      <th></th>\n",
              "      <th>Time</th>\n",
              "      <th>V1</th>\n",
              "      <th>V2</th>\n",
              "      <th>V3</th>\n",
              "      <th>V4</th>\n",
              "      <th>V5</th>\n",
              "      <th>V6</th>\n",
              "      <th>V7</th>\n",
              "      <th>V8</th>\n",
              "      <th>V9</th>\n",
              "      <th>V10</th>\n",
              "      <th>V11</th>\n",
              "      <th>V12</th>\n",
              "      <th>V13</th>\n",
              "      <th>V14</th>\n",
              "      <th>V15</th>\n",
              "      <th>V16</th>\n",
              "      <th>V17</th>\n",
              "      <th>V18</th>\n",
              "      <th>V19</th>\n",
              "      <th>V20</th>\n",
              "      <th>V21</th>\n",
              "      <th>V22</th>\n",
              "      <th>V23</th>\n",
              "      <th>V24</th>\n",
              "      <th>V25</th>\n",
              "      <th>V26</th>\n",
              "      <th>V27</th>\n",
              "      <th>V28</th>\n",
              "      <th>Amount</th>\n",
              "      <th>Class</th>\n",
              "    </tr>\n",
              "  </thead>\n",
              "  <tbody>\n",
              "    <tr>\n",
              "      <th>0</th>\n",
              "      <td>0.0</td>\n",
              "      <td>-1.359807</td>\n",
              "      <td>-0.072781</td>\n",
              "      <td>2.536347</td>\n",
              "      <td>1.378155</td>\n",
              "      <td>-0.338321</td>\n",
              "      <td>0.462388</td>\n",
              "      <td>0.239599</td>\n",
              "      <td>0.098698</td>\n",
              "      <td>0.363787</td>\n",
              "      <td>0.090794</td>\n",
              "      <td>-0.551600</td>\n",
              "      <td>-0.617801</td>\n",
              "      <td>-0.991390</td>\n",
              "      <td>-0.311169</td>\n",
              "      <td>1.468177</td>\n",
              "      <td>-0.470401</td>\n",
              "      <td>0.207971</td>\n",
              "      <td>0.025791</td>\n",
              "      <td>0.403993</td>\n",
              "      <td>0.251412</td>\n",
              "      <td>-0.018307</td>\n",
              "      <td>0.277838</td>\n",
              "      <td>-0.110474</td>\n",
              "      <td>0.066928</td>\n",
              "      <td>0.128539</td>\n",
              "      <td>-0.189115</td>\n",
              "      <td>0.133558</td>\n",
              "      <td>-0.021053</td>\n",
              "      <td>149.62</td>\n",
              "      <td>0</td>\n",
              "    </tr>\n",
              "    <tr>\n",
              "      <th>1</th>\n",
              "      <td>0.0</td>\n",
              "      <td>1.191857</td>\n",
              "      <td>0.266151</td>\n",
              "      <td>0.166480</td>\n",
              "      <td>0.448154</td>\n",
              "      <td>0.060018</td>\n",
              "      <td>-0.082361</td>\n",
              "      <td>-0.078803</td>\n",
              "      <td>0.085102</td>\n",
              "      <td>-0.255425</td>\n",
              "      <td>-0.166974</td>\n",
              "      <td>1.612727</td>\n",
              "      <td>1.065235</td>\n",
              "      <td>0.489095</td>\n",
              "      <td>-0.143772</td>\n",
              "      <td>0.635558</td>\n",
              "      <td>0.463917</td>\n",
              "      <td>-0.114805</td>\n",
              "      <td>-0.183361</td>\n",
              "      <td>-0.145783</td>\n",
              "      <td>-0.069083</td>\n",
              "      <td>-0.225775</td>\n",
              "      <td>-0.638672</td>\n",
              "      <td>0.101288</td>\n",
              "      <td>-0.339846</td>\n",
              "      <td>0.167170</td>\n",
              "      <td>0.125895</td>\n",
              "      <td>-0.008983</td>\n",
              "      <td>0.014724</td>\n",
              "      <td>2.69</td>\n",
              "      <td>0</td>\n",
              "    </tr>\n",
              "    <tr>\n",
              "      <th>2</th>\n",
              "      <td>1.0</td>\n",
              "      <td>-1.358354</td>\n",
              "      <td>-1.340163</td>\n",
              "      <td>1.773209</td>\n",
              "      <td>0.379780</td>\n",
              "      <td>-0.503198</td>\n",
              "      <td>1.800499</td>\n",
              "      <td>0.791461</td>\n",
              "      <td>0.247676</td>\n",
              "      <td>-1.514654</td>\n",
              "      <td>0.207643</td>\n",
              "      <td>0.624501</td>\n",
              "      <td>0.066084</td>\n",
              "      <td>0.717293</td>\n",
              "      <td>-0.165946</td>\n",
              "      <td>2.345865</td>\n",
              "      <td>-2.890083</td>\n",
              "      <td>1.109969</td>\n",
              "      <td>-0.121359</td>\n",
              "      <td>-2.261857</td>\n",
              "      <td>0.524980</td>\n",
              "      <td>0.247998</td>\n",
              "      <td>0.771679</td>\n",
              "      <td>0.909412</td>\n",
              "      <td>-0.689281</td>\n",
              "      <td>-0.327642</td>\n",
              "      <td>-0.139097</td>\n",
              "      <td>-0.055353</td>\n",
              "      <td>-0.059752</td>\n",
              "      <td>378.66</td>\n",
              "      <td>0</td>\n",
              "    </tr>\n",
              "    <tr>\n",
              "      <th>3</th>\n",
              "      <td>1.0</td>\n",
              "      <td>-0.966272</td>\n",
              "      <td>-0.185226</td>\n",
              "      <td>1.792993</td>\n",
              "      <td>-0.863291</td>\n",
              "      <td>-0.010309</td>\n",
              "      <td>1.247203</td>\n",
              "      <td>0.237609</td>\n",
              "      <td>0.377436</td>\n",
              "      <td>-1.387024</td>\n",
              "      <td>-0.054952</td>\n",
              "      <td>-0.226487</td>\n",
              "      <td>0.178228</td>\n",
              "      <td>0.507757</td>\n",
              "      <td>-0.287924</td>\n",
              "      <td>-0.631418</td>\n",
              "      <td>-1.059647</td>\n",
              "      <td>-0.684093</td>\n",
              "      <td>1.965775</td>\n",
              "      <td>-1.232622</td>\n",
              "      <td>-0.208038</td>\n",
              "      <td>-0.108300</td>\n",
              "      <td>0.005274</td>\n",
              "      <td>-0.190321</td>\n",
              "      <td>-1.175575</td>\n",
              "      <td>0.647376</td>\n",
              "      <td>-0.221929</td>\n",
              "      <td>0.062723</td>\n",
              "      <td>0.061458</td>\n",
              "      <td>123.50</td>\n",
              "      <td>0</td>\n",
              "    </tr>\n",
              "    <tr>\n",
              "      <th>4</th>\n",
              "      <td>2.0</td>\n",
              "      <td>-1.158233</td>\n",
              "      <td>0.877737</td>\n",
              "      <td>1.548718</td>\n",
              "      <td>0.403034</td>\n",
              "      <td>-0.407193</td>\n",
              "      <td>0.095921</td>\n",
              "      <td>0.592941</td>\n",
              "      <td>-0.270533</td>\n",
              "      <td>0.817739</td>\n",
              "      <td>0.753074</td>\n",
              "      <td>-0.822843</td>\n",
              "      <td>0.538196</td>\n",
              "      <td>1.345852</td>\n",
              "      <td>-1.119670</td>\n",
              "      <td>0.175121</td>\n",
              "      <td>-0.451449</td>\n",
              "      <td>-0.237033</td>\n",
              "      <td>-0.038195</td>\n",
              "      <td>0.803487</td>\n",
              "      <td>0.408542</td>\n",
              "      <td>-0.009431</td>\n",
              "      <td>0.798278</td>\n",
              "      <td>-0.137458</td>\n",
              "      <td>0.141267</td>\n",
              "      <td>-0.206010</td>\n",
              "      <td>0.502292</td>\n",
              "      <td>0.219422</td>\n",
              "      <td>0.215153</td>\n",
              "      <td>69.99</td>\n",
              "      <td>0</td>\n",
              "    </tr>\n",
              "  </tbody>\n",
              "</table>\n",
              "</div>"
            ],
            "text/plain": [
              "   Time        V1        V2        V3  ...       V27       V28  Amount  Class\n",
              "0   0.0 -1.359807 -0.072781  2.536347  ...  0.133558 -0.021053  149.62      0\n",
              "1   0.0  1.191857  0.266151  0.166480  ... -0.008983  0.014724    2.69      0\n",
              "2   1.0 -1.358354 -1.340163  1.773209  ... -0.055353 -0.059752  378.66      0\n",
              "3   1.0 -0.966272 -0.185226  1.792993  ...  0.062723  0.061458  123.50      0\n",
              "4   2.0 -1.158233  0.877737  1.548718  ...  0.219422  0.215153   69.99      0\n",
              "\n",
              "[5 rows x 31 columns]"
            ]
          },
          "metadata": {
            "tags": []
          },
          "execution_count": 10
        }
      ]
    },
    {
      "cell_type": "markdown",
      "metadata": {
        "id": "nbBfZm9sforQ",
        "colab_type": "text"
      },
      "source": [
        "# How to Deal with Imbalanced Dataset [OK]"
      ]
    },
    {
      "cell_type": "code",
      "metadata": {
        "id": "XS8Kp_VNFwQX",
        "colab_type": "code",
        "colab": {
          "base_uri": "https://localhost:8080/",
          "height": 34
        },
        "outputId": "5c7d824a-50a3-4dd4-e87b-9545d2df8acc"
      },
      "source": [
        "print(creditcard.shape)"
      ],
      "execution_count": null,
      "outputs": [
        {
          "output_type": "stream",
          "text": [
            "(284807, 31)\n"
          ],
          "name": "stdout"
        }
      ]
    },
    {
      "cell_type": "code",
      "metadata": {
        "id": "WsSJVyyYFwQa",
        "colab_type": "code",
        "colab": {
          "base_uri": "https://localhost:8080/",
          "height": 102
        },
        "outputId": "ea08ee8e-5a52-481f-8a14-4f3e793ea9f3"
      },
      "source": [
        "print(creditcard.columns)"
      ],
      "execution_count": null,
      "outputs": [
        {
          "output_type": "stream",
          "text": [
            "Index(['Time', 'V1', 'V2', 'V3', 'V4', 'V5', 'V6', 'V7', 'V8', 'V9', 'V10',\n",
            "       'V11', 'V12', 'V13', 'V14', 'V15', 'V16', 'V17', 'V18', 'V19', 'V20',\n",
            "       'V21', 'V22', 'V23', 'V24', 'V25', 'V26', 'V27', 'V28', 'Amount',\n",
            "       'Class'],\n",
            "      dtype='object')\n"
          ],
          "name": "stdout"
        }
      ]
    },
    {
      "cell_type": "code",
      "metadata": {
        "id": "UteXbVeOqDjr",
        "colab_type": "code",
        "colab": {}
      },
      "source": [
        "## check null values \n",
        "print (f'Number if the records = {creditcard.shape[0]}')\n",
        "pd.isnull(creditcard).sum()"
      ],
      "execution_count": null,
      "outputs": []
    },
    {
      "cell_type": "code",
      "metadata": {
        "id": "MQ3w5P7UFwQc",
        "colab_type": "code",
        "colab": {
          "base_uri": "https://localhost:8080/",
          "height": 68
        },
        "outputId": "e6f689b2-1909-4c6e-df3f-235cdbdd277b"
      },
      "source": [
        "creditcard[\"Class\"].value_counts()"
      ],
      "execution_count": null,
      "outputs": [
        {
          "output_type": "execute_result",
          "data": {
            "text/plain": [
              "0    284315\n",
              "1       492\n",
              "Name: Class, dtype: int64"
            ]
          },
          "metadata": {
            "tags": []
          },
          "execution_count": 14
        }
      ]
    },
    {
      "cell_type": "code",
      "metadata": {
        "id": "8vQ7quX2W8Rt",
        "colab_type": "code",
        "colab": {
          "base_uri": "https://localhost:8080/",
          "height": 34
        },
        "outputId": "37faa5e9-2ebc-4c9a-92e6-9863efd86f86"
      },
      "source": [
        "## the data is highly unbalanced\n",
        "positive =  creditcard[creditcard.Class == 1]\n",
        "positive_cnt = positive.shape[0]\n",
        "\n",
        "negative =  creditcard[creditcard.Class == 0]\n",
        "negative_cnt = negative.shape[0]\n",
        "\n",
        "fruad_pct= positive_cnt / (positive_cnt  + negative_cnt )\n",
        "print(f'records count = {creditcard.shape[0]} , fruad records = {positive_cnt} ,  the positive class (frauds) {round(fruad_pct*100,3)}%')\n"
      ],
      "execution_count": null,
      "outputs": [
        {
          "output_type": "stream",
          "text": [
            "records count = 284807 , fruad records = 492 ,  the positive class (frauds) 0.173%\n"
          ],
          "name": "stdout"
        }
      ]
    },
    {
      "cell_type": "markdown",
      "metadata": {
        "id": "u-UqsmKseXC0",
        "colab_type": "text"
      },
      "source": [
        "Observations:\n",
        "\n",
        "We will use the Credit Card Fraud Detection Dataset available on Kaggle. The dataset is high imbalanced, with only 0.17% of transactions being classified as fraudulent."
      ]
    },
    {
      "cell_type": "markdown",
      "metadata": {
        "id": "CEmzNbMFpPau",
        "colab_type": "text"
      },
      "source": [
        "**Imbalanced Classes**\n",
        "\n",
        "Most machine learning algorithms work best when the number of samples in each class are about equal. This is because most algorithms are designed to maximize accuracy and reduce error.\n",
        "\n",
        "\n",
        "https://towardsdatascience.com/methods-for-dealing-with-imbalanced-data-5b761be45a18\n",
        "\n",
        "\n",
        "We explored 5 different methods for dealing with imbalanced datasets:\n",
        "Change the performance metric\n",
        "\n",
        "\n",
        "1.   Change the performance metric\n",
        "2.   Change the algorithm\n",
        "3.   Oversample minority class\n",
        "4.   Undersample majority class\n",
        "5.   Generate synthetic samples\n",
        "\n",
        "\n"
      ]
    },
    {
      "cell_type": "code",
      "metadata": {
        "id": "N1-eO1jrs3Iu",
        "colab_type": "code",
        "colab": {
          "base_uri": "https://localhost:8080/",
          "height": 34
        },
        "outputId": "6a1629a0-ebcc-46a8-b298-981541edea8d"
      },
      "source": [
        "from sklearn.model_selection import train_test_split\n",
        "x = creditcard.drop('Class',axis=1)\n",
        "y = creditcard.Class\n",
        "x_train, x_test, y_train, y_test = train_test_split(x,y,test_size=0.2)\n",
        "print('size of test dataset = {}, size of traing data = {}, percentage = {}%'.format(len(x_test),len(x_train),len(x_test)*100/(len(x_test) + len(x_train))))"
      ],
      "execution_count": null,
      "outputs": [
        {
          "output_type": "stream",
          "text": [
            "size of test dataset = 56962, size of traing data = 227845, percentage = 20.000210668979342%\n"
          ],
          "name": "stdout"
        }
      ]
    },
    {
      "cell_type": "code",
      "metadata": {
        "id": "AWLnDq36sX3V",
        "colab_type": "code",
        "colab": {
          "base_uri": "https://localhost:8080/",
          "height": 102
        },
        "outputId": "82cb57a0-9ce0-4ecc-8adf-7f67c26085db"
      },
      "source": [
        "# Modeling the data as is\n",
        "# Train model\n",
        "from sklearn.linear_model import LogisticRegression\n",
        "model_lr = LogisticRegression(solver='liblinear').fit(x_train, y_train)\n",
        " \n",
        "# Checking accuracy\n",
        "ACC_train_lr = model_lr.score(x_train, y_train)\n",
        "ACC_test_lr = model_lr.score(x_test, y_test)\n",
        "print(ACC_train_lr*100)\n",
        "print(ACC_test_lr*100)\n",
        "\n",
        "# Predict on training set\n",
        "lr_pred = model_lr.predict(x_test)\n",
        "\n",
        "\n",
        "# Checking unique values\n",
        "predictions = pd.DataFrame(lr_pred)\n",
        "predictions[0].value_counts()\n"
      ],
      "execution_count": null,
      "outputs": [
        {
          "output_type": "stream",
          "text": [
            "99.88457065110052\n",
            "99.89817773252344\n"
          ],
          "name": "stdout"
        },
        {
          "output_type": "execute_result",
          "data": {
            "text/plain": [
              "0    56881\n",
              "1       81\n",
              "Name: 0, dtype: int64"
            ]
          },
          "metadata": {
            "tags": []
          },
          "execution_count": 17
        }
      ]
    },
    {
      "cell_type": "markdown",
      "metadata": {
        "id": "1e3XmIUXwiTV",
        "colab_type": "text"
      },
      "source": [
        "high score !\n",
        "but Let’s see what happens when we apply these F1 and recall scores to our logistic regression from above."
      ]
    },
    {
      "cell_type": "markdown",
      "metadata": {
        "id": "Q1TA1eHS9FFt",
        "colab_type": "text"
      },
      "source": [
        "**1-Change the performance metric**"
      ]
    },
    {
      "cell_type": "code",
      "metadata": {
        "id": "vwUjJMaxu0dj",
        "colab_type": "code",
        "colab": {
          "base_uri": "https://localhost:8080/",
          "height": 68
        },
        "outputId": "c034b2ee-8b1a-4592-f742-99c932635ae1"
      },
      "source": [
        "# 1-Change the performance metric\n",
        "\n",
        "from sklearn.metrics import accuracy_score\n",
        "from sklearn.metrics import f1_score\n",
        "from sklearn.metrics import recall_score\n",
        "\n",
        "print('accuracy_score= ', accuracy_score(y_test, lr_pred))\n",
        "print('f1_score= ', f1_score(y_test, lr_pred))\n",
        "print('recall_score= ', recall_score(y_test, lr_pred))\n"
      ],
      "execution_count": null,
      "outputs": [
        {
          "output_type": "stream",
          "text": [
            "accuracy_score=  0.9989817773252344\n",
            "f1_score=  0.6881720430107527\n",
            "recall_score=  0.6095238095238096\n"
          ],
          "name": "stdout"
        }
      ]
    },
    {
      "cell_type": "markdown",
      "metadata": {
        "id": "FMRToKt2wsZE",
        "colab_type": "text"
      },
      "source": [
        "These scores don’t look quite so impressive"
      ]
    },
    {
      "cell_type": "markdown",
      "metadata": {
        "id": "PYmVAyWK9M8c",
        "colab_type": "text"
      },
      "source": [
        "**2. Change the algorithm**\n",
        "\n",
        "Decision trees frequently perform well on imbalanced data. They work by learning a hierarchy of if/else questions and this can force both classes to be addressed"
      ]
    },
    {
      "cell_type": "code",
      "metadata": {
        "id": "ApEW48HYwJqa",
        "colab_type": "code",
        "colab": {}
      },
      "source": [
        "# 2. Change the algorithm\n",
        "from sklearn.ensemble import RandomForestClassifier\n",
        "\n",
        "# train model\n",
        "model_rfc = RandomForestClassifier(n_estimators=10).fit(x_train, y_train)\n",
        "\n",
        "# predict on test set\n",
        "rfc_pred = model_rfc.predict(x_test)\n"
      ],
      "execution_count": null,
      "outputs": []
    },
    {
      "cell_type": "code",
      "metadata": {
        "id": "GK9cFgI9yY3k",
        "colab_type": "code",
        "colab": {
          "base_uri": "https://localhost:8080/",
          "height": 68
        },
        "outputId": "0ff6106d-03ce-4640-8001-52e1afeb9da2"
      },
      "source": [
        "from sklearn.metrics import accuracy_score\n",
        "print('accuracy_score= ', accuracy_score(y_test, rfc_pred))\n",
        "\n",
        "from sklearn.metrics import f1_score\n",
        "# f1 score\n",
        "print('f1_score= ', f1_score(y_test, rfc_pred))\n",
        "\n",
        "from sklearn.metrics import recall_score\n",
        "# recall score\n",
        "print('recall_score= ', recall_score(y_test, rfc_pred))"
      ],
      "execution_count": null,
      "outputs": [
        {
          "output_type": "stream",
          "text": [
            "accuracy_score=  0.9994733330992591\n",
            "f1_score=  0.8314606741573033\n",
            "recall_score=  0.74\n"
          ],
          "name": "stdout"
        }
      ]
    },
    {
      "cell_type": "markdown",
      "metadata": {
        "id": "Z3J6Oj9ZwP_7",
        "colab_type": "text"
      },
      "source": [
        "While our accuracy score is slightly lower, both F1 and recall have increased as compared to logistic regression! It appears that for this specific problem, random forest may be a better choice of model."
      ]
    },
    {
      "cell_type": "markdown",
      "metadata": {
        "id": "1J-3EtLM9TsA",
        "colab_type": "text"
      },
      "source": [
        "**3. Resampling Techniques — Oversample minority class**\n",
        "\n",
        "we would split into test and train sets BEFORE trying oversampling techniques."
      ]
    },
    {
      "cell_type": "code",
      "metadata": {
        "id": "JcryIcmZ-GpU",
        "colab_type": "code",
        "colab": {
          "base_uri": "https://localhost:8080/",
          "height": 68
        },
        "outputId": "df1bc2e3-561c-4e3f-972a-3a4ae3ad01c9"
      },
      "source": [
        "from sklearn.utils import resample\n",
        "\n",
        "# Separate input features and target\n",
        "y = creditcard.Class\n",
        "X = creditcard.drop('Class', axis=1)\n",
        "\n",
        "# setting up testing and training sets\n",
        "X_train, X_test, y_train, y_test = train_test_split(X, y, test_size=0.25, random_state=27)\n",
        "\n",
        "# concatenate our training data back together\n",
        "X = pd.concat([X_train, y_train], axis=1)\n",
        "\n",
        "# separate minority and majority classes\n",
        "not_fraud = X[X.Class==0]\n",
        "fraud = X[X.Class==1]\n",
        "\n",
        "# upsample minority\n",
        "fraud_upsampled = resample(fraud,\n",
        "                          replace=True, # sample with replacement\n",
        "                          n_samples=len(not_fraud), # match number in majority class\n",
        "                          random_state=27) # reproducible results\n",
        "\n",
        "# combine majority and upsampled minority\n",
        "upsampled = pd.concat([not_fraud, fraud_upsampled])\n",
        "\n",
        "# check new class counts\n",
        "upsampled.Class.value_counts()\n"
      ],
      "execution_count": null,
      "outputs": [
        {
          "output_type": "execute_result",
          "data": {
            "text/plain": [
              "1    213245\n",
              "0    213245\n",
              "Name: Class, dtype: int64"
            ]
          },
          "metadata": {
            "tags": []
          },
          "execution_count": 25
        }
      ]
    },
    {
      "cell_type": "code",
      "metadata": {
        "id": "sAf4TYcP-Kua",
        "colab_type": "code",
        "colab": {}
      },
      "source": [
        "# trying logistic regression again with the balanced dataset\n",
        "y_train = upsampled.Class\n",
        "X_train = upsampled.drop('Class', axis=1)\n",
        "\n",
        "upsampled = LogisticRegression(solver='liblinear').fit(X_train, y_train)\n",
        "upsampled_pred = upsampled.predict(X_test)\n",
        "   "
      ],
      "execution_count": null,
      "outputs": []
    },
    {
      "cell_type": "code",
      "metadata": {
        "id": "k7PERFMF_I_K",
        "colab_type": "code",
        "colab": {
          "base_uri": "https://localhost:8080/",
          "height": 68
        },
        "outputId": "5046ebc1-1822-4f9f-9cc1-2e9a2c764447"
      },
      "source": [
        "from sklearn.metrics import accuracy_score\n",
        "print('accuracy_score= ', accuracy_score(y_test, upsampled_pred))\n",
        "\n",
        "from sklearn.metrics import f1_score\n",
        "# f1 score\n",
        "print('f1_score= ', f1_score(y_test, upsampled_pred))\n",
        "\n",
        "from sklearn.metrics import recall_score\n",
        "# recall score\n",
        "print('recall_score= ', recall_score(y_test, upsampled_pred))"
      ],
      "execution_count": null,
      "outputs": [
        {
          "output_type": "stream",
          "text": [
            "accuracy_score=  0.9807589674447347\n",
            "f1_score=  0.14375000000000002\n",
            "recall_score=  0.8712121212121212\n"
          ],
          "name": "stdout"
        }
      ]
    },
    {
      "cell_type": "markdown",
      "metadata": {
        "id": "BDcZlMI2hQLt",
        "colab_type": "text"
      },
      "source": [
        "Our recall score increased, but F1 is much lower than with either our baseline logistic regression or random forest from above. Let’s see if undersampling might perform better here."
      ]
    },
    {
      "cell_type": "markdown",
      "metadata": {
        "id": "t3bb_dal9VpK",
        "colab_type": "text"
      },
      "source": [
        "**4. Resampling techniques — Undersample majority class**\n",
        "\n",
        "Again, we would split into test and train sets BEFORE trying Undersample techniques."
      ]
    },
    {
      "cell_type": "code",
      "metadata": {
        "id": "YUtI9f2d_bQl",
        "colab_type": "code",
        "colab": {
          "base_uri": "https://localhost:8080/",
          "height": 68
        },
        "outputId": "672f07ec-5ec8-4862-89cd-569ba5f453eb"
      },
      "source": [
        "# still using our separated classes fraud and not_fraud from above\n",
        "\n",
        "# downsample majority\n",
        "not_fraud_downsampled = resample(not_fraud,\n",
        "                                replace = False, # sample without replacement\n",
        "                                n_samples = len(fraud), # match minority n\n",
        "                                random_state = 27) # reproducible results\n",
        "\n",
        "# combine minority and downsampled majority\n",
        "downsampled = pd.concat([not_fraud_downsampled, fraud])\n",
        "\n",
        "# checking counts\n",
        "downsampled.Class.value_counts()\n"
      ],
      "execution_count": null,
      "outputs": [
        {
          "output_type": "execute_result",
          "data": {
            "text/plain": [
              "1    360\n",
              "0    360\n",
              "Name: Class, dtype: int64"
            ]
          },
          "metadata": {
            "tags": []
          },
          "execution_count": 28
        }
      ]
    },
    {
      "cell_type": "code",
      "metadata": {
        "id": "u60PDkvu_jVb",
        "colab_type": "code",
        "colab": {}
      },
      "source": [
        "# trying logistic regression again with the undersampled dataset\n",
        "\n",
        "y_train = downsampled.Class\n",
        "X_train = downsampled.drop('Class', axis=1)\n",
        "\n",
        "undersampled = LogisticRegression(solver='liblinear').fit(X_train, y_train)\n",
        "\n",
        "undersampled_pred = undersampled.predict(X_test)\n"
      ],
      "execution_count": null,
      "outputs": []
    },
    {
      "cell_type": "code",
      "metadata": {
        "id": "SMhQ1_d4_n1y",
        "colab_type": "code",
        "colab": {
          "base_uri": "https://localhost:8080/",
          "height": 68
        },
        "outputId": "d5c94c8d-e1ce-4a5c-a069-0fbbfdb6d9d5"
      },
      "source": [
        "from sklearn.metrics import accuracy_score\n",
        "print('accuracy_score= ', accuracy_score(y_test, undersampled_pred))\n",
        "\n",
        "from sklearn.metrics import f1_score\n",
        "# f1 score\n",
        "print('f1_score= ', f1_score(y_test, undersampled_pred))\n",
        "\n",
        "from sklearn.metrics import recall_score\n",
        "# recall score\n",
        "print('recall_score= ', recall_score(y_test, undersampled_pred))"
      ],
      "execution_count": null,
      "outputs": [
        {
          "output_type": "stream",
          "text": [
            "accuracy_score=  0.9758574197354007\n",
            "f1_score=  0.11710323574730355\n",
            "recall_score=  0.8636363636363636\n"
          ],
          "name": "stdout"
        }
      ]
    },
    {
      "cell_type": "markdown",
      "metadata": {
        "id": "3nOE32ubhk3T",
        "colab_type": "text"
      },
      "source": [
        "Undersampling underperformed oversampling in this case. Let’s try one more method for handling imbalanced data."
      ]
    },
    {
      "cell_type": "markdown",
      "metadata": {
        "id": "9dvc8wHL9deR",
        "colab_type": "text"
      },
      "source": [
        "**5. Generate synthetic samples SMOTE**"
      ]
    },
    {
      "cell_type": "markdown",
      "metadata": {
        "id": "r8uADKcDh1K4",
        "colab_type": "text"
      },
      "source": [
        "Again, it’s important to generate the new samples only in the training set to ensure our model generalizes well to unseen data."
      ]
    },
    {
      "cell_type": "code",
      "metadata": {
        "id": "ldo42zMI__x-",
        "colab_type": "code",
        "colab": {
          "base_uri": "https://localhost:8080/",
          "height": 139
        },
        "outputId": "b51680dc-350d-4b0d-de22-7b24ebe22a7e"
      },
      "source": [
        "from imblearn.over_sampling import SMOTE\n",
        "\n",
        "# Separate input features and target\n",
        "y = creditcard.Class\n",
        "X = creditcard.drop('Class', axis=1)\n",
        "\n",
        "# setting up testing and training sets\n",
        "X_train, X_test, y_train, y_test = train_test_split(X, y, test_size=0.25, random_state=27)\n",
        "\n",
        "sm = SMOTE(random_state=27, ratio=1.0)\n",
        "X_train, y_train = sm.fit_sample(X_train, y_train)"
      ],
      "execution_count": null,
      "outputs": [
        {
          "output_type": "stream",
          "text": [
            "/usr/local/lib/python3.6/dist-packages/sklearn/externals/six.py:31: FutureWarning: The module is deprecated in version 0.21 and will be removed in version 0.23 since we've dropped support for Python 2.7. Please rely on the official version of six (https://pypi.org/project/six/).\n",
            "  \"(https://pypi.org/project/six/).\", FutureWarning)\n",
            "/usr/local/lib/python3.6/dist-packages/sklearn/utils/deprecation.py:144: FutureWarning: The sklearn.neighbors.base module is  deprecated in version 0.22 and will be removed in version 0.24. The corresponding classes / functions should instead be imported from sklearn.neighbors. Anything that cannot be imported from sklearn.neighbors is now part of the private API.\n",
            "  warnings.warn(message, FutureWarning)\n",
            "/usr/local/lib/python3.6/dist-packages/sklearn/utils/deprecation.py:87: FutureWarning: Function safe_indexing is deprecated; safe_indexing is deprecated in version 0.22 and will be removed in version 0.24.\n",
            "  warnings.warn(msg, category=FutureWarning)\n"
          ],
          "name": "stderr"
        }
      ]
    },
    {
      "cell_type": "code",
      "metadata": {
        "id": "THYFI4moACvm",
        "colab_type": "code",
        "colab": {}
      },
      "source": [
        "smote = LogisticRegression(solver='liblinear').fit(X_train, y_train)\n",
        "\n",
        "smote_pred = smote.predict(X_test)\n"
      ],
      "execution_count": null,
      "outputs": []
    },
    {
      "cell_type": "code",
      "metadata": {
        "id": "V0h25mgCAGwd",
        "colab_type": "code",
        "colab": {
          "base_uri": "https://localhost:8080/",
          "height": 68
        },
        "outputId": "469bf5cb-2b20-490c-ff8c-3d1863349894"
      },
      "source": [
        "from sklearn.metrics import accuracy_score\n",
        "print('accuracy_score= ', accuracy_score(y_test, smote_pred))\n",
        "\n",
        "from sklearn.metrics import f1_score\n",
        "# f1 score\n",
        "print('f1_score= ', f1_score(y_test, smote_pred))\n",
        "\n",
        "from sklearn.metrics import recall_score\n",
        "# recall score\n",
        "print('recall_score= ', recall_score(y_test, smote_pred))"
      ],
      "execution_count": null,
      "outputs": [
        {
          "output_type": "stream",
          "text": [
            "accuracy_score=  0.9858571388444145\n",
            "f1_score=  0.18461538461538463\n",
            "recall_score=  0.8636363636363636\n"
          ],
          "name": "stdout"
        }
      ]
    },
    {
      "cell_type": "markdown",
      "metadata": {
        "id": "VZ64Ee9f9yTh",
        "colab_type": "text"
      },
      "source": [
        "It appears for this particular dataset random forest and SMOTE are the best of the options we tried here."
      ]
    },
    {
      "cell_type": "markdown",
      "metadata": {
        "id": "fNzOX1gDFwRo",
        "colab_type": "text"
      },
      "source": [
        "# Exploratory Data Analysis EDA [OK]"
      ]
    },
    {
      "cell_type": "code",
      "metadata": {
        "id": "7sDmHOisp_i7",
        "colab_type": "code",
        "colab": {
          "base_uri": "https://localhost:8080/",
          "height": 34
        },
        "outputId": "e0f0559e-f58b-4e7b-d407-c9710ebcc103"
      },
      "source": [
        "creditcard.shape"
      ],
      "execution_count": null,
      "outputs": [
        {
          "output_type": "execute_result",
          "data": {
            "text/plain": [
              "(284807, 31)"
            ]
          },
          "metadata": {
            "tags": []
          },
          "execution_count": 19
        }
      ]
    },
    {
      "cell_type": "code",
      "metadata": {
        "id": "rvx6lBojqH6b",
        "colab_type": "code",
        "colab": {
          "base_uri": "https://localhost:8080/",
          "height": 224
        },
        "outputId": "071c62d1-444c-4bee-fa2d-7769ce8e601f"
      },
      "source": [
        "creditcard.head()"
      ],
      "execution_count": null,
      "outputs": [
        {
          "output_type": "execute_result",
          "data": {
            "text/html": [
              "<div>\n",
              "<style scoped>\n",
              "    .dataframe tbody tr th:only-of-type {\n",
              "        vertical-align: middle;\n",
              "    }\n",
              "\n",
              "    .dataframe tbody tr th {\n",
              "        vertical-align: top;\n",
              "    }\n",
              "\n",
              "    .dataframe thead th {\n",
              "        text-align: right;\n",
              "    }\n",
              "</style>\n",
              "<table border=\"1\" class=\"dataframe\">\n",
              "  <thead>\n",
              "    <tr style=\"text-align: right;\">\n",
              "      <th></th>\n",
              "      <th>Time</th>\n",
              "      <th>V1</th>\n",
              "      <th>V2</th>\n",
              "      <th>V3</th>\n",
              "      <th>V4</th>\n",
              "      <th>V5</th>\n",
              "      <th>V6</th>\n",
              "      <th>V7</th>\n",
              "      <th>V8</th>\n",
              "      <th>V9</th>\n",
              "      <th>V10</th>\n",
              "      <th>V11</th>\n",
              "      <th>V12</th>\n",
              "      <th>V13</th>\n",
              "      <th>V14</th>\n",
              "      <th>V15</th>\n",
              "      <th>V16</th>\n",
              "      <th>V17</th>\n",
              "      <th>V18</th>\n",
              "      <th>V19</th>\n",
              "      <th>V20</th>\n",
              "      <th>V21</th>\n",
              "      <th>V22</th>\n",
              "      <th>V23</th>\n",
              "      <th>V24</th>\n",
              "      <th>V25</th>\n",
              "      <th>V26</th>\n",
              "      <th>V27</th>\n",
              "      <th>V28</th>\n",
              "      <th>Amount</th>\n",
              "      <th>Class</th>\n",
              "    </tr>\n",
              "  </thead>\n",
              "  <tbody>\n",
              "    <tr>\n",
              "      <th>0</th>\n",
              "      <td>0.0</td>\n",
              "      <td>-1.359807</td>\n",
              "      <td>-0.072781</td>\n",
              "      <td>2.536347</td>\n",
              "      <td>1.378155</td>\n",
              "      <td>-0.338321</td>\n",
              "      <td>0.462388</td>\n",
              "      <td>0.239599</td>\n",
              "      <td>0.098698</td>\n",
              "      <td>0.363787</td>\n",
              "      <td>0.090794</td>\n",
              "      <td>-0.551600</td>\n",
              "      <td>-0.617801</td>\n",
              "      <td>-0.991390</td>\n",
              "      <td>-0.311169</td>\n",
              "      <td>1.468177</td>\n",
              "      <td>-0.470401</td>\n",
              "      <td>0.207971</td>\n",
              "      <td>0.025791</td>\n",
              "      <td>0.403993</td>\n",
              "      <td>0.251412</td>\n",
              "      <td>-0.018307</td>\n",
              "      <td>0.277838</td>\n",
              "      <td>-0.110474</td>\n",
              "      <td>0.066928</td>\n",
              "      <td>0.128539</td>\n",
              "      <td>-0.189115</td>\n",
              "      <td>0.133558</td>\n",
              "      <td>-0.021053</td>\n",
              "      <td>149.62</td>\n",
              "      <td>0</td>\n",
              "    </tr>\n",
              "    <tr>\n",
              "      <th>1</th>\n",
              "      <td>0.0</td>\n",
              "      <td>1.191857</td>\n",
              "      <td>0.266151</td>\n",
              "      <td>0.166480</td>\n",
              "      <td>0.448154</td>\n",
              "      <td>0.060018</td>\n",
              "      <td>-0.082361</td>\n",
              "      <td>-0.078803</td>\n",
              "      <td>0.085102</td>\n",
              "      <td>-0.255425</td>\n",
              "      <td>-0.166974</td>\n",
              "      <td>1.612727</td>\n",
              "      <td>1.065235</td>\n",
              "      <td>0.489095</td>\n",
              "      <td>-0.143772</td>\n",
              "      <td>0.635558</td>\n",
              "      <td>0.463917</td>\n",
              "      <td>-0.114805</td>\n",
              "      <td>-0.183361</td>\n",
              "      <td>-0.145783</td>\n",
              "      <td>-0.069083</td>\n",
              "      <td>-0.225775</td>\n",
              "      <td>-0.638672</td>\n",
              "      <td>0.101288</td>\n",
              "      <td>-0.339846</td>\n",
              "      <td>0.167170</td>\n",
              "      <td>0.125895</td>\n",
              "      <td>-0.008983</td>\n",
              "      <td>0.014724</td>\n",
              "      <td>2.69</td>\n",
              "      <td>0</td>\n",
              "    </tr>\n",
              "    <tr>\n",
              "      <th>2</th>\n",
              "      <td>1.0</td>\n",
              "      <td>-1.358354</td>\n",
              "      <td>-1.340163</td>\n",
              "      <td>1.773209</td>\n",
              "      <td>0.379780</td>\n",
              "      <td>-0.503198</td>\n",
              "      <td>1.800499</td>\n",
              "      <td>0.791461</td>\n",
              "      <td>0.247676</td>\n",
              "      <td>-1.514654</td>\n",
              "      <td>0.207643</td>\n",
              "      <td>0.624501</td>\n",
              "      <td>0.066084</td>\n",
              "      <td>0.717293</td>\n",
              "      <td>-0.165946</td>\n",
              "      <td>2.345865</td>\n",
              "      <td>-2.890083</td>\n",
              "      <td>1.109969</td>\n",
              "      <td>-0.121359</td>\n",
              "      <td>-2.261857</td>\n",
              "      <td>0.524980</td>\n",
              "      <td>0.247998</td>\n",
              "      <td>0.771679</td>\n",
              "      <td>0.909412</td>\n",
              "      <td>-0.689281</td>\n",
              "      <td>-0.327642</td>\n",
              "      <td>-0.139097</td>\n",
              "      <td>-0.055353</td>\n",
              "      <td>-0.059752</td>\n",
              "      <td>378.66</td>\n",
              "      <td>0</td>\n",
              "    </tr>\n",
              "    <tr>\n",
              "      <th>3</th>\n",
              "      <td>1.0</td>\n",
              "      <td>-0.966272</td>\n",
              "      <td>-0.185226</td>\n",
              "      <td>1.792993</td>\n",
              "      <td>-0.863291</td>\n",
              "      <td>-0.010309</td>\n",
              "      <td>1.247203</td>\n",
              "      <td>0.237609</td>\n",
              "      <td>0.377436</td>\n",
              "      <td>-1.387024</td>\n",
              "      <td>-0.054952</td>\n",
              "      <td>-0.226487</td>\n",
              "      <td>0.178228</td>\n",
              "      <td>0.507757</td>\n",
              "      <td>-0.287924</td>\n",
              "      <td>-0.631418</td>\n",
              "      <td>-1.059647</td>\n",
              "      <td>-0.684093</td>\n",
              "      <td>1.965775</td>\n",
              "      <td>-1.232622</td>\n",
              "      <td>-0.208038</td>\n",
              "      <td>-0.108300</td>\n",
              "      <td>0.005274</td>\n",
              "      <td>-0.190321</td>\n",
              "      <td>-1.175575</td>\n",
              "      <td>0.647376</td>\n",
              "      <td>-0.221929</td>\n",
              "      <td>0.062723</td>\n",
              "      <td>0.061458</td>\n",
              "      <td>123.50</td>\n",
              "      <td>0</td>\n",
              "    </tr>\n",
              "    <tr>\n",
              "      <th>4</th>\n",
              "      <td>2.0</td>\n",
              "      <td>-1.158233</td>\n",
              "      <td>0.877737</td>\n",
              "      <td>1.548718</td>\n",
              "      <td>0.403034</td>\n",
              "      <td>-0.407193</td>\n",
              "      <td>0.095921</td>\n",
              "      <td>0.592941</td>\n",
              "      <td>-0.270533</td>\n",
              "      <td>0.817739</td>\n",
              "      <td>0.753074</td>\n",
              "      <td>-0.822843</td>\n",
              "      <td>0.538196</td>\n",
              "      <td>1.345852</td>\n",
              "      <td>-1.119670</td>\n",
              "      <td>0.175121</td>\n",
              "      <td>-0.451449</td>\n",
              "      <td>-0.237033</td>\n",
              "      <td>-0.038195</td>\n",
              "      <td>0.803487</td>\n",
              "      <td>0.408542</td>\n",
              "      <td>-0.009431</td>\n",
              "      <td>0.798278</td>\n",
              "      <td>-0.137458</td>\n",
              "      <td>0.141267</td>\n",
              "      <td>-0.206010</td>\n",
              "      <td>0.502292</td>\n",
              "      <td>0.219422</td>\n",
              "      <td>0.215153</td>\n",
              "      <td>69.99</td>\n",
              "      <td>0</td>\n",
              "    </tr>\n",
              "  </tbody>\n",
              "</table>\n",
              "</div>"
            ],
            "text/plain": [
              "   Time        V1        V2        V3  ...       V27       V28  Amount  Class\n",
              "0   0.0 -1.359807 -0.072781  2.536347  ...  0.133558 -0.021053  149.62      0\n",
              "1   0.0  1.191857  0.266151  0.166480  ... -0.008983  0.014724    2.69      0\n",
              "2   1.0 -1.358354 -1.340163  1.773209  ... -0.055353 -0.059752  378.66      0\n",
              "3   1.0 -0.966272 -0.185226  1.792993  ...  0.062723  0.061458  123.50      0\n",
              "4   2.0 -1.158233  0.877737  1.548718  ...  0.219422  0.215153   69.99      0\n",
              "\n",
              "[5 rows x 31 columns]"
            ]
          },
          "metadata": {
            "tags": []
          },
          "execution_count": 20
        }
      ]
    },
    {
      "cell_type": "code",
      "metadata": {
        "id": "xCu2Infx83Pt",
        "colab_type": "code",
        "colab": {
          "base_uri": "https://localhost:8080/",
          "height": 279
        },
        "outputId": "ea1a96e4-746a-4bf8-f615-f89b1d682b6c"
      },
      "source": [
        "import seaborn as sns\n",
        "import matplotlib.pyplot as plt\n",
        "col='V28'\n",
        "\n",
        "sns.distplot(creditcard[col][creditcard.Class == 1], bins=50, color='r')\n",
        "sns.distplot(creditcard[col][creditcard.Class == 0], bins=50, color='g')\n",
        "plt.show()"
      ],
      "execution_count": null,
      "outputs": [
        {
          "output_type": "display_data",
          "data": {
            "image/png": "[encoded data removed]",
            "text/plain": [
              "<Figure size 432x288 with 1 Axes>"
            ]
          },
          "metadata": {
            "tags": []
          }
        }
      ]
    },
    {
      "cell_type": "markdown",
      "metadata": {
        "id": "wS5hmDvyObf2",
        "colab_type": "text"
      },
      "source": [
        "We used the plot above to check the distribution of observations for each featur and one by one , for example V4: shows clear distinction between fraud & genuine transactions, while V28 didn't."
      ]
    },
    {
      "cell_type": "code",
      "metadata": {
        "id": "QX4fqjh5b21k",
        "colab_type": "code",
        "colab": {}
      },
      "source": [
        "## logistic regression after removing some featuers\n",
        "from sklearn.linear_model import LogisticRegression\n",
        "model_lr = LogisticRegression()\n",
        "model_lr.fit(x_train, y_train)\n",
        "ACC_train_lr = model_lr.score(x_train, y_train)\n",
        "ACC_test_lr = model_lr.score(x_test, y_test)\n",
        "print(ACC_train_lr*100)\n",
        "print(ACC_test_lr*100)\n",
        "\n",
        "from sklearn.metrics import accuracy_score\n",
        "from sklearn.metrics import f1_score\n",
        "from sklearn.metrics import recall_score\n",
        "\n",
        "lr_accuracy_score=  accuracy_score(y_test, lr_pred)\n",
        "lr_f1_score= f1_score(y_test, lr_pred)\n",
        "lr_recall_score= recall_score(y_test, lr_pred)\n",
        "\n",
        "from prettytable import PrettyTable\n",
        "t2 = PrettyTable(['Accuracy', 'Logistic (%)' , 'DT (%)' , 'SVM (%)' , 'RF (%)' , 'NB (%)'])\n",
        "t2.add_row(['accuracy_score', lr_accuracy_score*100, dt_accuracy_score*100, svm_accuracy_score*100, rf_accuracy_score*100 , nb_accuracy_score*100])\n",
        "t2.add_row(['f1_score',       lr_f1_score*100      , dt_f1_score*100      , svm_f1_score*100       , rf_f1_score*100       , nb_f1_score*100]      )\n",
        "t2.add_row(['recall_score',   lr_recall_score*100  , dt_recall_score*100  , svm_recall_score*100  , rf_recall_score*100   , nb_recall_score*100]  )\n",
        "print(t2)\n"
      ],
      "execution_count": null,
      "outputs": []
    },
    {
      "cell_type": "code",
      "metadata": {
        "id": "wiLPTVh3txYi",
        "colab_type": "code",
        "colab": {
          "base_uri": "https://localhost:8080/",
          "height": 488
        },
        "outputId": "090cc588-8ac7-43d0-f907-65787a611218"
      },
      "source": [
        "def my_plot(plot_rows,plot_col,i,col):\n",
        "    plt.subplot(plot_rows,plot_col,i)\n",
        "    sns.boxplot(x='Class',y=col,data=creditcard)\n",
        "\n",
        "plt.figure(figsize=(24,12))\n",
        "axs = [ my_plot(6,5,i,'V'+str(i)) for i in range(1,29)]\n"
      ],
      "execution_count": null,
      "outputs": [
        {
          "output_type": "display_data",
          "data": {
            "image/png": "[encoded data removed]",
            "text/plain": [
              "<Figure size 1728x864 with 28 Axes>"
            ]
          },
          "metadata": {
            "tags": [],
            "needs_background": "light"
          }
        }
      ]
    },
    {
      "cell_type": "code",
      "metadata": {
        "id": "ACtKZJ7eFwRo",
        "colab_type": "code",
        "colab": {
          "base_uri": "https://localhost:8080/",
          "height": 279
        },
        "outputId": "2fa5c29d-f660-4752-9e79-8d7cfa3cc929"
      },
      "source": [
        "sns.boxplot(x = \"Class\", y = \"Time\", data = creditcard)\n",
        "plt.show()"
      ],
      "execution_count": null,
      "outputs": [
        {
          "output_type": "display_data",
          "data": {
            "image/png": "[encoded data removed]",
            "text/plain": [
              "<Figure size 432x288 with 1 Axes>"
            ]
          },
          "metadata": {
            "tags": [],
            "needs_background": "light"
          }
        }
      ]
    },
    {
      "cell_type": "code",
      "metadata": {
        "id": "fVUhmVkT09Zb",
        "colab_type": "code",
        "colab": {
          "base_uri": "https://localhost:8080/",
          "height": 495
        },
        "outputId": "671eb129-b989-4232-a812-bc4064abf60b"
      },
      "source": [
        "sns.set_style(\"whitegrid\")\n",
        "sns.FacetGrid(creditcard, hue=\"Class\", size = 6).map(plt.scatter, \"Time\", \"Amount\").add_legend()\n",
        "plt.show()"
      ],
      "execution_count": null,
      "outputs": [
        {
          "output_type": "stream",
          "text": [
            "/usr/local/lib/python3.6/dist-packages/seaborn/axisgrid.py:243: UserWarning: The `size` parameter has been renamed to `height`; please update your code.\n",
            "  warnings.warn(msg, UserWarning)\n"
          ],
          "name": "stderr"
        },
        {
          "output_type": "display_data",
          "data": {
            "image/png": "[encoded data removed]",
            "text/plain": [
              "<Figure size 474.375x432 with 1 Axes>"
            ]
          },
          "metadata": {
            "tags": []
          }
        }
      ]
    },
    {
      "cell_type": "markdown",
      "metadata": {
        "id": "LrurYDXdFwRr",
        "colab_type": "text"
      },
      "source": [
        "Observations:\n",
        "\n",
        "By looking at the above plot we can say that both fraud & genuine transactions occur throughout time and there is no distinction between them."
      ]
    },
    {
      "cell_type": "code",
      "metadata": {
        "id": "eO6e7PhB5OuR",
        "colab_type": "code",
        "colab": {
          "base_uri": "https://localhost:8080/",
          "height": 279
        },
        "outputId": "d7153b6b-79b1-4819-eae3-a68477023614"
      },
      "source": [
        "sns.scatterplot(x = \"Class\", y = \"Amount\", data = creditcard)\n",
        "plt.show()"
      ],
      "execution_count": null,
      "outputs": [
        {
          "output_type": "display_data",
          "data": {
            "image/png": "[encoded data removed]",
            "text/plain": [
              "<Figure size 432x288 with 1 Axes>"
            ]
          },
          "metadata": {
            "tags": []
          }
        }
      ]
    },
    {
      "cell_type": "markdown",
      "metadata": {
        "id": "5nAc8QOeFwRu",
        "colab_type": "text"
      },
      "source": [
        "Observations:\n",
        "\n",
        "From above box plot we can easily infer that there are no fraud transactions occur above the transaction amount of 3000. All of the fraud transactions have transaction amount less than 3000. However, there are many transactions which have a transaction amount greater than 3000 and all of them are genuine."
      ]
    },
    {
      "cell_type": "markdown",
      "metadata": {
        "id": "e_KmCnlJF2No",
        "colab_type": "text"
      },
      "source": [
        "**ECDF**"
      ]
    },
    {
      "cell_type": "code",
      "metadata": {
        "id": "JqaQccHsF9K6",
        "colab_type": "code",
        "colab": {}
      },
      "source": [
        "# Creating our ecdf function\n",
        "def ecdf(data,i):\n",
        "    xaxis = np.sort(data)\n",
        "    yaxis = np.arange(1,len(data)+1)/len(data)\n",
        "    plt.plot(xaxis,yaxis,linestyle='none',marker='.')\n",
        "    plt.title('ECDF of average V'+str(i))\n",
        "\n",
        "creditcardFraud=creditcard[creditcard['Class']==1]\n",
        "creditcardNotFraud=creditcard[creditcard['Class']==0]\n",
        "\n",
        "for i in range(1,29):\n",
        "    ecdf(creditcardFraud['V'+str(i)],i)\n",
        "    ecdf(creditcardNotFraud['V'+str(i)],i)\n",
        "    plt.show()\n"
      ],
      "execution_count": null,
      "outputs": []
    },
    {
      "cell_type": "code",
      "metadata": {
        "id": "DlIviRDTO4kN",
        "colab_type": "code",
        "colab": {}
      },
      "source": [
        "# Creating our ecdf function\n",
        "creditcardFraud=creditcard[creditcard['Class']==1]\n",
        "creditcardNotFraud=creditcard[creditcard['Class']==0]\n",
        "\n",
        "for i in range(1,29):\n",
        "    xaxis = np.sort(creditcardFraud['V'+str(i)])\n",
        "    yaxis = np.arange(1,len(creditcardFraud['V'+str(i)])+1)/len(creditcardFraud['V'+str(i)])\n",
        "    plt.plot(xaxis,yaxis,linestyle='none',marker='.')\n",
        "    plt.title('ECDF of average V'+str(i))\n",
        "    if i%4 == 0:\n",
        "       plt.show()\n"
      ],
      "execution_count": null,
      "outputs": []
    },
    {
      "cell_type": "markdown",
      "metadata": {
        "id": "eeLFM-jTloZt",
        "colab_type": "text"
      },
      "source": [
        "#Try Different classifiers (unbalanced) [OK]"
      ]
    },
    {
      "cell_type": "code",
      "metadata": {
        "id": "l42qxWRa4L5Y",
        "colab_type": "code",
        "colab": {
          "base_uri": "https://localhost:8080/",
          "height": 34
        },
        "outputId": "36be2da4-8542-4094-94b9-5dbd9f83a752"
      },
      "source": [
        "from sklearn.model_selection import train_test_split\n",
        "x = creditcard.drop('Class',axis=1)\n",
        "y = creditcard.Class\n",
        "x_train, x_test, y_train, y_test = train_test_split(x,y,test_size=0.2)\n",
        "print('size of test dataset = {}, size of traing data = {}, percentage = {}%'.format(len(x_test),len(x_train),len(x_test)*100/(len(x_test) + len(x_train))))"
      ],
      "execution_count": null,
      "outputs": [
        {
          "output_type": "stream",
          "text": [
            "size of test dataset = 56962, size of traing data = 227845, percentage = 20.000210668979342%\n"
          ],
          "name": "stdout"
        }
      ]
    },
    {
      "cell_type": "code",
      "metadata": {
        "id": "0LcJURKW4uTK",
        "colab_type": "code",
        "colab": {
          "base_uri": "https://localhost:8080/",
          "height": 422
        },
        "outputId": "0b1e979f-9a25-4165-c1ba-75212ec22b16"
      },
      "source": [
        "x"
      ],
      "execution_count": null,
      "outputs": [
        {
          "output_type": "execute_result",
          "data": {
            "text/html": [
              "<div>\n",
              "<style scoped>\n",
              "    .dataframe tbody tr th:only-of-type {\n",
              "        vertical-align: middle;\n",
              "    }\n",
              "\n",
              "    .dataframe tbody tr th {\n",
              "        vertical-align: top;\n",
              "    }\n",
              "\n",
              "    .dataframe thead th {\n",
              "        text-align: right;\n",
              "    }\n",
              "</style>\n",
              "<table border=\"1\" class=\"dataframe\">\n",
              "  <thead>\n",
              "    <tr style=\"text-align: right;\">\n",
              "      <th></th>\n",
              "      <th>Time</th>\n",
              "      <th>V1</th>\n",
              "      <th>V2</th>\n",
              "      <th>V3</th>\n",
              "      <th>V4</th>\n",
              "      <th>V5</th>\n",
              "      <th>V6</th>\n",
              "      <th>V7</th>\n",
              "      <th>V8</th>\n",
              "      <th>V9</th>\n",
              "      <th>V10</th>\n",
              "      <th>V11</th>\n",
              "      <th>V12</th>\n",
              "      <th>V13</th>\n",
              "      <th>V14</th>\n",
              "      <th>V15</th>\n",
              "      <th>V16</th>\n",
              "      <th>V17</th>\n",
              "      <th>V18</th>\n",
              "      <th>V19</th>\n",
              "      <th>V20</th>\n",
              "      <th>V21</th>\n",
              "      <th>V22</th>\n",
              "      <th>V23</th>\n",
              "      <th>V24</th>\n",
              "      <th>V25</th>\n",
              "      <th>V26</th>\n",
              "      <th>V27</th>\n",
              "      <th>V28</th>\n",
              "      <th>Amount</th>\n",
              "    </tr>\n",
              "  </thead>\n",
              "  <tbody>\n",
              "    <tr>\n",
              "      <th>0</th>\n",
              "      <td>0.0</td>\n",
              "      <td>-1.359807</td>\n",
              "      <td>-0.072781</td>\n",
              "      <td>2.536347</td>\n",
              "      <td>1.378155</td>\n",
              "      <td>-0.338321</td>\n",
              "      <td>0.462388</td>\n",
              "      <td>0.239599</td>\n",
              "      <td>0.098698</td>\n",
              "      <td>0.363787</td>\n",
              "      <td>0.090794</td>\n",
              "      <td>-0.551600</td>\n",
              "      <td>-0.617801</td>\n",
              "      <td>-0.991390</td>\n",
              "      <td>-0.311169</td>\n",
              "      <td>1.468177</td>\n",
              "      <td>-0.470401</td>\n",
              "      <td>0.207971</td>\n",
              "      <td>0.025791</td>\n",
              "      <td>0.403993</td>\n",
              "      <td>0.251412</td>\n",
              "      <td>-0.018307</td>\n",
              "      <td>0.277838</td>\n",
              "      <td>-0.110474</td>\n",
              "      <td>0.066928</td>\n",
              "      <td>0.128539</td>\n",
              "      <td>-0.189115</td>\n",
              "      <td>0.133558</td>\n",
              "      <td>-0.021053</td>\n",
              "      <td>149.62</td>\n",
              "    </tr>\n",
              "    <tr>\n",
              "      <th>1</th>\n",
              "      <td>0.0</td>\n",
              "      <td>1.191857</td>\n",
              "      <td>0.266151</td>\n",
              "      <td>0.166480</td>\n",
              "      <td>0.448154</td>\n",
              "      <td>0.060018</td>\n",
              "      <td>-0.082361</td>\n",
              "      <td>-0.078803</td>\n",
              "      <td>0.085102</td>\n",
              "      <td>-0.255425</td>\n",
              "      <td>-0.166974</td>\n",
              "      <td>1.612727</td>\n",
              "      <td>1.065235</td>\n",
              "      <td>0.489095</td>\n",
              "      <td>-0.143772</td>\n",
              "      <td>0.635558</td>\n",
              "      <td>0.463917</td>\n",
              "      <td>-0.114805</td>\n",
              "      <td>-0.183361</td>\n",
              "      <td>-0.145783</td>\n",
              "      <td>-0.069083</td>\n",
              "      <td>-0.225775</td>\n",
              "      <td>-0.638672</td>\n",
              "      <td>0.101288</td>\n",
              "      <td>-0.339846</td>\n",
              "      <td>0.167170</td>\n",
              "      <td>0.125895</td>\n",
              "      <td>-0.008983</td>\n",
              "      <td>0.014724</td>\n",
              "      <td>2.69</td>\n",
              "    </tr>\n",
              "    <tr>\n",
              "      <th>2</th>\n",
              "      <td>1.0</td>\n",
              "      <td>-1.358354</td>\n",
              "      <td>-1.340163</td>\n",
              "      <td>1.773209</td>\n",
              "      <td>0.379780</td>\n",
              "      <td>-0.503198</td>\n",
              "      <td>1.800499</td>\n",
              "      <td>0.791461</td>\n",
              "      <td>0.247676</td>\n",
              "      <td>-1.514654</td>\n",
              "      <td>0.207643</td>\n",
              "      <td>0.624501</td>\n",
              "      <td>0.066084</td>\n",
              "      <td>0.717293</td>\n",
              "      <td>-0.165946</td>\n",
              "      <td>2.345865</td>\n",
              "      <td>-2.890083</td>\n",
              "      <td>1.109969</td>\n",
              "      <td>-0.121359</td>\n",
              "      <td>-2.261857</td>\n",
              "      <td>0.524980</td>\n",
              "      <td>0.247998</td>\n",
              "      <td>0.771679</td>\n",
              "      <td>0.909412</td>\n",
              "      <td>-0.689281</td>\n",
              "      <td>-0.327642</td>\n",
              "      <td>-0.139097</td>\n",
              "      <td>-0.055353</td>\n",
              "      <td>-0.059752</td>\n",
              "      <td>378.66</td>\n",
              "    </tr>\n",
              "    <tr>\n",
              "      <th>3</th>\n",
              "      <td>1.0</td>\n",
              "      <td>-0.966272</td>\n",
              "      <td>-0.185226</td>\n",
              "      <td>1.792993</td>\n",
              "      <td>-0.863291</td>\n",
              "      <td>-0.010309</td>\n",
              "      <td>1.247203</td>\n",
              "      <td>0.237609</td>\n",
              "      <td>0.377436</td>\n",
              "      <td>-1.387024</td>\n",
              "      <td>-0.054952</td>\n",
              "      <td>-0.226487</td>\n",
              "      <td>0.178228</td>\n",
              "      <td>0.507757</td>\n",
              "      <td>-0.287924</td>\n",
              "      <td>-0.631418</td>\n",
              "      <td>-1.059647</td>\n",
              "      <td>-0.684093</td>\n",
              "      <td>1.965775</td>\n",
              "      <td>-1.232622</td>\n",
              "      <td>-0.208038</td>\n",
              "      <td>-0.108300</td>\n",
              "      <td>0.005274</td>\n",
              "      <td>-0.190321</td>\n",
              "      <td>-1.175575</td>\n",
              "      <td>0.647376</td>\n",
              "      <td>-0.221929</td>\n",
              "      <td>0.062723</td>\n",
              "      <td>0.061458</td>\n",
              "      <td>123.50</td>\n",
              "    </tr>\n",
              "    <tr>\n",
              "      <th>4</th>\n",
              "      <td>2.0</td>\n",
              "      <td>-1.158233</td>\n",
              "      <td>0.877737</td>\n",
              "      <td>1.548718</td>\n",
              "      <td>0.403034</td>\n",
              "      <td>-0.407193</td>\n",
              "      <td>0.095921</td>\n",
              "      <td>0.592941</td>\n",
              "      <td>-0.270533</td>\n",
              "      <td>0.817739</td>\n",
              "      <td>0.753074</td>\n",
              "      <td>-0.822843</td>\n",
              "      <td>0.538196</td>\n",
              "      <td>1.345852</td>\n",
              "      <td>-1.119670</td>\n",
              "      <td>0.175121</td>\n",
              "      <td>-0.451449</td>\n",
              "      <td>-0.237033</td>\n",
              "      <td>-0.038195</td>\n",
              "      <td>0.803487</td>\n",
              "      <td>0.408542</td>\n",
              "      <td>-0.009431</td>\n",
              "      <td>0.798278</td>\n",
              "      <td>-0.137458</td>\n",
              "      <td>0.141267</td>\n",
              "      <td>-0.206010</td>\n",
              "      <td>0.502292</td>\n",
              "      <td>0.219422</td>\n",
              "      <td>0.215153</td>\n",
              "      <td>69.99</td>\n",
              "    </tr>\n",
              "    <tr>\n",
              "      <th>...</th>\n",
              "      <td>...</td>\n",
              "      <td>...</td>\n",
              "      <td>...</td>\n",
              "      <td>...</td>\n",
              "      <td>...</td>\n",
              "      <td>...</td>\n",
              "      <td>...</td>\n",
              "      <td>...</td>\n",
              "      <td>...</td>\n",
              "      <td>...</td>\n",
              "      <td>...</td>\n",
              "      <td>...</td>\n",
              "      <td>...</td>\n",
              "      <td>...</td>\n",
              "      <td>...</td>\n",
              "      <td>...</td>\n",
              "      <td>...</td>\n",
              "      <td>...</td>\n",
              "      <td>...</td>\n",
              "      <td>...</td>\n",
              "      <td>...</td>\n",
              "      <td>...</td>\n",
              "      <td>...</td>\n",
              "      <td>...</td>\n",
              "      <td>...</td>\n",
              "      <td>...</td>\n",
              "      <td>...</td>\n",
              "      <td>...</td>\n",
              "      <td>...</td>\n",
              "      <td>...</td>\n",
              "    </tr>\n",
              "    <tr>\n",
              "      <th>284802</th>\n",
              "      <td>172786.0</td>\n",
              "      <td>-11.881118</td>\n",
              "      <td>10.071785</td>\n",
              "      <td>-9.834783</td>\n",
              "      <td>-2.066656</td>\n",
              "      <td>-5.364473</td>\n",
              "      <td>-2.606837</td>\n",
              "      <td>-4.918215</td>\n",
              "      <td>7.305334</td>\n",
              "      <td>1.914428</td>\n",
              "      <td>4.356170</td>\n",
              "      <td>-1.593105</td>\n",
              "      <td>2.711941</td>\n",
              "      <td>-0.689256</td>\n",
              "      <td>4.626942</td>\n",
              "      <td>-0.924459</td>\n",
              "      <td>1.107641</td>\n",
              "      <td>1.991691</td>\n",
              "      <td>0.510632</td>\n",
              "      <td>-0.682920</td>\n",
              "      <td>1.475829</td>\n",
              "      <td>0.213454</td>\n",
              "      <td>0.111864</td>\n",
              "      <td>1.014480</td>\n",
              "      <td>-0.509348</td>\n",
              "      <td>1.436807</td>\n",
              "      <td>0.250034</td>\n",
              "      <td>0.943651</td>\n",
              "      <td>0.823731</td>\n",
              "      <td>0.77</td>\n",
              "    </tr>\n",
              "    <tr>\n",
              "      <th>284803</th>\n",
              "      <td>172787.0</td>\n",
              "      <td>-0.732789</td>\n",
              "      <td>-0.055080</td>\n",
              "      <td>2.035030</td>\n",
              "      <td>-0.738589</td>\n",
              "      <td>0.868229</td>\n",
              "      <td>1.058415</td>\n",
              "      <td>0.024330</td>\n",
              "      <td>0.294869</td>\n",
              "      <td>0.584800</td>\n",
              "      <td>-0.975926</td>\n",
              "      <td>-0.150189</td>\n",
              "      <td>0.915802</td>\n",
              "      <td>1.214756</td>\n",
              "      <td>-0.675143</td>\n",
              "      <td>1.164931</td>\n",
              "      <td>-0.711757</td>\n",
              "      <td>-0.025693</td>\n",
              "      <td>-1.221179</td>\n",
              "      <td>-1.545556</td>\n",
              "      <td>0.059616</td>\n",
              "      <td>0.214205</td>\n",
              "      <td>0.924384</td>\n",
              "      <td>0.012463</td>\n",
              "      <td>-1.016226</td>\n",
              "      <td>-0.606624</td>\n",
              "      <td>-0.395255</td>\n",
              "      <td>0.068472</td>\n",
              "      <td>-0.053527</td>\n",
              "      <td>24.79</td>\n",
              "    </tr>\n",
              "    <tr>\n",
              "      <th>284804</th>\n",
              "      <td>172788.0</td>\n",
              "      <td>1.919565</td>\n",
              "      <td>-0.301254</td>\n",
              "      <td>-3.249640</td>\n",
              "      <td>-0.557828</td>\n",
              "      <td>2.630515</td>\n",
              "      <td>3.031260</td>\n",
              "      <td>-0.296827</td>\n",
              "      <td>0.708417</td>\n",
              "      <td>0.432454</td>\n",
              "      <td>-0.484782</td>\n",
              "      <td>0.411614</td>\n",
              "      <td>0.063119</td>\n",
              "      <td>-0.183699</td>\n",
              "      <td>-0.510602</td>\n",
              "      <td>1.329284</td>\n",
              "      <td>0.140716</td>\n",
              "      <td>0.313502</td>\n",
              "      <td>0.395652</td>\n",
              "      <td>-0.577252</td>\n",
              "      <td>0.001396</td>\n",
              "      <td>0.232045</td>\n",
              "      <td>0.578229</td>\n",
              "      <td>-0.037501</td>\n",
              "      <td>0.640134</td>\n",
              "      <td>0.265745</td>\n",
              "      <td>-0.087371</td>\n",
              "      <td>0.004455</td>\n",
              "      <td>-0.026561</td>\n",
              "      <td>67.88</td>\n",
              "    </tr>\n",
              "    <tr>\n",
              "      <th>284805</th>\n",
              "      <td>172788.0</td>\n",
              "      <td>-0.240440</td>\n",
              "      <td>0.530483</td>\n",
              "      <td>0.702510</td>\n",
              "      <td>0.689799</td>\n",
              "      <td>-0.377961</td>\n",
              "      <td>0.623708</td>\n",
              "      <td>-0.686180</td>\n",
              "      <td>0.679145</td>\n",
              "      <td>0.392087</td>\n",
              "      <td>-0.399126</td>\n",
              "      <td>-1.933849</td>\n",
              "      <td>-0.962886</td>\n",
              "      <td>-1.042082</td>\n",
              "      <td>0.449624</td>\n",
              "      <td>1.962563</td>\n",
              "      <td>-0.608577</td>\n",
              "      <td>0.509928</td>\n",
              "      <td>1.113981</td>\n",
              "      <td>2.897849</td>\n",
              "      <td>0.127434</td>\n",
              "      <td>0.265245</td>\n",
              "      <td>0.800049</td>\n",
              "      <td>-0.163298</td>\n",
              "      <td>0.123205</td>\n",
              "      <td>-0.569159</td>\n",
              "      <td>0.546668</td>\n",
              "      <td>0.108821</td>\n",
              "      <td>0.104533</td>\n",
              "      <td>10.00</td>\n",
              "    </tr>\n",
              "    <tr>\n",
              "      <th>284806</th>\n",
              "      <td>172792.0</td>\n",
              "      <td>-0.533413</td>\n",
              "      <td>-0.189733</td>\n",
              "      <td>0.703337</td>\n",
              "      <td>-0.506271</td>\n",
              "      <td>-0.012546</td>\n",
              "      <td>-0.649617</td>\n",
              "      <td>1.577006</td>\n",
              "      <td>-0.414650</td>\n",
              "      <td>0.486180</td>\n",
              "      <td>-0.915427</td>\n",
              "      <td>-1.040458</td>\n",
              "      <td>-0.031513</td>\n",
              "      <td>-0.188093</td>\n",
              "      <td>-0.084316</td>\n",
              "      <td>0.041333</td>\n",
              "      <td>-0.302620</td>\n",
              "      <td>-0.660377</td>\n",
              "      <td>0.167430</td>\n",
              "      <td>-0.256117</td>\n",
              "      <td>0.382948</td>\n",
              "      <td>0.261057</td>\n",
              "      <td>0.643078</td>\n",
              "      <td>0.376777</td>\n",
              "      <td>0.008797</td>\n",
              "      <td>-0.473649</td>\n",
              "      <td>-0.818267</td>\n",
              "      <td>-0.002415</td>\n",
              "      <td>0.013649</td>\n",
              "      <td>217.00</td>\n",
              "    </tr>\n",
              "  </tbody>\n",
              "</table>\n",
              "<p>284807 rows × 30 columns</p>\n",
              "</div>"
            ],
            "text/plain": [
              "            Time         V1         V2  ...       V27       V28  Amount\n",
              "0            0.0  -1.359807  -0.072781  ...  0.133558 -0.021053  149.62\n",
              "1            0.0   1.191857   0.266151  ... -0.008983  0.014724    2.69\n",
              "2            1.0  -1.358354  -1.340163  ... -0.055353 -0.059752  378.66\n",
              "3            1.0  -0.966272  -0.185226  ...  0.062723  0.061458  123.50\n",
              "4            2.0  -1.158233   0.877737  ...  0.219422  0.215153   69.99\n",
              "...          ...        ...        ...  ...       ...       ...     ...\n",
              "284802  172786.0 -11.881118  10.071785  ...  0.943651  0.823731    0.77\n",
              "284803  172787.0  -0.732789  -0.055080  ...  0.068472 -0.053527   24.79\n",
              "284804  172788.0   1.919565  -0.301254  ...  0.004455 -0.026561   67.88\n",
              "284805  172788.0  -0.240440   0.530483  ...  0.108821  0.104533   10.00\n",
              "284806  172792.0  -0.533413  -0.189733  ... -0.002415  0.013649  217.00\n",
              "\n",
              "[284807 rows x 30 columns]"
            ]
          },
          "metadata": {
            "tags": []
          },
          "execution_count": 35
        }
      ]
    },
    {
      "cell_type": "code",
      "metadata": {
        "id": "eiaplVab4vu_",
        "colab_type": "code",
        "colab": {}
      },
      "source": [
        "y"
      ],
      "execution_count": null,
      "outputs": []
    },
    {
      "cell_type": "code",
      "metadata": {
        "id": "il-Q3p2i5urf",
        "colab_type": "code",
        "colab": {}
      },
      "source": [
        "## logistic regression\n",
        "from sklearn.linear_model import LogisticRegression\n",
        "model_lr = LogisticRegression()\n",
        "model_lr.fit(x_train, y_train)\n",
        "ACC_train_lr = model_lr.score(x_train, y_train)\n",
        "ACC_test_lr = model_lr.score(x_test, y_test)\n",
        "print(ACC_train_lr*100)\n",
        "print(ACC_test_lr*100)"
      ],
      "execution_count": null,
      "outputs": []
    },
    {
      "cell_type": "code",
      "metadata": {
        "id": "ZFj46Gds5RlJ",
        "colab_type": "code",
        "colab": {
          "base_uri": "https://localhost:8080/",
          "height": 52
        },
        "outputId": "c3407389-3b2e-4d43-eb20-8a14b38e7883"
      },
      "source": [
        "##  Decision tree\n",
        "from sklearn import tree\n",
        "model_dt = tree.DecisionTreeClassifier()\n",
        "model_dt.fit(x_train,y_train)\n",
        "ACC_train_dt = model_dt.score(x_train,y_train)\n",
        "ACC_test_dt = model_dt.score(x_test,y_test)\n",
        "print(ACC_train_dt*100)\n",
        "print(ACC_test_dt*100)"
      ],
      "execution_count": null,
      "outputs": [
        {
          "output_type": "stream",
          "text": [
            "100.0\n",
            "99.9438221972543\n"
          ],
          "name": "stdout"
        }
      ]
    },
    {
      "cell_type": "code",
      "metadata": {
        "id": "2S6Ner1c65NK",
        "colab_type": "code",
        "colab": {
          "base_uri": "https://localhost:8080/",
          "height": 52
        },
        "outputId": "946268eb-ebe6-4005-8e0a-9744cf94d812"
      },
      "source": [
        "## Support Vector Machine\n",
        "from sklearn.svm import SVC \n",
        "model_svm = SVC()\n",
        "model_svm.fit(x_train, y_train)\n",
        "ACC_train_svm = model_svm.score(x_train, y_train)\n",
        "ACC_test_svm = model_svm.score(x_test, y_test)\n",
        "print(ACC_train_svm*100)\n",
        "print(ACC_test_svm*100)\n"
      ],
      "execution_count": null,
      "outputs": [
        {
          "output_type": "stream",
          "text": [
            "99.82488094976848\n",
            "99.83673326077034\n"
          ],
          "name": "stdout"
        }
      ]
    },
    {
      "cell_type": "code",
      "metadata": {
        "id": "c4jkgEHG7li2",
        "colab_type": "code",
        "colab": {
          "base_uri": "https://localhost:8080/",
          "height": 52
        },
        "outputId": "2b47ede0-ba2b-4b8a-f650-39e5b76cd593"
      },
      "source": [
        "## Random Forest \n",
        "from sklearn.ensemble import RandomForestClassifier \n",
        "model_rf = RandomForestClassifier()\n",
        "model_rf.fit(x_train,y_train)\n",
        "ACC_train_rf = model_rf.score(x_train, y_train)\n",
        "ACC_test_rf = model_rf.score(x_test, y_test)\n",
        "print(ACC_train_rf*100)\n",
        "print(ACC_test_rf*100)"
      ],
      "execution_count": null,
      "outputs": [
        {
          "output_type": "stream",
          "text": [
            "100.0\n",
            "99.96839998595554\n"
          ],
          "name": "stdout"
        }
      ]
    },
    {
      "cell_type": "code",
      "metadata": {
        "id": "qcvqTBP8D8y3",
        "colab_type": "code",
        "colab": {
          "base_uri": "https://localhost:8080/",
          "height": 52
        },
        "outputId": "cff02617-b13c-4b40-d1a9-a46df61b555c"
      },
      "source": [
        "## Naive Bayse\n",
        "from sklearn.naive_bayes import GaussianNB\n",
        "model_nb = GaussianNB()\n",
        "model_nb.fit(x_train,y_train)\n",
        "ACC_train_nb = model_nb.score(x_train,y_train)\n",
        "ACC_test_nb = model_nb.score(x_test,y_test)\n",
        "print(ACC_train_nb*100)\n",
        "print(ACC_test_nb*100)"
      ],
      "execution_count": null,
      "outputs": [
        {
          "output_type": "stream",
          "text": [
            "99.26485110491782\n",
            "99.26968856430602\n"
          ],
          "name": "stdout"
        }
      ]
    },
    {
      "cell_type": "code",
      "metadata": {
        "id": "MmKCgZ4z56pH",
        "colab_type": "code",
        "colab": {
          "base_uri": "https://localhost:8080/",
          "height": 122
        },
        "outputId": "b26f8154-6cc7-4f9c-f8fe-5e996ba716b7"
      },
      "source": [
        "from prettytable import PrettyTable\n",
        "t = PrettyTable(['Accuracy', 'Logistic (%)' , 'DT (%)' , 'SVM (%)' , 'RF (%)' , 'NB (%)'])\n",
        "t.add_row(['Training', ACC_train_lr*100, ACC_train_dt*100, ACC_train_svm*100, ACC_train_rf*100 , ACC_train_nb*100])\n",
        "t.add_row(['Testing', ACC_test_lr*100, ACC_test_dt*100, ACC_test_svm*100, ACC_test_rf*100 , ACC_test_nb*100])\n",
        "print(t)"
      ],
      "execution_count": null,
      "outputs": [
        {
          "output_type": "stream",
          "text": [
            "+----------+-------------------+------------------+-------------------+-------------------+-------------------+\n",
            "| Accuracy |    Logistic (%)   |      DT (%)      |      SVM (%)      |       RF (%)      |       NB (%)      |\n",
            "+----------+-------------------+------------------+-------------------+-------------------+-------------------+\n",
            "| Training | 99.88720402027694 |      100.0       | 99.82488094976848 |       100.0       | 99.26485110491782 |\n",
            "| Testing  | 99.89993328885924 | 99.9438221972543 | 99.83673326077034 | 99.96839998595554 | 99.26968856430602 |\n",
            "+----------+-------------------+------------------+-------------------+-------------------+-------------------+\n"
          ],
          "name": "stdout"
        }
      ]
    },
    {
      "cell_type": "code",
      "metadata": {
        "id": "xzEUWiVaIHJd",
        "colab_type": "code",
        "colab": {}
      },
      "source": [
        "# use differant performance metric on DT\n",
        "lr_pred = model_lr.predict(x_test)\n",
        "dt_pred = model_dt.predict(x_test)\n",
        "svm_pred = model_svm.predict(x_test)\n",
        "rf_pred = model_rf.predict(x_test)\n",
        "nb_pred = model_nb.predict(x_test)"
      ],
      "execution_count": null,
      "outputs": []
    },
    {
      "cell_type": "code",
      "metadata": {
        "id": "ERTfR-U2Q4Jh",
        "colab_type": "code",
        "colab": {}
      },
      "source": [
        "from sklearn.metrics import accuracy_score\n",
        "lr_accuracy_score=  accuracy_score(y_test, lr_pred)\n",
        "dt_accuracy_score=  accuracy_score(y_test, dt_pred)\n",
        "svm_accuracy_score=  accuracy_score(y_test, svm_pred)\n",
        "rf_accuracy_score=  accuracy_score(y_test, rf_pred)\n",
        "nb_accuracy_score=  accuracy_score(y_test, nb_pred)\n",
        "\n",
        "from sklearn.metrics import f1_score\n",
        "# f1 score : F1 score reaches its best value at 1 and worst score at 0\n",
        "lr_f1_score= f1_score(y_test, lr_pred)\n",
        "dt_f1_score= f1_score(y_test, dt_pred)\n",
        "svm_f1_score= f1_score(y_test, svm_pred)\n",
        "rf_f1_score= f1_score(y_test, rf_pred)\n",
        "nb_f1_score= f1_score(y_test, nb_pred)\n",
        "\n",
        "from sklearn.metrics import recall_score\n",
        "# recall score : The best value is 1 and the worst value is 0\n",
        "lr_recall_score= recall_score(y_test, lr_pred)\n",
        "dt_recall_score= recall_score(y_test, dt_pred)\n",
        "svm_recall_score= recall_score(y_test, svm_pred)\n",
        "rf_recall_score= recall_score(y_test, rf_pred)\n",
        "nb_recall_score= recall_score(y_test, nb_pred)"
      ],
      "execution_count": null,
      "outputs": []
    },
    {
      "cell_type": "code",
      "metadata": {
        "id": "GmWuYRrcJiT7",
        "colab_type": "code",
        "colab": {
          "base_uri": "https://localhost:8080/",
          "height": 140
        },
        "outputId": "3be3dbdf-f120-4ca4-892f-208c7bc26d8c"
      },
      "source": [
        "from prettytable import PrettyTable\n",
        "t2 = PrettyTable(['Accuracy', 'Logistic (%)' , 'DT (%)' , 'SVM (%)' , 'RF (%)' , 'NB (%)'])\n",
        "t2.add_row(['accuracy_score', lr_accuracy_score*100, dt_accuracy_score*100, svm_accuracy_score*100, rf_accuracy_score*100 , nb_accuracy_score*100])\n",
        "t2.add_row(['f1_score',       lr_f1_score*100      , dt_f1_score*100      , svm_f1_score*100       , rf_f1_score*100       , nb_f1_score*100]      )\n",
        "t2.add_row(['recall_score',   lr_recall_score*100  , dt_recall_score*100  , svm_recall_score*100  , rf_recall_score*100   , nb_recall_score*100]  )\n",
        "print(t2)"
      ],
      "execution_count": null,
      "outputs": [
        {
          "output_type": "stream",
          "text": [
            "+----------------+-------------------+-------------------+-------------------+-------------------+-------------------+\n",
            "|    Accuracy    |    Logistic (%)   |       DT (%)      |      SVM (%)      |       RF (%)      |       NB (%)      |\n",
            "+----------------+-------------------+-------------------+-------------------+-------------------+-------------------+\n",
            "| accuracy_score | 99.89993328885924 |  99.9438221972543 | 99.83673326077034 | 99.96839998595554 | 99.26968856430602 |\n",
            "|    f1_score    | 70.76923076923077 | 82.22222222222221 |        0.0        | 89.53488372093022 | 23.80952380952381 |\n",
            "|  recall_score  | 74.19354838709677 | 79.56989247311827 |        0.0        | 82.79569892473118 | 69.89247311827957 |\n",
            "+----------------+-------------------+-------------------+-------------------+-------------------+-------------------+\n"
          ],
          "name": "stdout"
        }
      ]
    },
    {
      "cell_type": "markdown",
      "metadata": {
        "id": "Ol-SUQB0GY4J",
        "colab_type": "text"
      },
      "source": [
        "# Cross Validation KFOLD [OK]"
      ]
    },
    {
      "cell_type": "markdown",
      "metadata": {
        "id": "IebVsWSsMHtd",
        "colab_type": "text"
      },
      "source": [
        "**Cross Validation** is a very useful technique for assessing the performance of machine learning models. It helps in knowing how the machine learning model would generalize to an independent data set. and to estimate how accurate your model will predict in practice."
      ]
    },
    {
      "cell_type": "code",
      "metadata": {
        "id": "yZp7G_H0GeWA",
        "colab_type": "code",
        "colab": {}
      },
      "source": [
        "from sklearn.model_selection import cross_val_score\n",
        "\n",
        "##LR\n",
        "from sklearn.linear_model import LogisticRegression\n",
        "ACC_test_lr = cross_val_score(LogisticRegression(),x,y)\n",
        "\n",
        "##DT\n",
        "from sklearn.tree import DecisionTreeClassifier\n",
        "ACC_test_dt = cross_val_score(DecisionTreeClassifier(),x,y)\n",
        "\n",
        "##SVM\n",
        "from sklearn.svm import SVC\n",
        "ACC_test_svm = cross_val_score(SVC(),x,y)\n",
        "\n",
        "##RF\n",
        "from sklearn.ensemble import RandomForestClassifier\n",
        "ACC_test_rf = cross_val_score(RandomForestClassifier(),x,y)\n",
        "\n",
        "##NB\n",
        "from sklearn.naive_bayes import GaussianNB\n",
        "ACC_test_nb = cross_val_score(GaussianNB(),x,y)\n",
        "\n",
        "\n",
        "ACC_test_lr_mean = np.mean(ACC_test_lr);\n",
        "ACC_test_dt_mean = np.mean(ACC_test_dt);\n",
        "ACC_test_svm_mean = np.mean(ACC_test_svm);\n",
        "ACC_test_rf_mean = np.mean(ACC_test_rf);\n",
        "ACC_test_nb_mean = np.mean(ACC_test_nb);\n",
        "\n",
        "\n",
        "from prettytable import PrettyTable\n",
        "t = PrettyTable(['KVC Accuracy', 'Logistic (%)' , 'DT (%)' , 'SVM (%)' , 'RF (%)', 'NB (%)'])\n",
        "t.add_row(['Testing', ACC_test_lr_mean*100, ACC_test_dt_mean*100, ACC_test_svm_mean*100, ACC_test_rf_mean*100, ACC_test_nb_mean*100])\n",
        "print(t)"
      ],
      "execution_count": null,
      "outputs": []
    }
  ]
}